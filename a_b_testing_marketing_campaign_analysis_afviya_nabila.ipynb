{
  "nbformat": 4,
  "nbformat_minor": 0,
  "metadata": {
    "colab": {
      "provenance": [],
      "toc_visible": true,
      "authorship_tag": "ABX9TyOsDWI6FvUM1UDYe1EQ8E/w",
      "include_colab_link": true
    },
    "kernelspec": {
      "name": "python3",
      "display_name": "Python 3"
    },
    "language_info": {
      "name": "python"
    }
  },
  "cells": [
    {
      "cell_type": "markdown",
      "metadata": {
        "id": "view-in-github",
        "colab_type": "text"
      },
      "source": [
        "<a href=\"https://colab.research.google.com/github/afviyanabila/ab-testing-marketing-campaign-analysis/blob/main/a_b_testing_marketing_campaign_analysis_afviya_nabila.ipynb\" target=\"_parent\"><img src=\"https://colab.research.google.com/assets/colab-badge.svg\" alt=\"Open In Colab\"/></a>"
      ]
    },
    {
      "cell_type": "markdown",
      "source": [
        "# **A/B TESTING : FOOD MARKETING CAMPAIGN**"
      ],
      "metadata": {
        "id": "0Wjhpj3vlZAK"
      }
    },
    {
      "cell_type": "markdown",
      "source": [
        "\n",
        "---\n",
        "\n",
        "**by Afviya Nabila**\n",
        "\n",
        "[Linkedin](https://www.linkedin.com/in/afviya-nabila/)\n",
        "[Github](https://github.com/afviyanabila/)\n",
        "[Slides](https://)\n",
        "\n",
        "---\n",
        "\n"
      ],
      "metadata": {
        "id": "OsRJXuy9llxj"
      }
    },
    {
      "cell_type": "markdown",
      "source": [
        "## **Project Overview**"
      ],
      "metadata": {
        "id": "jcM_nFHzlIav"
      }
    },
    {
      "cell_type": "markdown",
      "source": [
        "A fast-food chain has a total of 137 stores with three market size types. It plans to add a new item to its menu. However, they are still undecided between three possible marketing campaigns for promoting the new item\n",
        "\n",
        "In order to determine which promotion has the greatest effect on sales, the new item is introduced in the store in several randomly selected market types\n",
        "\n",
        "Three different promotions implemented at different location, and the weekly sales of the new item are recorded for the first four weeks.The mean of the sales amount is 53.5 thousand dollars\n"
      ],
      "metadata": {
        "id": "zIiP8hDzlzCO"
      }
    },
    {
      "cell_type": "markdown",
      "source": [
        "## **Data Source**"
      ],
      "metadata": {
        "id": "dJxcJpS9r8xV"
      }
    },
    {
      "cell_type": "markdown",
      "source": [
        "*   Marketing Campaign Dataset\n",
        "\n",
        "Reference : [Kaggle](https://www.kaggle.com/datasets/chebotinaa/fast-food-marketing-campaign-ab-test)"
      ],
      "metadata": {
        "id": "CRYMLYlor9IC"
      }
    },
    {
      "cell_type": "markdown",
      "source": [
        "## **Import Data**"
      ],
      "metadata": {
        "id": "8-QnBO8xYWGv"
      }
    },
    {
      "cell_type": "code",
      "source": [
        "import pandas as pd\n",
        "\n",
        "data = \"https://raw.githubusercontent.com/rajeevratan84/datascienceforbusiness/master/WA_Fn-UseC_-Marketing-Campaign-Eff-UseC_-FastF.csv\"\n",
        "market_campaign = pd.read_csv(data)"
      ],
      "metadata": {
        "id": "qEINJeYdCLsX"
      },
      "execution_count": 8,
      "outputs": []
    },
    {
      "cell_type": "markdown",
      "source": [
        "## **Data Preparation & Data Cleaning**"
      ],
      "metadata": {
        "id": "0odiHw1gZhMU"
      }
    },
    {
      "cell_type": "code",
      "source": [
        "market_campaign.info()"
      ],
      "metadata": {
        "colab": {
          "base_uri": "https://localhost:8080/"
        },
        "id": "JV7_N8_nZmxk",
        "outputId": "f0b6fd48-a987-471d-aece-8d5342faac09"
      },
      "execution_count": 9,
      "outputs": [
        {
          "output_type": "stream",
          "name": "stdout",
          "text": [
            "<class 'pandas.core.frame.DataFrame'>\n",
            "RangeIndex: 548 entries, 0 to 547\n",
            "Data columns (total 7 columns):\n",
            " #   Column            Non-Null Count  Dtype  \n",
            "---  ------            --------------  -----  \n",
            " 0   MarketID          548 non-null    int64  \n",
            " 1   MarketSize        548 non-null    object \n",
            " 2   LocationID        548 non-null    int64  \n",
            " 3   AgeOfStore        548 non-null    int64  \n",
            " 4   Promotion         548 non-null    int64  \n",
            " 5   week              548 non-null    int64  \n",
            " 6   SalesInThousands  548 non-null    float64\n",
            "dtypes: float64(1), int64(5), object(1)\n",
            "memory usage: 30.1+ KB\n"
          ]
        }
      ]
    },
    {
      "cell_type": "code",
      "source": [
        "market_campaign.shape"
      ],
      "metadata": {
        "colab": {
          "base_uri": "https://localhost:8080/"
        },
        "id": "yvQhOlV4YTe7",
        "outputId": "bab71890-db83-4494-e9e9-514065f1dc6c"
      },
      "execution_count": 10,
      "outputs": [
        {
          "output_type": "execute_result",
          "data": {
            "text/plain": [
              "(548, 7)"
            ]
          },
          "metadata": {},
          "execution_count": 10
        }
      ]
    },
    {
      "cell_type": "code",
      "source": [
        "print('\\n data missing values :', market_campaign.isna().sum().sum())\n",
        "market_campaign.drop_duplicates(inplace=True)\n",
        "print('\\n data duplicated values :', market_campaign.duplicated().sum())"
      ],
      "metadata": {
        "colab": {
          "base_uri": "https://localhost:8080/"
        },
        "id": "dzMJEIcdkW7b",
        "outputId": "2040eecf-75e0-4237-98a2-c5437134993c"
      },
      "execution_count": 11,
      "outputs": [
        {
          "output_type": "stream",
          "name": "stdout",
          "text": [
            "\n",
            " data missing values : 0\n",
            "\n",
            " data duplicated values : 0\n"
          ]
        }
      ]
    },
    {
      "cell_type": "markdown",
      "source": [
        "The statistic of each aspects of the dataset also provided"
      ],
      "metadata": {
        "id": "cAyfMeZxrh2J"
      }
    },
    {
      "cell_type": "code",
      "source": [
        "market_campaign.describe().T"
      ],
      "metadata": {
        "colab": {
          "base_uri": "https://localhost:8080/",
          "height": 214
        },
        "id": "Pl6Zop8yZRgo",
        "outputId": "e696e02b-0ac8-4d57-db32-b4e2515928bc"
      },
      "execution_count": 15,
      "outputs": [
        {
          "output_type": "execute_result",
          "data": {
            "text/plain": [
              "                  count        mean         std    min      25%    50%  \\\n",
              "MarketID          548.0    5.715328    2.877001   1.00    3.000    6.0   \n",
              "LocationID        548.0  479.656934  287.973679   1.00  216.000  504.0   \n",
              "AgeOfStore        548.0    8.503650    6.638345   1.00    4.000    7.0   \n",
              "week              548.0    2.500000    1.119055   1.00    1.750    2.5   \n",
              "SalesInThousands  548.0   53.466204   16.755216  17.34   42.545   50.2   \n",
              "\n",
              "                       75%     max  \n",
              "MarketID            8.0000   10.00  \n",
              "LocationID        708.0000  920.00  \n",
              "AgeOfStore         12.0000   28.00  \n",
              "week                3.2500    4.00  \n",
              "SalesInThousands   60.4775   99.65  "
            ],
            "text/html": [
              "\n",
              "  <div id=\"df-a0454959-ed56-43bf-8ec9-67df9968346c\" class=\"colab-df-container\">\n",
              "    <div>\n",
              "<style scoped>\n",
              "    .dataframe tbody tr th:only-of-type {\n",
              "        vertical-align: middle;\n",
              "    }\n",
              "\n",
              "    .dataframe tbody tr th {\n",
              "        vertical-align: top;\n",
              "    }\n",
              "\n",
              "    .dataframe thead th {\n",
              "        text-align: right;\n",
              "    }\n",
              "</style>\n",
              "<table border=\"1\" class=\"dataframe\">\n",
              "  <thead>\n",
              "    <tr style=\"text-align: right;\">\n",
              "      <th></th>\n",
              "      <th>count</th>\n",
              "      <th>mean</th>\n",
              "      <th>std</th>\n",
              "      <th>min</th>\n",
              "      <th>25%</th>\n",
              "      <th>50%</th>\n",
              "      <th>75%</th>\n",
              "      <th>max</th>\n",
              "    </tr>\n",
              "  </thead>\n",
              "  <tbody>\n",
              "    <tr>\n",
              "      <th>MarketID</th>\n",
              "      <td>548.0</td>\n",
              "      <td>5.715328</td>\n",
              "      <td>2.877001</td>\n",
              "      <td>1.00</td>\n",
              "      <td>3.000</td>\n",
              "      <td>6.0</td>\n",
              "      <td>8.0000</td>\n",
              "      <td>10.00</td>\n",
              "    </tr>\n",
              "    <tr>\n",
              "      <th>LocationID</th>\n",
              "      <td>548.0</td>\n",
              "      <td>479.656934</td>\n",
              "      <td>287.973679</td>\n",
              "      <td>1.00</td>\n",
              "      <td>216.000</td>\n",
              "      <td>504.0</td>\n",
              "      <td>708.0000</td>\n",
              "      <td>920.00</td>\n",
              "    </tr>\n",
              "    <tr>\n",
              "      <th>AgeOfStore</th>\n",
              "      <td>548.0</td>\n",
              "      <td>8.503650</td>\n",
              "      <td>6.638345</td>\n",
              "      <td>1.00</td>\n",
              "      <td>4.000</td>\n",
              "      <td>7.0</td>\n",
              "      <td>12.0000</td>\n",
              "      <td>28.00</td>\n",
              "    </tr>\n",
              "    <tr>\n",
              "      <th>week</th>\n",
              "      <td>548.0</td>\n",
              "      <td>2.500000</td>\n",
              "      <td>1.119055</td>\n",
              "      <td>1.00</td>\n",
              "      <td>1.750</td>\n",
              "      <td>2.5</td>\n",
              "      <td>3.2500</td>\n",
              "      <td>4.00</td>\n",
              "    </tr>\n",
              "    <tr>\n",
              "      <th>SalesInThousands</th>\n",
              "      <td>548.0</td>\n",
              "      <td>53.466204</td>\n",
              "      <td>16.755216</td>\n",
              "      <td>17.34</td>\n",
              "      <td>42.545</td>\n",
              "      <td>50.2</td>\n",
              "      <td>60.4775</td>\n",
              "      <td>99.65</td>\n",
              "    </tr>\n",
              "  </tbody>\n",
              "</table>\n",
              "</div>\n",
              "    <div class=\"colab-df-buttons\">\n",
              "\n",
              "  <div class=\"colab-df-container\">\n",
              "    <button class=\"colab-df-convert\" onclick=\"convertToInteractive('df-a0454959-ed56-43bf-8ec9-67df9968346c')\"\n",
              "            title=\"Convert this dataframe to an interactive table.\"\n",
              "            style=\"display:none;\">\n",
              "\n",
              "  <svg xmlns=\"http://www.w3.org/2000/svg\" height=\"24px\" viewBox=\"0 -960 960 960\">\n",
              "    <path d=\"M120-120v-720h720v720H120Zm60-500h600v-160H180v160Zm220 220h160v-160H400v160Zm0 220h160v-160H400v160ZM180-400h160v-160H180v160Zm440 0h160v-160H620v160ZM180-180h160v-160H180v160Zm440 0h160v-160H620v160Z\"/>\n",
              "  </svg>\n",
              "    </button>\n",
              "\n",
              "  <style>\n",
              "    .colab-df-container {\n",
              "      display:flex;\n",
              "      gap: 12px;\n",
              "    }\n",
              "\n",
              "    .colab-df-convert {\n",
              "      background-color: #E8F0FE;\n",
              "      border: none;\n",
              "      border-radius: 50%;\n",
              "      cursor: pointer;\n",
              "      display: none;\n",
              "      fill: #1967D2;\n",
              "      height: 32px;\n",
              "      padding: 0 0 0 0;\n",
              "      width: 32px;\n",
              "    }\n",
              "\n",
              "    .colab-df-convert:hover {\n",
              "      background-color: #E2EBFA;\n",
              "      box-shadow: 0px 1px 2px rgba(60, 64, 67, 0.3), 0px 1px 3px 1px rgba(60, 64, 67, 0.15);\n",
              "      fill: #174EA6;\n",
              "    }\n",
              "\n",
              "    .colab-df-buttons div {\n",
              "      margin-bottom: 4px;\n",
              "    }\n",
              "\n",
              "    [theme=dark] .colab-df-convert {\n",
              "      background-color: #3B4455;\n",
              "      fill: #D2E3FC;\n",
              "    }\n",
              "\n",
              "    [theme=dark] .colab-df-convert:hover {\n",
              "      background-color: #434B5C;\n",
              "      box-shadow: 0px 1px 3px 1px rgba(0, 0, 0, 0.15);\n",
              "      filter: drop-shadow(0px 1px 2px rgba(0, 0, 0, 0.3));\n",
              "      fill: #FFFFFF;\n",
              "    }\n",
              "  </style>\n",
              "\n",
              "    <script>\n",
              "      const buttonEl =\n",
              "        document.querySelector('#df-a0454959-ed56-43bf-8ec9-67df9968346c button.colab-df-convert');\n",
              "      buttonEl.style.display =\n",
              "        google.colab.kernel.accessAllowed ? 'block' : 'none';\n",
              "\n",
              "      async function convertToInteractive(key) {\n",
              "        const element = document.querySelector('#df-a0454959-ed56-43bf-8ec9-67df9968346c');\n",
              "        const dataTable =\n",
              "          await google.colab.kernel.invokeFunction('convertToInteractive',\n",
              "                                                    [key], {});\n",
              "        if (!dataTable) return;\n",
              "\n",
              "        const docLinkHtml = 'Like what you see? Visit the ' +\n",
              "          '<a target=\"_blank\" href=https://colab.research.google.com/notebooks/data_table.ipynb>data table notebook</a>'\n",
              "          + ' to learn more about interactive tables.';\n",
              "        element.innerHTML = '';\n",
              "        dataTable['output_type'] = 'display_data';\n",
              "        await google.colab.output.renderOutput(dataTable, element);\n",
              "        const docLink = document.createElement('div');\n",
              "        docLink.innerHTML = docLinkHtml;\n",
              "        element.appendChild(docLink);\n",
              "      }\n",
              "    </script>\n",
              "  </div>\n",
              "\n",
              "\n",
              "<div id=\"df-ebf8a9fb-1b3c-45f8-98ac-947020182fb0\">\n",
              "  <button class=\"colab-df-quickchart\" onclick=\"quickchart('df-ebf8a9fb-1b3c-45f8-98ac-947020182fb0')\"\n",
              "            title=\"Suggest charts.\"\n",
              "            style=\"display:none;\">\n",
              "\n",
              "<svg xmlns=\"http://www.w3.org/2000/svg\" height=\"24px\"viewBox=\"0 0 24 24\"\n",
              "     width=\"24px\">\n",
              "    <g>\n",
              "        <path d=\"M19 3H5c-1.1 0-2 .9-2 2v14c0 1.1.9 2 2 2h14c1.1 0 2-.9 2-2V5c0-1.1-.9-2-2-2zM9 17H7v-7h2v7zm4 0h-2V7h2v10zm4 0h-2v-4h2v4z\"/>\n",
              "    </g>\n",
              "</svg>\n",
              "  </button>\n",
              "\n",
              "<style>\n",
              "  .colab-df-quickchart {\n",
              "    background-color: #E8F0FE;\n",
              "    border: none;\n",
              "    border-radius: 50%;\n",
              "    cursor: pointer;\n",
              "    display: none;\n",
              "    fill: #1967D2;\n",
              "    height: 32px;\n",
              "    padding: 0 0 0 0;\n",
              "    width: 32px;\n",
              "  }\n",
              "\n",
              "  .colab-df-quickchart:hover {\n",
              "    background-color: #E2EBFA;\n",
              "    box-shadow: 0px 1px 2px rgba(60, 64, 67, 0.3), 0px 1px 3px 1px rgba(60, 64, 67, 0.15);\n",
              "    fill: #174EA6;\n",
              "  }\n",
              "\n",
              "  [theme=dark] .colab-df-quickchart {\n",
              "    background-color: #3B4455;\n",
              "    fill: #D2E3FC;\n",
              "  }\n",
              "\n",
              "  [theme=dark] .colab-df-quickchart:hover {\n",
              "    background-color: #434B5C;\n",
              "    box-shadow: 0px 1px 3px 1px rgba(0, 0, 0, 0.15);\n",
              "    filter: drop-shadow(0px 1px 2px rgba(0, 0, 0, 0.3));\n",
              "    fill: #FFFFFF;\n",
              "  }\n",
              "</style>\n",
              "\n",
              "  <script>\n",
              "    async function quickchart(key) {\n",
              "      const charts = await google.colab.kernel.invokeFunction(\n",
              "          'suggestCharts', [key], {});\n",
              "    }\n",
              "    (() => {\n",
              "      let quickchartButtonEl =\n",
              "        document.querySelector('#df-ebf8a9fb-1b3c-45f8-98ac-947020182fb0 button');\n",
              "      quickchartButtonEl.style.display =\n",
              "        google.colab.kernel.accessAllowed ? 'block' : 'none';\n",
              "    })();\n",
              "  </script>\n",
              "</div>\n",
              "    </div>\n",
              "  </div>\n"
            ]
          },
          "metadata": {},
          "execution_count": 15
        }
      ]
    },
    {
      "cell_type": "markdown",
      "source": [
        "Marketing campaign dataset consists of 548 entries and 7 columns without any missing and duplicate values\n",
        "\n",
        "---\n",
        "\n",
        "*   MarketId: market type id identified as number (1-20)\n",
        "*   MarketSize: market size types (small, medium, large)\n",
        "*   LocationID: store location id identified as number (1-920)\n",
        "*   AgeOfStore : the running age of the stores (1-28 years)\n",
        "*   Promotion: the promotion that were tested identified as number (1, 2, 3)\n",
        "*   Week: the week when the promotion were run (1-4)\n",
        "*   SalesinThousands: sales amount from the promotion implemented in the store within a specified week\n",
        "---\n"
      ],
      "metadata": {
        "id": "t2haxXg5mDnV"
      }
    },
    {
      "cell_type": "markdown",
      "source": [
        "For simplicity, the name of contents of the promotion being changed\n",
        "*   1 = Promotion_1\n",
        "*   2 = Promotion_2\n",
        "*   3 = Promotion_3"
      ],
      "metadata": {
        "id": "VMLIgXW4GO20"
      }
    },
    {
      "cell_type": "code",
      "source": [
        "market_campaign['Promotion'] = [f'Promotion_{value}' for value in market_campaign['Promotion']]"
      ],
      "metadata": {
        "id": "doP88jB-FgPK"
      },
      "execution_count": 12,
      "outputs": []
    },
    {
      "cell_type": "markdown",
      "source": [
        "Here's the head of marketing campaign dataset:"
      ],
      "metadata": {
        "id": "aSbAtxSGsrYC"
      }
    },
    {
      "cell_type": "code",
      "source": [
        "market_campaign.head()"
      ],
      "metadata": {
        "colab": {
          "base_uri": "https://localhost:8080/",
          "height": 214
        },
        "id": "CXGv_LxMLAs7",
        "outputId": "04da9791-848c-4a6a-814b-de85df168baa"
      },
      "execution_count": 13,
      "outputs": [
        {
          "output_type": "execute_result",
          "data": {
            "text/plain": [
              "   MarketID MarketSize  LocationID  AgeOfStore    Promotion  week  \\\n",
              "0         1     Medium           1           4  Promotion_3     1   \n",
              "1         1     Medium           1           4  Promotion_3     2   \n",
              "2         1     Medium           1           4  Promotion_3     3   \n",
              "3         1     Medium           1           4  Promotion_3     4   \n",
              "4         1     Medium           2           5  Promotion_2     1   \n",
              "\n",
              "   SalesInThousands  \n",
              "0             33.73  \n",
              "1             35.67  \n",
              "2             29.03  \n",
              "3             39.25  \n",
              "4             27.81  "
            ],
            "text/html": [
              "\n",
              "  <div id=\"df-655a35a2-93f7-4cd3-b30f-68ff9accef21\" class=\"colab-df-container\">\n",
              "    <div>\n",
              "<style scoped>\n",
              "    .dataframe tbody tr th:only-of-type {\n",
              "        vertical-align: middle;\n",
              "    }\n",
              "\n",
              "    .dataframe tbody tr th {\n",
              "        vertical-align: top;\n",
              "    }\n",
              "\n",
              "    .dataframe thead th {\n",
              "        text-align: right;\n",
              "    }\n",
              "</style>\n",
              "<table border=\"1\" class=\"dataframe\">\n",
              "  <thead>\n",
              "    <tr style=\"text-align: right;\">\n",
              "      <th></th>\n",
              "      <th>MarketID</th>\n",
              "      <th>MarketSize</th>\n",
              "      <th>LocationID</th>\n",
              "      <th>AgeOfStore</th>\n",
              "      <th>Promotion</th>\n",
              "      <th>week</th>\n",
              "      <th>SalesInThousands</th>\n",
              "    </tr>\n",
              "  </thead>\n",
              "  <tbody>\n",
              "    <tr>\n",
              "      <th>0</th>\n",
              "      <td>1</td>\n",
              "      <td>Medium</td>\n",
              "      <td>1</td>\n",
              "      <td>4</td>\n",
              "      <td>Promotion_3</td>\n",
              "      <td>1</td>\n",
              "      <td>33.73</td>\n",
              "    </tr>\n",
              "    <tr>\n",
              "      <th>1</th>\n",
              "      <td>1</td>\n",
              "      <td>Medium</td>\n",
              "      <td>1</td>\n",
              "      <td>4</td>\n",
              "      <td>Promotion_3</td>\n",
              "      <td>2</td>\n",
              "      <td>35.67</td>\n",
              "    </tr>\n",
              "    <tr>\n",
              "      <th>2</th>\n",
              "      <td>1</td>\n",
              "      <td>Medium</td>\n",
              "      <td>1</td>\n",
              "      <td>4</td>\n",
              "      <td>Promotion_3</td>\n",
              "      <td>3</td>\n",
              "      <td>29.03</td>\n",
              "    </tr>\n",
              "    <tr>\n",
              "      <th>3</th>\n",
              "      <td>1</td>\n",
              "      <td>Medium</td>\n",
              "      <td>1</td>\n",
              "      <td>4</td>\n",
              "      <td>Promotion_3</td>\n",
              "      <td>4</td>\n",
              "      <td>39.25</td>\n",
              "    </tr>\n",
              "    <tr>\n",
              "      <th>4</th>\n",
              "      <td>1</td>\n",
              "      <td>Medium</td>\n",
              "      <td>2</td>\n",
              "      <td>5</td>\n",
              "      <td>Promotion_2</td>\n",
              "      <td>1</td>\n",
              "      <td>27.81</td>\n",
              "    </tr>\n",
              "  </tbody>\n",
              "</table>\n",
              "</div>\n",
              "    <div class=\"colab-df-buttons\">\n",
              "\n",
              "  <div class=\"colab-df-container\">\n",
              "    <button class=\"colab-df-convert\" onclick=\"convertToInteractive('df-655a35a2-93f7-4cd3-b30f-68ff9accef21')\"\n",
              "            title=\"Convert this dataframe to an interactive table.\"\n",
              "            style=\"display:none;\">\n",
              "\n",
              "  <svg xmlns=\"http://www.w3.org/2000/svg\" height=\"24px\" viewBox=\"0 -960 960 960\">\n",
              "    <path d=\"M120-120v-720h720v720H120Zm60-500h600v-160H180v160Zm220 220h160v-160H400v160Zm0 220h160v-160H400v160ZM180-400h160v-160H180v160Zm440 0h160v-160H620v160ZM180-180h160v-160H180v160Zm440 0h160v-160H620v160Z\"/>\n",
              "  </svg>\n",
              "    </button>\n",
              "\n",
              "  <style>\n",
              "    .colab-df-container {\n",
              "      display:flex;\n",
              "      gap: 12px;\n",
              "    }\n",
              "\n",
              "    .colab-df-convert {\n",
              "      background-color: #E8F0FE;\n",
              "      border: none;\n",
              "      border-radius: 50%;\n",
              "      cursor: pointer;\n",
              "      display: none;\n",
              "      fill: #1967D2;\n",
              "      height: 32px;\n",
              "      padding: 0 0 0 0;\n",
              "      width: 32px;\n",
              "    }\n",
              "\n",
              "    .colab-df-convert:hover {\n",
              "      background-color: #E2EBFA;\n",
              "      box-shadow: 0px 1px 2px rgba(60, 64, 67, 0.3), 0px 1px 3px 1px rgba(60, 64, 67, 0.15);\n",
              "      fill: #174EA6;\n",
              "    }\n",
              "\n",
              "    .colab-df-buttons div {\n",
              "      margin-bottom: 4px;\n",
              "    }\n",
              "\n",
              "    [theme=dark] .colab-df-convert {\n",
              "      background-color: #3B4455;\n",
              "      fill: #D2E3FC;\n",
              "    }\n",
              "\n",
              "    [theme=dark] .colab-df-convert:hover {\n",
              "      background-color: #434B5C;\n",
              "      box-shadow: 0px 1px 3px 1px rgba(0, 0, 0, 0.15);\n",
              "      filter: drop-shadow(0px 1px 2px rgba(0, 0, 0, 0.3));\n",
              "      fill: #FFFFFF;\n",
              "    }\n",
              "  </style>\n",
              "\n",
              "    <script>\n",
              "      const buttonEl =\n",
              "        document.querySelector('#df-655a35a2-93f7-4cd3-b30f-68ff9accef21 button.colab-df-convert');\n",
              "      buttonEl.style.display =\n",
              "        google.colab.kernel.accessAllowed ? 'block' : 'none';\n",
              "\n",
              "      async function convertToInteractive(key) {\n",
              "        const element = document.querySelector('#df-655a35a2-93f7-4cd3-b30f-68ff9accef21');\n",
              "        const dataTable =\n",
              "          await google.colab.kernel.invokeFunction('convertToInteractive',\n",
              "                                                    [key], {});\n",
              "        if (!dataTable) return;\n",
              "\n",
              "        const docLinkHtml = 'Like what you see? Visit the ' +\n",
              "          '<a target=\"_blank\" href=https://colab.research.google.com/notebooks/data_table.ipynb>data table notebook</a>'\n",
              "          + ' to learn more about interactive tables.';\n",
              "        element.innerHTML = '';\n",
              "        dataTable['output_type'] = 'display_data';\n",
              "        await google.colab.output.renderOutput(dataTable, element);\n",
              "        const docLink = document.createElement('div');\n",
              "        docLink.innerHTML = docLinkHtml;\n",
              "        element.appendChild(docLink);\n",
              "      }\n",
              "    </script>\n",
              "  </div>\n",
              "\n",
              "\n",
              "<div id=\"df-fd7ef67d-2dc8-411c-8356-a5d95aea485e\">\n",
              "  <button class=\"colab-df-quickchart\" onclick=\"quickchart('df-fd7ef67d-2dc8-411c-8356-a5d95aea485e')\"\n",
              "            title=\"Suggest charts.\"\n",
              "            style=\"display:none;\">\n",
              "\n",
              "<svg xmlns=\"http://www.w3.org/2000/svg\" height=\"24px\"viewBox=\"0 0 24 24\"\n",
              "     width=\"24px\">\n",
              "    <g>\n",
              "        <path d=\"M19 3H5c-1.1 0-2 .9-2 2v14c0 1.1.9 2 2 2h14c1.1 0 2-.9 2-2V5c0-1.1-.9-2-2-2zM9 17H7v-7h2v7zm4 0h-2V7h2v10zm4 0h-2v-4h2v4z\"/>\n",
              "    </g>\n",
              "</svg>\n",
              "  </button>\n",
              "\n",
              "<style>\n",
              "  .colab-df-quickchart {\n",
              "    background-color: #E8F0FE;\n",
              "    border: none;\n",
              "    border-radius: 50%;\n",
              "    cursor: pointer;\n",
              "    display: none;\n",
              "    fill: #1967D2;\n",
              "    height: 32px;\n",
              "    padding: 0 0 0 0;\n",
              "    width: 32px;\n",
              "  }\n",
              "\n",
              "  .colab-df-quickchart:hover {\n",
              "    background-color: #E2EBFA;\n",
              "    box-shadow: 0px 1px 2px rgba(60, 64, 67, 0.3), 0px 1px 3px 1px rgba(60, 64, 67, 0.15);\n",
              "    fill: #174EA6;\n",
              "  }\n",
              "\n",
              "  [theme=dark] .colab-df-quickchart {\n",
              "    background-color: #3B4455;\n",
              "    fill: #D2E3FC;\n",
              "  }\n",
              "\n",
              "  [theme=dark] .colab-df-quickchart:hover {\n",
              "    background-color: #434B5C;\n",
              "    box-shadow: 0px 1px 3px 1px rgba(0, 0, 0, 0.15);\n",
              "    filter: drop-shadow(0px 1px 2px rgba(0, 0, 0, 0.3));\n",
              "    fill: #FFFFFF;\n",
              "  }\n",
              "</style>\n",
              "\n",
              "  <script>\n",
              "    async function quickchart(key) {\n",
              "      const charts = await google.colab.kernel.invokeFunction(\n",
              "          'suggestCharts', [key], {});\n",
              "    }\n",
              "    (() => {\n",
              "      let quickchartButtonEl =\n",
              "        document.querySelector('#df-fd7ef67d-2dc8-411c-8356-a5d95aea485e button');\n",
              "      quickchartButtonEl.style.display =\n",
              "        google.colab.kernel.accessAllowed ? 'block' : 'none';\n",
              "    })();\n",
              "  </script>\n",
              "</div>\n",
              "    </div>\n",
              "  </div>\n"
            ]
          },
          "metadata": {},
          "execution_count": 13
        }
      ]
    },
    {
      "cell_type": "markdown",
      "source": [
        "## **Exploratory Data Analysis**\n"
      ],
      "metadata": {
        "id": "nj8h47zCkxgi"
      }
    },
    {
      "cell_type": "code",
      "source": [
        "import plotly.express as px\n",
        "from plotly.subplots import make_subplots\n",
        "import plotly.graph_objects as go\n",
        "import scipy.stats as stats"
      ],
      "metadata": {
        "id": "S_YUu9WowFY8"
      },
      "execution_count": 16,
      "outputs": []
    },
    {
      "cell_type": "markdown",
      "source": [
        "#### **Sales Distribution by Different Promotions**"
      ],
      "metadata": {
        "id": "vVD7eGsQEM7A"
      }
    },
    {
      "cell_type": "code",
      "source": [
        "fig_sales_pie = px.pie(market_campaign, values=market_campaign['SalesInThousands'], color=market_campaign['Promotion'], names=market_campaign['Promotion'], color_discrete_sequence=['#d00000', '#ffba08', '#3f88c5'], hole=0.25)\n",
        "fig_sales_pie.update_traces(textposition='inside', textfont=dict(color='white',size=15), textinfo='label+percent+value',pull=[0.1,0,0,0,0.1],rotation = 90)\n",
        "fig_sales_pie.update_layout(title='<b>Sales Distribution by Different Promotions</b>', title_font=dict(size=20))\n",
        "\n",
        "fig_sales_pie.show()"
      ],
      "metadata": {
        "colab": {
          "base_uri": "https://localhost:8080/",
          "height": 542
        },
        "id": "3KtA-d31obph",
        "outputId": "ee1df6db-990f-4ce4-b49f-d4a1b585ec89"
      },
      "execution_count": null,
      "outputs": [
        {
          "output_type": "display_data",
          "data": {
            "text/html": [
              "<html>\n",
              "<head><meta charset=\"utf-8\" /></head>\n",
              "<body>\n",
              "    <div>            <script src=\"https://cdnjs.cloudflare.com/ajax/libs/mathjax/2.7.5/MathJax.js?config=TeX-AMS-MML_SVG\"></script><script type=\"text/javascript\">if (window.MathJax && window.MathJax.Hub && window.MathJax.Hub.Config) {window.MathJax.Hub.Config({SVG: {font: \"STIX-Web\"}});}</script>                <script type=\"text/javascript\">window.PlotlyConfig = {MathJaxConfig: 'local'};</script>\n",
              "        <script charset=\"utf-8\" src=\"https://cdn.plot.ly/plotly-2.24.1.min.js\"></script>                <div id=\"145bfbc3-af07-4b02-a950-d47b3f994dc9\" class=\"plotly-graph-div\" style=\"height:525px; width:100%;\"></div>            <script type=\"text/javascript\">                                    window.PLOTLYENV=window.PLOTLYENV || {};                                    if (document.getElementById(\"145bfbc3-af07-4b02-a950-d47b3f994dc9\")) {                    Plotly.newPlot(                        \"145bfbc3-af07-4b02-a950-d47b3f994dc9\",                        [{\"customdata\":[[\"Promotion_3\"],[\"Promotion_3\"],[\"Promotion_3\"],[\"Promotion_3\"],[\"Promotion_2\"],[\"Promotion_2\"],[\"Promotion_2\"],[\"Promotion_2\"],[\"Promotion_1\"],[\"Promotion_1\"],[\"Promotion_1\"],[\"Promotion_1\"],[\"Promotion_2\"],[\"Promotion_2\"],[\"Promotion_2\"],[\"Promotion_2\"],[\"Promotion_2\"],[\"Promotion_2\"],[\"Promotion_2\"],[\"Promotion_2\"],[\"Promotion_3\"],[\"Promotion_3\"],[\"Promotion_3\"],[\"Promotion_3\"],[\"Promotion_1\"],[\"Promotion_1\"],[\"Promotion_1\"],[\"Promotion_1\"],[\"Promotion_2\"],[\"Promotion_2\"],[\"Promotion_2\"],[\"Promotion_2\"],[\"Promotion_1\"],[\"Promotion_1\"],[\"Promotion_1\"],[\"Promotion_1\"],[\"Promotion_2\"],[\"Promotion_2\"],[\"Promotion_2\"],[\"Promotion_2\"],[\"Promotion_3\"],[\"Promotion_3\"],[\"Promotion_3\"],[\"Promotion_3\"],[\"Promotion_1\"],[\"Promotion_1\"],[\"Promotion_1\"],[\"Promotion_1\"],[\"Promotion_1\"],[\"Promotion_1\"],[\"Promotion_1\"],[\"Promotion_1\"],[\"Promotion_1\"],[\"Promotion_1\"],[\"Promotion_1\"],[\"Promotion_1\"],[\"Promotion_3\"],[\"Promotion_3\"],[\"Promotion_3\"],[\"Promotion_3\"],[\"Promotion_3\"],[\"Promotion_3\"],[\"Promotion_3\"],[\"Promotion_3\"],[\"Promotion_3\"],[\"Promotion_3\"],[\"Promotion_3\"],[\"Promotion_3\"],[\"Promotion_3\"],[\"Promotion_3\"],[\"Promotion_3\"],[\"Promotion_3\"],[\"Promotion_3\"],[\"Promotion_3\"],[\"Promotion_3\"],[\"Promotion_3\"],[\"Promotion_3\"],[\"Promotion_3\"],[\"Promotion_3\"],[\"Promotion_3\"],[\"Promotion_1\"],[\"Promotion_1\"],[\"Promotion_1\"],[\"Promotion_1\"],[\"Promotion_3\"],[\"Promotion_3\"],[\"Promotion_3\"],[\"Promotion_3\"],[\"Promotion_2\"],[\"Promotion_2\"],[\"Promotion_2\"],[\"Promotion_2\"],[\"Promotion_3\"],[\"Promotion_3\"],[\"Promotion_3\"],[\"Promotion_3\"],[\"Promotion_3\"],[\"Promotion_3\"],[\"Promotion_3\"],[\"Promotion_3\"],[\"Promotion_3\"],[\"Promotion_3\"],[\"Promotion_3\"],[\"Promotion_3\"],[\"Promotion_3\"],[\"Promotion_3\"],[\"Promotion_3\"],[\"Promotion_3\"],[\"Promotion_1\"],[\"Promotion_1\"],[\"Promotion_1\"],[\"Promotion_1\"],[\"Promotion_1\"],[\"Promotion_1\"],[\"Promotion_1\"],[\"Promotion_1\"],[\"Promotion_2\"],[\"Promotion_2\"],[\"Promotion_2\"],[\"Promotion_2\"],[\"Promotion_3\"],[\"Promotion_3\"],[\"Promotion_3\"],[\"Promotion_3\"],[\"Promotion_2\"],[\"Promotion_2\"],[\"Promotion_2\"],[\"Promotion_2\"],[\"Promotion_1\"],[\"Promotion_1\"],[\"Promotion_1\"],[\"Promotion_1\"],[\"Promotion_2\"],[\"Promotion_2\"],[\"Promotion_2\"],[\"Promotion_2\"],[\"Promotion_3\"],[\"Promotion_3\"],[\"Promotion_3\"],[\"Promotion_3\"],[\"Promotion_3\"],[\"Promotion_3\"],[\"Promotion_3\"],[\"Promotion_3\"],[\"Promotion_1\"],[\"Promotion_1\"],[\"Promotion_1\"],[\"Promotion_1\"],[\"Promotion_2\"],[\"Promotion_2\"],[\"Promotion_2\"],[\"Promotion_2\"],[\"Promotion_1\"],[\"Promotion_1\"],[\"Promotion_1\"],[\"Promotion_1\"],[\"Promotion_2\"],[\"Promotion_2\"],[\"Promotion_2\"],[\"Promotion_2\"],[\"Promotion_1\"],[\"Promotion_1\"],[\"Promotion_1\"],[\"Promotion_1\"],[\"Promotion_2\"],[\"Promotion_2\"],[\"Promotion_2\"],[\"Promotion_2\"],[\"Promotion_3\"],[\"Promotion_3\"],[\"Promotion_3\"],[\"Promotion_3\"],[\"Promotion_1\"],[\"Promotion_1\"],[\"Promotion_1\"],[\"Promotion_1\"],[\"Promotion_1\"],[\"Promotion_1\"],[\"Promotion_1\"],[\"Promotion_1\"],[\"Promotion_2\"],[\"Promotion_2\"],[\"Promotion_2\"],[\"Promotion_2\"],[\"Promotion_1\"],[\"Promotion_1\"],[\"Promotion_1\"],[\"Promotion_1\"],[\"Promotion_2\"],[\"Promotion_2\"],[\"Promotion_2\"],[\"Promotion_2\"],[\"Promotion_2\"],[\"Promotion_2\"],[\"Promotion_2\"],[\"Promotion_2\"],[\"Promotion_1\"],[\"Promotion_1\"],[\"Promotion_1\"],[\"Promotion_1\"],[\"Promotion_3\"],[\"Promotion_3\"],[\"Promotion_3\"],[\"Promotion_3\"],[\"Promotion_2\"],[\"Promotion_2\"],[\"Promotion_2\"],[\"Promotion_2\"],[\"Promotion_2\"],[\"Promotion_2\"],[\"Promotion_2\"],[\"Promotion_2\"],[\"Promotion_2\"],[\"Promotion_2\"],[\"Promotion_2\"],[\"Promotion_2\"],[\"Promotion_2\"],[\"Promotion_2\"],[\"Promotion_2\"],[\"Promotion_2\"],[\"Promotion_2\"],[\"Promotion_2\"],[\"Promotion_2\"],[\"Promotion_2\"],[\"Promotion_3\"],[\"Promotion_3\"],[\"Promotion_3\"],[\"Promotion_3\"],[\"Promotion_2\"],[\"Promotion_2\"],[\"Promotion_2\"],[\"Promotion_2\"],[\"Promotion_2\"],[\"Promotion_2\"],[\"Promotion_2\"],[\"Promotion_2\"],[\"Promotion_1\"],[\"Promotion_1\"],[\"Promotion_1\"],[\"Promotion_1\"],[\"Promotion_3\"],[\"Promotion_3\"],[\"Promotion_3\"],[\"Promotion_3\"],[\"Promotion_1\"],[\"Promotion_1\"],[\"Promotion_1\"],[\"Promotion_1\"],[\"Promotion_2\"],[\"Promotion_2\"],[\"Promotion_2\"],[\"Promotion_2\"],[\"Promotion_3\"],[\"Promotion_3\"],[\"Promotion_3\"],[\"Promotion_3\"],[\"Promotion_3\"],[\"Promotion_3\"],[\"Promotion_3\"],[\"Promotion_3\"],[\"Promotion_3\"],[\"Promotion_3\"],[\"Promotion_3\"],[\"Promotion_3\"],[\"Promotion_2\"],[\"Promotion_2\"],[\"Promotion_2\"],[\"Promotion_2\"],[\"Promotion_2\"],[\"Promotion_2\"],[\"Promotion_2\"],[\"Promotion_2\"],[\"Promotion_1\"],[\"Promotion_1\"],[\"Promotion_1\"],[\"Promotion_1\"],[\"Promotion_2\"],[\"Promotion_2\"],[\"Promotion_2\"],[\"Promotion_2\"],[\"Promotion_2\"],[\"Promotion_2\"],[\"Promotion_2\"],[\"Promotion_2\"],[\"Promotion_2\"],[\"Promotion_2\"],[\"Promotion_2\"],[\"Promotion_2\"],[\"Promotion_3\"],[\"Promotion_3\"],[\"Promotion_3\"],[\"Promotion_3\"],[\"Promotion_1\"],[\"Promotion_1\"],[\"Promotion_1\"],[\"Promotion_1\"],[\"Promotion_2\"],[\"Promotion_2\"],[\"Promotion_2\"],[\"Promotion_2\"],[\"Promotion_3\"],[\"Promotion_3\"],[\"Promotion_3\"],[\"Promotion_3\"],[\"Promotion_1\"],[\"Promotion_1\"],[\"Promotion_1\"],[\"Promotion_1\"],[\"Promotion_1\"],[\"Promotion_1\"],[\"Promotion_1\"],[\"Promotion_1\"],[\"Promotion_1\"],[\"Promotion_1\"],[\"Promotion_1\"],[\"Promotion_1\"],[\"Promotion_3\"],[\"Promotion_3\"],[\"Promotion_3\"],[\"Promotion_3\"],[\"Promotion_3\"],[\"Promotion_3\"],[\"Promotion_3\"],[\"Promotion_3\"],[\"Promotion_3\"],[\"Promotion_3\"],[\"Promotion_3\"],[\"Promotion_3\"],[\"Promotion_2\"],[\"Promotion_2\"],[\"Promotion_2\"],[\"Promotion_2\"],[\"Promotion_3\"],[\"Promotion_3\"],[\"Promotion_3\"],[\"Promotion_3\"],[\"Promotion_3\"],[\"Promotion_3\"],[\"Promotion_3\"],[\"Promotion_3\"],[\"Promotion_3\"],[\"Promotion_3\"],[\"Promotion_3\"],[\"Promotion_3\"],[\"Promotion_2\"],[\"Promotion_2\"],[\"Promotion_2\"],[\"Promotion_2\"],[\"Promotion_1\"],[\"Promotion_1\"],[\"Promotion_1\"],[\"Promotion_1\"],[\"Promotion_1\"],[\"Promotion_1\"],[\"Promotion_1\"],[\"Promotion_1\"],[\"Promotion_1\"],[\"Promotion_1\"],[\"Promotion_1\"],[\"Promotion_1\"],[\"Promotion_3\"],[\"Promotion_3\"],[\"Promotion_3\"],[\"Promotion_3\"],[\"Promotion_3\"],[\"Promotion_3\"],[\"Promotion_3\"],[\"Promotion_3\"],[\"Promotion_1\"],[\"Promotion_1\"],[\"Promotion_1\"],[\"Promotion_1\"],[\"Promotion_2\"],[\"Promotion_2\"],[\"Promotion_2\"],[\"Promotion_2\"],[\"Promotion_2\"],[\"Promotion_2\"],[\"Promotion_2\"],[\"Promotion_2\"],[\"Promotion_3\"],[\"Promotion_3\"],[\"Promotion_3\"],[\"Promotion_3\"],[\"Promotion_1\"],[\"Promotion_1\"],[\"Promotion_1\"],[\"Promotion_1\"],[\"Promotion_1\"],[\"Promotion_1\"],[\"Promotion_1\"],[\"Promotion_1\"],[\"Promotion_1\"],[\"Promotion_1\"],[\"Promotion_1\"],[\"Promotion_1\"],[\"Promotion_3\"],[\"Promotion_3\"],[\"Promotion_3\"],[\"Promotion_3\"],[\"Promotion_3\"],[\"Promotion_3\"],[\"Promotion_3\"],[\"Promotion_3\"],[\"Promotion_1\"],[\"Promotion_1\"],[\"Promotion_1\"],[\"Promotion_1\"],[\"Promotion_2\"],[\"Promotion_2\"],[\"Promotion_2\"],[\"Promotion_2\"],[\"Promotion_2\"],[\"Promotion_2\"],[\"Promotion_2\"],[\"Promotion_2\"],[\"Promotion_3\"],[\"Promotion_3\"],[\"Promotion_3\"],[\"Promotion_3\"],[\"Promotion_1\"],[\"Promotion_1\"],[\"Promotion_1\"],[\"Promotion_1\"],[\"Promotion_3\"],[\"Promotion_3\"],[\"Promotion_3\"],[\"Promotion_3\"],[\"Promotion_1\"],[\"Promotion_1\"],[\"Promotion_1\"],[\"Promotion_1\"],[\"Promotion_2\"],[\"Promotion_2\"],[\"Promotion_2\"],[\"Promotion_2\"],[\"Promotion_3\"],[\"Promotion_3\"],[\"Promotion_3\"],[\"Promotion_3\"],[\"Promotion_1\"],[\"Promotion_1\"],[\"Promotion_1\"],[\"Promotion_1\"],[\"Promotion_3\"],[\"Promotion_3\"],[\"Promotion_3\"],[\"Promotion_3\"],[\"Promotion_3\"],[\"Promotion_3\"],[\"Promotion_3\"],[\"Promotion_3\"],[\"Promotion_2\"],[\"Promotion_2\"],[\"Promotion_2\"],[\"Promotion_2\"],[\"Promotion_3\"],[\"Promotion_3\"],[\"Promotion_3\"],[\"Promotion_3\"],[\"Promotion_3\"],[\"Promotion_3\"],[\"Promotion_3\"],[\"Promotion_3\"],[\"Promotion_1\"],[\"Promotion_1\"],[\"Promotion_1\"],[\"Promotion_1\"],[\"Promotion_2\"],[\"Promotion_2\"],[\"Promotion_2\"],[\"Promotion_2\"],[\"Promotion_1\"],[\"Promotion_1\"],[\"Promotion_1\"],[\"Promotion_1\"],[\"Promotion_3\"],[\"Promotion_3\"],[\"Promotion_3\"],[\"Promotion_3\"],[\"Promotion_2\"],[\"Promotion_2\"],[\"Promotion_2\"],[\"Promotion_2\"],[\"Promotion_3\"],[\"Promotion_3\"],[\"Promotion_3\"],[\"Promotion_3\"],[\"Promotion_2\"],[\"Promotion_2\"],[\"Promotion_2\"],[\"Promotion_2\"],[\"Promotion_2\"],[\"Promotion_2\"],[\"Promotion_2\"],[\"Promotion_2\"],[\"Promotion_2\"],[\"Promotion_2\"],[\"Promotion_2\"],[\"Promotion_2\"],[\"Promotion_1\"],[\"Promotion_1\"],[\"Promotion_1\"],[\"Promotion_1\"],[\"Promotion_1\"],[\"Promotion_1\"],[\"Promotion_1\"],[\"Promotion_1\"],[\"Promotion_2\"],[\"Promotion_2\"],[\"Promotion_2\"],[\"Promotion_2\"],[\"Promotion_2\"],[\"Promotion_2\"],[\"Promotion_2\"],[\"Promotion_2\"],[\"Promotion_1\"],[\"Promotion_1\"],[\"Promotion_1\"],[\"Promotion_1\"],[\"Promotion_2\"],[\"Promotion_2\"],[\"Promotion_2\"],[\"Promotion_2\"],[\"Promotion_1\"],[\"Promotion_1\"],[\"Promotion_1\"],[\"Promotion_1\"],[\"Promotion_2\"],[\"Promotion_2\"],[\"Promotion_2\"],[\"Promotion_2\"],[\"Promotion_3\"],[\"Promotion_3\"],[\"Promotion_3\"],[\"Promotion_3\"],[\"Promotion_1\"],[\"Promotion_1\"],[\"Promotion_1\"],[\"Promotion_1\"],[\"Promotion_1\"],[\"Promotion_1\"],[\"Promotion_1\"],[\"Promotion_1\"],[\"Promotion_2\"],[\"Promotion_2\"],[\"Promotion_2\"],[\"Promotion_2\"]],\"domain\":{\"x\":[0.0,1.0],\"y\":[0.0,1.0]},\"hole\":0.25,\"hovertemplate\":\"Promotion=%{customdata[0]}\\u003cbr\\u003eSalesInThousands=%{value}\\u003cextra\\u003e\\u003c\\u002fextra\\u003e\",\"labels\":[\"Promotion_3\",\"Promotion_3\",\"Promotion_3\",\"Promotion_3\",\"Promotion_2\",\"Promotion_2\",\"Promotion_2\",\"Promotion_2\",\"Promotion_1\",\"Promotion_1\",\"Promotion_1\",\"Promotion_1\",\"Promotion_2\",\"Promotion_2\",\"Promotion_2\",\"Promotion_2\",\"Promotion_2\",\"Promotion_2\",\"Promotion_2\",\"Promotion_2\",\"Promotion_3\",\"Promotion_3\",\"Promotion_3\",\"Promotion_3\",\"Promotion_1\",\"Promotion_1\",\"Promotion_1\",\"Promotion_1\",\"Promotion_2\",\"Promotion_2\",\"Promotion_2\",\"Promotion_2\",\"Promotion_1\",\"Promotion_1\",\"Promotion_1\",\"Promotion_1\",\"Promotion_2\",\"Promotion_2\",\"Promotion_2\",\"Promotion_2\",\"Promotion_3\",\"Promotion_3\",\"Promotion_3\",\"Promotion_3\",\"Promotion_1\",\"Promotion_1\",\"Promotion_1\",\"Promotion_1\",\"Promotion_1\",\"Promotion_1\",\"Promotion_1\",\"Promotion_1\",\"Promotion_1\",\"Promotion_1\",\"Promotion_1\",\"Promotion_1\",\"Promotion_3\",\"Promotion_3\",\"Promotion_3\",\"Promotion_3\",\"Promotion_3\",\"Promotion_3\",\"Promotion_3\",\"Promotion_3\",\"Promotion_3\",\"Promotion_3\",\"Promotion_3\",\"Promotion_3\",\"Promotion_3\",\"Promotion_3\",\"Promotion_3\",\"Promotion_3\",\"Promotion_3\",\"Promotion_3\",\"Promotion_3\",\"Promotion_3\",\"Promotion_3\",\"Promotion_3\",\"Promotion_3\",\"Promotion_3\",\"Promotion_1\",\"Promotion_1\",\"Promotion_1\",\"Promotion_1\",\"Promotion_3\",\"Promotion_3\",\"Promotion_3\",\"Promotion_3\",\"Promotion_2\",\"Promotion_2\",\"Promotion_2\",\"Promotion_2\",\"Promotion_3\",\"Promotion_3\",\"Promotion_3\",\"Promotion_3\",\"Promotion_3\",\"Promotion_3\",\"Promotion_3\",\"Promotion_3\",\"Promotion_3\",\"Promotion_3\",\"Promotion_3\",\"Promotion_3\",\"Promotion_3\",\"Promotion_3\",\"Promotion_3\",\"Promotion_3\",\"Promotion_1\",\"Promotion_1\",\"Promotion_1\",\"Promotion_1\",\"Promotion_1\",\"Promotion_1\",\"Promotion_1\",\"Promotion_1\",\"Promotion_2\",\"Promotion_2\",\"Promotion_2\",\"Promotion_2\",\"Promotion_3\",\"Promotion_3\",\"Promotion_3\",\"Promotion_3\",\"Promotion_2\",\"Promotion_2\",\"Promotion_2\",\"Promotion_2\",\"Promotion_1\",\"Promotion_1\",\"Promotion_1\",\"Promotion_1\",\"Promotion_2\",\"Promotion_2\",\"Promotion_2\",\"Promotion_2\",\"Promotion_3\",\"Promotion_3\",\"Promotion_3\",\"Promotion_3\",\"Promotion_3\",\"Promotion_3\",\"Promotion_3\",\"Promotion_3\",\"Promotion_1\",\"Promotion_1\",\"Promotion_1\",\"Promotion_1\",\"Promotion_2\",\"Promotion_2\",\"Promotion_2\",\"Promotion_2\",\"Promotion_1\",\"Promotion_1\",\"Promotion_1\",\"Promotion_1\",\"Promotion_2\",\"Promotion_2\",\"Promotion_2\",\"Promotion_2\",\"Promotion_1\",\"Promotion_1\",\"Promotion_1\",\"Promotion_1\",\"Promotion_2\",\"Promotion_2\",\"Promotion_2\",\"Promotion_2\",\"Promotion_3\",\"Promotion_3\",\"Promotion_3\",\"Promotion_3\",\"Promotion_1\",\"Promotion_1\",\"Promotion_1\",\"Promotion_1\",\"Promotion_1\",\"Promotion_1\",\"Promotion_1\",\"Promotion_1\",\"Promotion_2\",\"Promotion_2\",\"Promotion_2\",\"Promotion_2\",\"Promotion_1\",\"Promotion_1\",\"Promotion_1\",\"Promotion_1\",\"Promotion_2\",\"Promotion_2\",\"Promotion_2\",\"Promotion_2\",\"Promotion_2\",\"Promotion_2\",\"Promotion_2\",\"Promotion_2\",\"Promotion_1\",\"Promotion_1\",\"Promotion_1\",\"Promotion_1\",\"Promotion_3\",\"Promotion_3\",\"Promotion_3\",\"Promotion_3\",\"Promotion_2\",\"Promotion_2\",\"Promotion_2\",\"Promotion_2\",\"Promotion_2\",\"Promotion_2\",\"Promotion_2\",\"Promotion_2\",\"Promotion_2\",\"Promotion_2\",\"Promotion_2\",\"Promotion_2\",\"Promotion_2\",\"Promotion_2\",\"Promotion_2\",\"Promotion_2\",\"Promotion_2\",\"Promotion_2\",\"Promotion_2\",\"Promotion_2\",\"Promotion_3\",\"Promotion_3\",\"Promotion_3\",\"Promotion_3\",\"Promotion_2\",\"Promotion_2\",\"Promotion_2\",\"Promotion_2\",\"Promotion_2\",\"Promotion_2\",\"Promotion_2\",\"Promotion_2\",\"Promotion_1\",\"Promotion_1\",\"Promotion_1\",\"Promotion_1\",\"Promotion_3\",\"Promotion_3\",\"Promotion_3\",\"Promotion_3\",\"Promotion_1\",\"Promotion_1\",\"Promotion_1\",\"Promotion_1\",\"Promotion_2\",\"Promotion_2\",\"Promotion_2\",\"Promotion_2\",\"Promotion_3\",\"Promotion_3\",\"Promotion_3\",\"Promotion_3\",\"Promotion_3\",\"Promotion_3\",\"Promotion_3\",\"Promotion_3\",\"Promotion_3\",\"Promotion_3\",\"Promotion_3\",\"Promotion_3\",\"Promotion_2\",\"Promotion_2\",\"Promotion_2\",\"Promotion_2\",\"Promotion_2\",\"Promotion_2\",\"Promotion_2\",\"Promotion_2\",\"Promotion_1\",\"Promotion_1\",\"Promotion_1\",\"Promotion_1\",\"Promotion_2\",\"Promotion_2\",\"Promotion_2\",\"Promotion_2\",\"Promotion_2\",\"Promotion_2\",\"Promotion_2\",\"Promotion_2\",\"Promotion_2\",\"Promotion_2\",\"Promotion_2\",\"Promotion_2\",\"Promotion_3\",\"Promotion_3\",\"Promotion_3\",\"Promotion_3\",\"Promotion_1\",\"Promotion_1\",\"Promotion_1\",\"Promotion_1\",\"Promotion_2\",\"Promotion_2\",\"Promotion_2\",\"Promotion_2\",\"Promotion_3\",\"Promotion_3\",\"Promotion_3\",\"Promotion_3\",\"Promotion_1\",\"Promotion_1\",\"Promotion_1\",\"Promotion_1\",\"Promotion_1\",\"Promotion_1\",\"Promotion_1\",\"Promotion_1\",\"Promotion_1\",\"Promotion_1\",\"Promotion_1\",\"Promotion_1\",\"Promotion_3\",\"Promotion_3\",\"Promotion_3\",\"Promotion_3\",\"Promotion_3\",\"Promotion_3\",\"Promotion_3\",\"Promotion_3\",\"Promotion_3\",\"Promotion_3\",\"Promotion_3\",\"Promotion_3\",\"Promotion_2\",\"Promotion_2\",\"Promotion_2\",\"Promotion_2\",\"Promotion_3\",\"Promotion_3\",\"Promotion_3\",\"Promotion_3\",\"Promotion_3\",\"Promotion_3\",\"Promotion_3\",\"Promotion_3\",\"Promotion_3\",\"Promotion_3\",\"Promotion_3\",\"Promotion_3\",\"Promotion_2\",\"Promotion_2\",\"Promotion_2\",\"Promotion_2\",\"Promotion_1\",\"Promotion_1\",\"Promotion_1\",\"Promotion_1\",\"Promotion_1\",\"Promotion_1\",\"Promotion_1\",\"Promotion_1\",\"Promotion_1\",\"Promotion_1\",\"Promotion_1\",\"Promotion_1\",\"Promotion_3\",\"Promotion_3\",\"Promotion_3\",\"Promotion_3\",\"Promotion_3\",\"Promotion_3\",\"Promotion_3\",\"Promotion_3\",\"Promotion_1\",\"Promotion_1\",\"Promotion_1\",\"Promotion_1\",\"Promotion_2\",\"Promotion_2\",\"Promotion_2\",\"Promotion_2\",\"Promotion_2\",\"Promotion_2\",\"Promotion_2\",\"Promotion_2\",\"Promotion_3\",\"Promotion_3\",\"Promotion_3\",\"Promotion_3\",\"Promotion_1\",\"Promotion_1\",\"Promotion_1\",\"Promotion_1\",\"Promotion_1\",\"Promotion_1\",\"Promotion_1\",\"Promotion_1\",\"Promotion_1\",\"Promotion_1\",\"Promotion_1\",\"Promotion_1\",\"Promotion_3\",\"Promotion_3\",\"Promotion_3\",\"Promotion_3\",\"Promotion_3\",\"Promotion_3\",\"Promotion_3\",\"Promotion_3\",\"Promotion_1\",\"Promotion_1\",\"Promotion_1\",\"Promotion_1\",\"Promotion_2\",\"Promotion_2\",\"Promotion_2\",\"Promotion_2\",\"Promotion_2\",\"Promotion_2\",\"Promotion_2\",\"Promotion_2\",\"Promotion_3\",\"Promotion_3\",\"Promotion_3\",\"Promotion_3\",\"Promotion_1\",\"Promotion_1\",\"Promotion_1\",\"Promotion_1\",\"Promotion_3\",\"Promotion_3\",\"Promotion_3\",\"Promotion_3\",\"Promotion_1\",\"Promotion_1\",\"Promotion_1\",\"Promotion_1\",\"Promotion_2\",\"Promotion_2\",\"Promotion_2\",\"Promotion_2\",\"Promotion_3\",\"Promotion_3\",\"Promotion_3\",\"Promotion_3\",\"Promotion_1\",\"Promotion_1\",\"Promotion_1\",\"Promotion_1\",\"Promotion_3\",\"Promotion_3\",\"Promotion_3\",\"Promotion_3\",\"Promotion_3\",\"Promotion_3\",\"Promotion_3\",\"Promotion_3\",\"Promotion_2\",\"Promotion_2\",\"Promotion_2\",\"Promotion_2\",\"Promotion_3\",\"Promotion_3\",\"Promotion_3\",\"Promotion_3\",\"Promotion_3\",\"Promotion_3\",\"Promotion_3\",\"Promotion_3\",\"Promotion_1\",\"Promotion_1\",\"Promotion_1\",\"Promotion_1\",\"Promotion_2\",\"Promotion_2\",\"Promotion_2\",\"Promotion_2\",\"Promotion_1\",\"Promotion_1\",\"Promotion_1\",\"Promotion_1\",\"Promotion_3\",\"Promotion_3\",\"Promotion_3\",\"Promotion_3\",\"Promotion_2\",\"Promotion_2\",\"Promotion_2\",\"Promotion_2\",\"Promotion_3\",\"Promotion_3\",\"Promotion_3\",\"Promotion_3\",\"Promotion_2\",\"Promotion_2\",\"Promotion_2\",\"Promotion_2\",\"Promotion_2\",\"Promotion_2\",\"Promotion_2\",\"Promotion_2\",\"Promotion_2\",\"Promotion_2\",\"Promotion_2\",\"Promotion_2\",\"Promotion_1\",\"Promotion_1\",\"Promotion_1\",\"Promotion_1\",\"Promotion_1\",\"Promotion_1\",\"Promotion_1\",\"Promotion_1\",\"Promotion_2\",\"Promotion_2\",\"Promotion_2\",\"Promotion_2\",\"Promotion_2\",\"Promotion_2\",\"Promotion_2\",\"Promotion_2\",\"Promotion_1\",\"Promotion_1\",\"Promotion_1\",\"Promotion_1\",\"Promotion_2\",\"Promotion_2\",\"Promotion_2\",\"Promotion_2\",\"Promotion_1\",\"Promotion_1\",\"Promotion_1\",\"Promotion_1\",\"Promotion_2\",\"Promotion_2\",\"Promotion_2\",\"Promotion_2\",\"Promotion_3\",\"Promotion_3\",\"Promotion_3\",\"Promotion_3\",\"Promotion_1\",\"Promotion_1\",\"Promotion_1\",\"Promotion_1\",\"Promotion_1\",\"Promotion_1\",\"Promotion_1\",\"Promotion_1\",\"Promotion_2\",\"Promotion_2\",\"Promotion_2\",\"Promotion_2\"],\"legendgroup\":\"\",\"marker\":{\"colors\":[\"#d00000\",\"#d00000\",\"#d00000\",\"#d00000\",\"#ffba08\",\"#ffba08\",\"#ffba08\",\"#ffba08\",\"#3f88c5\",\"#3f88c5\",\"#3f88c5\",\"#3f88c5\",\"#ffba08\",\"#ffba08\",\"#ffba08\",\"#ffba08\",\"#ffba08\",\"#ffba08\",\"#ffba08\",\"#ffba08\",\"#d00000\",\"#d00000\",\"#d00000\",\"#d00000\",\"#3f88c5\",\"#3f88c5\",\"#3f88c5\",\"#3f88c5\",\"#ffba08\",\"#ffba08\",\"#ffba08\",\"#ffba08\",\"#3f88c5\",\"#3f88c5\",\"#3f88c5\",\"#3f88c5\",\"#ffba08\",\"#ffba08\",\"#ffba08\",\"#ffba08\",\"#d00000\",\"#d00000\",\"#d00000\",\"#d00000\",\"#3f88c5\",\"#3f88c5\",\"#3f88c5\",\"#3f88c5\",\"#3f88c5\",\"#3f88c5\",\"#3f88c5\",\"#3f88c5\",\"#3f88c5\",\"#3f88c5\",\"#3f88c5\",\"#3f88c5\",\"#d00000\",\"#d00000\",\"#d00000\",\"#d00000\",\"#d00000\",\"#d00000\",\"#d00000\",\"#d00000\",\"#d00000\",\"#d00000\",\"#d00000\",\"#d00000\",\"#d00000\",\"#d00000\",\"#d00000\",\"#d00000\",\"#d00000\",\"#d00000\",\"#d00000\",\"#d00000\",\"#d00000\",\"#d00000\",\"#d00000\",\"#d00000\",\"#3f88c5\",\"#3f88c5\",\"#3f88c5\",\"#3f88c5\",\"#d00000\",\"#d00000\",\"#d00000\",\"#d00000\",\"#ffba08\",\"#ffba08\",\"#ffba08\",\"#ffba08\",\"#d00000\",\"#d00000\",\"#d00000\",\"#d00000\",\"#d00000\",\"#d00000\",\"#d00000\",\"#d00000\",\"#d00000\",\"#d00000\",\"#d00000\",\"#d00000\",\"#d00000\",\"#d00000\",\"#d00000\",\"#d00000\",\"#3f88c5\",\"#3f88c5\",\"#3f88c5\",\"#3f88c5\",\"#3f88c5\",\"#3f88c5\",\"#3f88c5\",\"#3f88c5\",\"#ffba08\",\"#ffba08\",\"#ffba08\",\"#ffba08\",\"#d00000\",\"#d00000\",\"#d00000\",\"#d00000\",\"#ffba08\",\"#ffba08\",\"#ffba08\",\"#ffba08\",\"#3f88c5\",\"#3f88c5\",\"#3f88c5\",\"#3f88c5\",\"#ffba08\",\"#ffba08\",\"#ffba08\",\"#ffba08\",\"#d00000\",\"#d00000\",\"#d00000\",\"#d00000\",\"#d00000\",\"#d00000\",\"#d00000\",\"#d00000\",\"#3f88c5\",\"#3f88c5\",\"#3f88c5\",\"#3f88c5\",\"#ffba08\",\"#ffba08\",\"#ffba08\",\"#ffba08\",\"#3f88c5\",\"#3f88c5\",\"#3f88c5\",\"#3f88c5\",\"#ffba08\",\"#ffba08\",\"#ffba08\",\"#ffba08\",\"#3f88c5\",\"#3f88c5\",\"#3f88c5\",\"#3f88c5\",\"#ffba08\",\"#ffba08\",\"#ffba08\",\"#ffba08\",\"#d00000\",\"#d00000\",\"#d00000\",\"#d00000\",\"#3f88c5\",\"#3f88c5\",\"#3f88c5\",\"#3f88c5\",\"#3f88c5\",\"#3f88c5\",\"#3f88c5\",\"#3f88c5\",\"#ffba08\",\"#ffba08\",\"#ffba08\",\"#ffba08\",\"#3f88c5\",\"#3f88c5\",\"#3f88c5\",\"#3f88c5\",\"#ffba08\",\"#ffba08\",\"#ffba08\",\"#ffba08\",\"#ffba08\",\"#ffba08\",\"#ffba08\",\"#ffba08\",\"#3f88c5\",\"#3f88c5\",\"#3f88c5\",\"#3f88c5\",\"#d00000\",\"#d00000\",\"#d00000\",\"#d00000\",\"#ffba08\",\"#ffba08\",\"#ffba08\",\"#ffba08\",\"#ffba08\",\"#ffba08\",\"#ffba08\",\"#ffba08\",\"#ffba08\",\"#ffba08\",\"#ffba08\",\"#ffba08\",\"#ffba08\",\"#ffba08\",\"#ffba08\",\"#ffba08\",\"#ffba08\",\"#ffba08\",\"#ffba08\",\"#ffba08\",\"#d00000\",\"#d00000\",\"#d00000\",\"#d00000\",\"#ffba08\",\"#ffba08\",\"#ffba08\",\"#ffba08\",\"#ffba08\",\"#ffba08\",\"#ffba08\",\"#ffba08\",\"#3f88c5\",\"#3f88c5\",\"#3f88c5\",\"#3f88c5\",\"#d00000\",\"#d00000\",\"#d00000\",\"#d00000\",\"#3f88c5\",\"#3f88c5\",\"#3f88c5\",\"#3f88c5\",\"#ffba08\",\"#ffba08\",\"#ffba08\",\"#ffba08\",\"#d00000\",\"#d00000\",\"#d00000\",\"#d00000\",\"#d00000\",\"#d00000\",\"#d00000\",\"#d00000\",\"#d00000\",\"#d00000\",\"#d00000\",\"#d00000\",\"#ffba08\",\"#ffba08\",\"#ffba08\",\"#ffba08\",\"#ffba08\",\"#ffba08\",\"#ffba08\",\"#ffba08\",\"#3f88c5\",\"#3f88c5\",\"#3f88c5\",\"#3f88c5\",\"#ffba08\",\"#ffba08\",\"#ffba08\",\"#ffba08\",\"#ffba08\",\"#ffba08\",\"#ffba08\",\"#ffba08\",\"#ffba08\",\"#ffba08\",\"#ffba08\",\"#ffba08\",\"#d00000\",\"#d00000\",\"#d00000\",\"#d00000\",\"#3f88c5\",\"#3f88c5\",\"#3f88c5\",\"#3f88c5\",\"#ffba08\",\"#ffba08\",\"#ffba08\",\"#ffba08\",\"#d00000\",\"#d00000\",\"#d00000\",\"#d00000\",\"#3f88c5\",\"#3f88c5\",\"#3f88c5\",\"#3f88c5\",\"#3f88c5\",\"#3f88c5\",\"#3f88c5\",\"#3f88c5\",\"#3f88c5\",\"#3f88c5\",\"#3f88c5\",\"#3f88c5\",\"#d00000\",\"#d00000\",\"#d00000\",\"#d00000\",\"#d00000\",\"#d00000\",\"#d00000\",\"#d00000\",\"#d00000\",\"#d00000\",\"#d00000\",\"#d00000\",\"#ffba08\",\"#ffba08\",\"#ffba08\",\"#ffba08\",\"#d00000\",\"#d00000\",\"#d00000\",\"#d00000\",\"#d00000\",\"#d00000\",\"#d00000\",\"#d00000\",\"#d00000\",\"#d00000\",\"#d00000\",\"#d00000\",\"#ffba08\",\"#ffba08\",\"#ffba08\",\"#ffba08\",\"#3f88c5\",\"#3f88c5\",\"#3f88c5\",\"#3f88c5\",\"#3f88c5\",\"#3f88c5\",\"#3f88c5\",\"#3f88c5\",\"#3f88c5\",\"#3f88c5\",\"#3f88c5\",\"#3f88c5\",\"#d00000\",\"#d00000\",\"#d00000\",\"#d00000\",\"#d00000\",\"#d00000\",\"#d00000\",\"#d00000\",\"#3f88c5\",\"#3f88c5\",\"#3f88c5\",\"#3f88c5\",\"#ffba08\",\"#ffba08\",\"#ffba08\",\"#ffba08\",\"#ffba08\",\"#ffba08\",\"#ffba08\",\"#ffba08\",\"#d00000\",\"#d00000\",\"#d00000\",\"#d00000\",\"#3f88c5\",\"#3f88c5\",\"#3f88c5\",\"#3f88c5\",\"#3f88c5\",\"#3f88c5\",\"#3f88c5\",\"#3f88c5\",\"#3f88c5\",\"#3f88c5\",\"#3f88c5\",\"#3f88c5\",\"#d00000\",\"#d00000\",\"#d00000\",\"#d00000\",\"#d00000\",\"#d00000\",\"#d00000\",\"#d00000\",\"#3f88c5\",\"#3f88c5\",\"#3f88c5\",\"#3f88c5\",\"#ffba08\",\"#ffba08\",\"#ffba08\",\"#ffba08\",\"#ffba08\",\"#ffba08\",\"#ffba08\",\"#ffba08\",\"#d00000\",\"#d00000\",\"#d00000\",\"#d00000\",\"#3f88c5\",\"#3f88c5\",\"#3f88c5\",\"#3f88c5\",\"#d00000\",\"#d00000\",\"#d00000\",\"#d00000\",\"#3f88c5\",\"#3f88c5\",\"#3f88c5\",\"#3f88c5\",\"#ffba08\",\"#ffba08\",\"#ffba08\",\"#ffba08\",\"#d00000\",\"#d00000\",\"#d00000\",\"#d00000\",\"#3f88c5\",\"#3f88c5\",\"#3f88c5\",\"#3f88c5\",\"#d00000\",\"#d00000\",\"#d00000\",\"#d00000\",\"#d00000\",\"#d00000\",\"#d00000\",\"#d00000\",\"#ffba08\",\"#ffba08\",\"#ffba08\",\"#ffba08\",\"#d00000\",\"#d00000\",\"#d00000\",\"#d00000\",\"#d00000\",\"#d00000\",\"#d00000\",\"#d00000\",\"#3f88c5\",\"#3f88c5\",\"#3f88c5\",\"#3f88c5\",\"#ffba08\",\"#ffba08\",\"#ffba08\",\"#ffba08\",\"#3f88c5\",\"#3f88c5\",\"#3f88c5\",\"#3f88c5\",\"#d00000\",\"#d00000\",\"#d00000\",\"#d00000\",\"#ffba08\",\"#ffba08\",\"#ffba08\",\"#ffba08\",\"#d00000\",\"#d00000\",\"#d00000\",\"#d00000\",\"#ffba08\",\"#ffba08\",\"#ffba08\",\"#ffba08\",\"#ffba08\",\"#ffba08\",\"#ffba08\",\"#ffba08\",\"#ffba08\",\"#ffba08\",\"#ffba08\",\"#ffba08\",\"#3f88c5\",\"#3f88c5\",\"#3f88c5\",\"#3f88c5\",\"#3f88c5\",\"#3f88c5\",\"#3f88c5\",\"#3f88c5\",\"#ffba08\",\"#ffba08\",\"#ffba08\",\"#ffba08\",\"#ffba08\",\"#ffba08\",\"#ffba08\",\"#ffba08\",\"#3f88c5\",\"#3f88c5\",\"#3f88c5\",\"#3f88c5\",\"#ffba08\",\"#ffba08\",\"#ffba08\",\"#ffba08\",\"#3f88c5\",\"#3f88c5\",\"#3f88c5\",\"#3f88c5\",\"#ffba08\",\"#ffba08\",\"#ffba08\",\"#ffba08\",\"#d00000\",\"#d00000\",\"#d00000\",\"#d00000\",\"#3f88c5\",\"#3f88c5\",\"#3f88c5\",\"#3f88c5\",\"#3f88c5\",\"#3f88c5\",\"#3f88c5\",\"#3f88c5\",\"#ffba08\",\"#ffba08\",\"#ffba08\",\"#ffba08\"]},\"name\":\"\",\"showlegend\":true,\"values\":[33.73,35.67,29.03,39.25,27.81,34.67,27.98,27.72,44.54,37.94,45.49,34.75,39.28,39.8,24.77,30.98,30.37,24.82,37.47,23.35,32.9,22.18,42.98,26.68,42.92,42.16,51.72,36.17,30.08,28.62,25.4,27.26,37.41,38.64,40.9,41.11,34.27,29.3,23.93,35.16,33.42,37.93,33.85,40.25,35.85,36.24,41.73,37.32,50.48,36.88,35.68,46.45,67.48,65.57,68.42,60.93,61.59,63.64,54.68,61.24,62.93,58.77,70.6,65.06,59.76,66.11,62.16,64.04,59.65,57.04,59.73,56.72,58.55,62.19,53.14,62.27,86.14,82.56,79.36,77.17,88.73,85.21,81.55,94.17,89.7,78.43,84.05,81.18,87.43,81.79,88.12,75.29,83.02,90.3,85.18,89.77,82.64,82.89,82.13,88.91,87.7,81.16,81.58,94.21,96.48,84.13,91.98,81.72,93.71,96.01,93.03,97.61,85.11,88.07,94.43,89.44,88.64,81.37,82.14,79.64,84.34,87.9,76.12,82.72,73.22,75.88,78.01,80.17,91.6,80.61,93.86,83.43,82.65,77.39,80.83,80.75,94.89,74.75,93.63,80.82,91.61,79.02,86.11,82.88,99.65,88.64,86.96,89.25,66.22,82.86,83.4,75.61,87.08,89.32,99.12,85.85,79.53,74.03,78.53,76.71,93.32,85.71,77.36,91.29,49.61,43.69,54.49,61.25,51.47,53.47,46.83,56.7,55.94,61.36,56.19,62.06,54.01,63.48,61.96,55.3,47.89,52.37,49.11,52.88,53.79,66.96,57.1,65.12,46.98,53.41,36.17,55.98,51.87,58.01,47.93,51.33,62.16,54.06,51.72,59.64,52.23,51.68,46.22,46.03,40.4,50.28,52.72,38.3,51.79,42.56,44.64,45.11,42.15,42.59,49.56,39.25,48.18,48.25,46.42,43.77,45.3,48.84,45.08,44.67,45.56,55.19,37.84,50.07,47.33,45.42,44.31,40.26,43.27,48.33,44.14,51.5,49.95,55.11,55.28,54.7,50.11,55.59,54.37,51.91,59.34,62.63,49.08,58.04,46.26,47.71,54.09,46.89,57.37,55.53,51.16,57.06,50.59,48.64,50.55,49.08,24.75,41.47,35.1,34.33,31.94,29.64,33.64,36.05,36.7,41.53,27.71,37.2,42.16,36.8,46.98,47.35,32.21,38.41,37.9,44.84,37.45,35.46,31.85,19.26,38.65,17.34,33.14,23.44,37.17,30.52,32.51,29.12,40.46,41.25,32.05,47.5,32.77,30.26,27.55,27.37,47.48,39.41,43.29,42.59,35.3,35.86,49.3,30.81,44.98,41.71,41.1,40.97,41.1,41.56,36.39,39.67,34.46,40.13,32.18,43.73,49.01,46.29,37.14,42.82,47.22,35.24,47.22,43.15,40.71,38.26,41.44,25.7,40.29,48.35,43.26,44.2,46.14,41.12,45.03,38.85,41.96,42.27,38.51,43.51,49.39,40.25,42.46,31.62,53.38,55.31,56.1,43.24,48.18,43.11,43.78,56.9,53.53,47.92,56.18,46.66,40.43,51.15,42.5,52.76,47.63,52.21,40.17,48.36,42.76,50.52,56.86,47.51,38.56,37.29,35.6,33.35,48.5,36.8,48.32,41.54,53.56,49.72,48.77,46.84,51.82,45.02,49.44,51.32,52.85,40.84,64.45,44.43,56.64,46.06,55.46,51.41,49.67,49.98,49.5,47.35,50.26,52.05,51.14,46.3,56.99,45.57,45.92,50.52,32.61,57.27,37.32,41.22,39.73,50.3,40.16,41.37,54.79,52.39,42.15,49.63,54.95,55.78,46.49,56.84,48.06,51.09,44.19,49.52,65.11,54.38,57.14,49.91,48.76,44.14,58.1,44.16,44.66,53.78,43.91,52.41,50.54,58.43,59.77,60.44,50.94,49.38,63.98,45.84,51.01,56.16,45.77,46.47,46.02,51.09,51.68,55.91,55.9,59.8,60.97,64.14,39.98,54.58,52.64,45.43,49.3,61.8,58.0,55.2,53.76,39.36,47.2,53.66,61.53,59.17,63.73,61.77,51.89,51.17,54.33,50.05,51.09,54.82,44.16,53.95,54.34,60.24,56.39,58.33,51.26,51.73,51.35,41.85,45.21,55.02,45.35,47.06,43.59,46.03,47.22,51.41,58.19,62.72,66.66,64.66,66.34,60.59,61.95,67.84,55.39,49.16,58.26,48.12,49.98,44.84,55.12,47.36,62.33,53.68,62.37,63.58,44.7,43.44,52.36,45.9,53.51,49.76,68.31,66.1,43.61,46.2,51.52,49.71,53.5,56.34,51.83,50.2,49.62,62.54,50.11,61.63,59.87,62.99,57.2,64.34,50.2,45.75,44.29,49.41],\"type\":\"pie\",\"textfont\":{\"color\":\"white\",\"size\":15},\"pull\":[0.1,0,0,0,0.1],\"rotation\":90,\"textinfo\":\"label+percent+value\",\"textposition\":\"inside\"}],                        {\"template\":{\"data\":{\"histogram2dcontour\":[{\"type\":\"histogram2dcontour\",\"colorbar\":{\"outlinewidth\":0,\"ticks\":\"\"},\"colorscale\":[[0.0,\"#0d0887\"],[0.1111111111111111,\"#46039f\"],[0.2222222222222222,\"#7201a8\"],[0.3333333333333333,\"#9c179e\"],[0.4444444444444444,\"#bd3786\"],[0.5555555555555556,\"#d8576b\"],[0.6666666666666666,\"#ed7953\"],[0.7777777777777778,\"#fb9f3a\"],[0.8888888888888888,\"#fdca26\"],[1.0,\"#f0f921\"]]}],\"choropleth\":[{\"type\":\"choropleth\",\"colorbar\":{\"outlinewidth\":0,\"ticks\":\"\"}}],\"histogram2d\":[{\"type\":\"histogram2d\",\"colorbar\":{\"outlinewidth\":0,\"ticks\":\"\"},\"colorscale\":[[0.0,\"#0d0887\"],[0.1111111111111111,\"#46039f\"],[0.2222222222222222,\"#7201a8\"],[0.3333333333333333,\"#9c179e\"],[0.4444444444444444,\"#bd3786\"],[0.5555555555555556,\"#d8576b\"],[0.6666666666666666,\"#ed7953\"],[0.7777777777777778,\"#fb9f3a\"],[0.8888888888888888,\"#fdca26\"],[1.0,\"#f0f921\"]]}],\"heatmap\":[{\"type\":\"heatmap\",\"colorbar\":{\"outlinewidth\":0,\"ticks\":\"\"},\"colorscale\":[[0.0,\"#0d0887\"],[0.1111111111111111,\"#46039f\"],[0.2222222222222222,\"#7201a8\"],[0.3333333333333333,\"#9c179e\"],[0.4444444444444444,\"#bd3786\"],[0.5555555555555556,\"#d8576b\"],[0.6666666666666666,\"#ed7953\"],[0.7777777777777778,\"#fb9f3a\"],[0.8888888888888888,\"#fdca26\"],[1.0,\"#f0f921\"]]}],\"heatmapgl\":[{\"type\":\"heatmapgl\",\"colorbar\":{\"outlinewidth\":0,\"ticks\":\"\"},\"colorscale\":[[0.0,\"#0d0887\"],[0.1111111111111111,\"#46039f\"],[0.2222222222222222,\"#7201a8\"],[0.3333333333333333,\"#9c179e\"],[0.4444444444444444,\"#bd3786\"],[0.5555555555555556,\"#d8576b\"],[0.6666666666666666,\"#ed7953\"],[0.7777777777777778,\"#fb9f3a\"],[0.8888888888888888,\"#fdca26\"],[1.0,\"#f0f921\"]]}],\"contourcarpet\":[{\"type\":\"contourcarpet\",\"colorbar\":{\"outlinewidth\":0,\"ticks\":\"\"}}],\"contour\":[{\"type\":\"contour\",\"colorbar\":{\"outlinewidth\":0,\"ticks\":\"\"},\"colorscale\":[[0.0,\"#0d0887\"],[0.1111111111111111,\"#46039f\"],[0.2222222222222222,\"#7201a8\"],[0.3333333333333333,\"#9c179e\"],[0.4444444444444444,\"#bd3786\"],[0.5555555555555556,\"#d8576b\"],[0.6666666666666666,\"#ed7953\"],[0.7777777777777778,\"#fb9f3a\"],[0.8888888888888888,\"#fdca26\"],[1.0,\"#f0f921\"]]}],\"surface\":[{\"type\":\"surface\",\"colorbar\":{\"outlinewidth\":0,\"ticks\":\"\"},\"colorscale\":[[0.0,\"#0d0887\"],[0.1111111111111111,\"#46039f\"],[0.2222222222222222,\"#7201a8\"],[0.3333333333333333,\"#9c179e\"],[0.4444444444444444,\"#bd3786\"],[0.5555555555555556,\"#d8576b\"],[0.6666666666666666,\"#ed7953\"],[0.7777777777777778,\"#fb9f3a\"],[0.8888888888888888,\"#fdca26\"],[1.0,\"#f0f921\"]]}],\"mesh3d\":[{\"type\":\"mesh3d\",\"colorbar\":{\"outlinewidth\":0,\"ticks\":\"\"}}],\"scatter\":[{\"fillpattern\":{\"fillmode\":\"overlay\",\"size\":10,\"solidity\":0.2},\"type\":\"scatter\"}],\"parcoords\":[{\"type\":\"parcoords\",\"line\":{\"colorbar\":{\"outlinewidth\":0,\"ticks\":\"\"}}}],\"scatterpolargl\":[{\"type\":\"scatterpolargl\",\"marker\":{\"colorbar\":{\"outlinewidth\":0,\"ticks\":\"\"}}}],\"bar\":[{\"error_x\":{\"color\":\"#2a3f5f\"},\"error_y\":{\"color\":\"#2a3f5f\"},\"marker\":{\"line\":{\"color\":\"#E5ECF6\",\"width\":0.5},\"pattern\":{\"fillmode\":\"overlay\",\"size\":10,\"solidity\":0.2}},\"type\":\"bar\"}],\"scattergeo\":[{\"type\":\"scattergeo\",\"marker\":{\"colorbar\":{\"outlinewidth\":0,\"ticks\":\"\"}}}],\"scatterpolar\":[{\"type\":\"scatterpolar\",\"marker\":{\"colorbar\":{\"outlinewidth\":0,\"ticks\":\"\"}}}],\"histogram\":[{\"marker\":{\"pattern\":{\"fillmode\":\"overlay\",\"size\":10,\"solidity\":0.2}},\"type\":\"histogram\"}],\"scattergl\":[{\"type\":\"scattergl\",\"marker\":{\"colorbar\":{\"outlinewidth\":0,\"ticks\":\"\"}}}],\"scatter3d\":[{\"type\":\"scatter3d\",\"line\":{\"colorbar\":{\"outlinewidth\":0,\"ticks\":\"\"}},\"marker\":{\"colorbar\":{\"outlinewidth\":0,\"ticks\":\"\"}}}],\"scattermapbox\":[{\"type\":\"scattermapbox\",\"marker\":{\"colorbar\":{\"outlinewidth\":0,\"ticks\":\"\"}}}],\"scatterternary\":[{\"type\":\"scatterternary\",\"marker\":{\"colorbar\":{\"outlinewidth\":0,\"ticks\":\"\"}}}],\"scattercarpet\":[{\"type\":\"scattercarpet\",\"marker\":{\"colorbar\":{\"outlinewidth\":0,\"ticks\":\"\"}}}],\"carpet\":[{\"aaxis\":{\"endlinecolor\":\"#2a3f5f\",\"gridcolor\":\"white\",\"linecolor\":\"white\",\"minorgridcolor\":\"white\",\"startlinecolor\":\"#2a3f5f\"},\"baxis\":{\"endlinecolor\":\"#2a3f5f\",\"gridcolor\":\"white\",\"linecolor\":\"white\",\"minorgridcolor\":\"white\",\"startlinecolor\":\"#2a3f5f\"},\"type\":\"carpet\"}],\"table\":[{\"cells\":{\"fill\":{\"color\":\"#EBF0F8\"},\"line\":{\"color\":\"white\"}},\"header\":{\"fill\":{\"color\":\"#C8D4E3\"},\"line\":{\"color\":\"white\"}},\"type\":\"table\"}],\"barpolar\":[{\"marker\":{\"line\":{\"color\":\"#E5ECF6\",\"width\":0.5},\"pattern\":{\"fillmode\":\"overlay\",\"size\":10,\"solidity\":0.2}},\"type\":\"barpolar\"}],\"pie\":[{\"automargin\":true,\"type\":\"pie\"}]},\"layout\":{\"autotypenumbers\":\"strict\",\"colorway\":[\"#636efa\",\"#EF553B\",\"#00cc96\",\"#ab63fa\",\"#FFA15A\",\"#19d3f3\",\"#FF6692\",\"#B6E880\",\"#FF97FF\",\"#FECB52\"],\"font\":{\"color\":\"#2a3f5f\"},\"hovermode\":\"closest\",\"hoverlabel\":{\"align\":\"left\"},\"paper_bgcolor\":\"white\",\"plot_bgcolor\":\"#E5ECF6\",\"polar\":{\"bgcolor\":\"#E5ECF6\",\"angularaxis\":{\"gridcolor\":\"white\",\"linecolor\":\"white\",\"ticks\":\"\"},\"radialaxis\":{\"gridcolor\":\"white\",\"linecolor\":\"white\",\"ticks\":\"\"}},\"ternary\":{\"bgcolor\":\"#E5ECF6\",\"aaxis\":{\"gridcolor\":\"white\",\"linecolor\":\"white\",\"ticks\":\"\"},\"baxis\":{\"gridcolor\":\"white\",\"linecolor\":\"white\",\"ticks\":\"\"},\"caxis\":{\"gridcolor\":\"white\",\"linecolor\":\"white\",\"ticks\":\"\"}},\"coloraxis\":{\"colorbar\":{\"outlinewidth\":0,\"ticks\":\"\"}},\"colorscale\":{\"sequential\":[[0.0,\"#0d0887\"],[0.1111111111111111,\"#46039f\"],[0.2222222222222222,\"#7201a8\"],[0.3333333333333333,\"#9c179e\"],[0.4444444444444444,\"#bd3786\"],[0.5555555555555556,\"#d8576b\"],[0.6666666666666666,\"#ed7953\"],[0.7777777777777778,\"#fb9f3a\"],[0.8888888888888888,\"#fdca26\"],[1.0,\"#f0f921\"]],\"sequentialminus\":[[0.0,\"#0d0887\"],[0.1111111111111111,\"#46039f\"],[0.2222222222222222,\"#7201a8\"],[0.3333333333333333,\"#9c179e\"],[0.4444444444444444,\"#bd3786\"],[0.5555555555555556,\"#d8576b\"],[0.6666666666666666,\"#ed7953\"],[0.7777777777777778,\"#fb9f3a\"],[0.8888888888888888,\"#fdca26\"],[1.0,\"#f0f921\"]],\"diverging\":[[0,\"#8e0152\"],[0.1,\"#c51b7d\"],[0.2,\"#de77ae\"],[0.3,\"#f1b6da\"],[0.4,\"#fde0ef\"],[0.5,\"#f7f7f7\"],[0.6,\"#e6f5d0\"],[0.7,\"#b8e186\"],[0.8,\"#7fbc41\"],[0.9,\"#4d9221\"],[1,\"#276419\"]]},\"xaxis\":{\"gridcolor\":\"white\",\"linecolor\":\"white\",\"ticks\":\"\",\"title\":{\"standoff\":15},\"zerolinecolor\":\"white\",\"automargin\":true,\"zerolinewidth\":2},\"yaxis\":{\"gridcolor\":\"white\",\"linecolor\":\"white\",\"ticks\":\"\",\"title\":{\"standoff\":15},\"zerolinecolor\":\"white\",\"automargin\":true,\"zerolinewidth\":2},\"scene\":{\"xaxis\":{\"backgroundcolor\":\"#E5ECF6\",\"gridcolor\":\"white\",\"linecolor\":\"white\",\"showbackground\":true,\"ticks\":\"\",\"zerolinecolor\":\"white\",\"gridwidth\":2},\"yaxis\":{\"backgroundcolor\":\"#E5ECF6\",\"gridcolor\":\"white\",\"linecolor\":\"white\",\"showbackground\":true,\"ticks\":\"\",\"zerolinecolor\":\"white\",\"gridwidth\":2},\"zaxis\":{\"backgroundcolor\":\"#E5ECF6\",\"gridcolor\":\"white\",\"linecolor\":\"white\",\"showbackground\":true,\"ticks\":\"\",\"zerolinecolor\":\"white\",\"gridwidth\":2}},\"shapedefaults\":{\"line\":{\"color\":\"#2a3f5f\"}},\"annotationdefaults\":{\"arrowcolor\":\"#2a3f5f\",\"arrowhead\":0,\"arrowwidth\":1},\"geo\":{\"bgcolor\":\"white\",\"landcolor\":\"#E5ECF6\",\"subunitcolor\":\"white\",\"showland\":true,\"showlakes\":true,\"lakecolor\":\"white\"},\"title\":{\"x\":0.05},\"mapbox\":{\"style\":\"light\"}}},\"legend\":{\"tracegroupgap\":0},\"margin\":{\"t\":60},\"piecolorway\":[\"#d00000\",\"#ffba08\",\"#3f88c5\"],\"title\":{\"text\":\"\\u003cb\\u003eSales Distribution by Different Promotions\\u003c\\u002fb\\u003e\",\"font\":{\"size\":20}}},                        {\"responsive\": true}                    ).then(function(){\n",
              "                            \n",
              "var gd = document.getElementById('145bfbc3-af07-4b02-a950-d47b3f994dc9');\n",
              "var x = new MutationObserver(function (mutations, observer) {{\n",
              "        var display = window.getComputedStyle(gd).display;\n",
              "        if (!display || display === 'none') {{\n",
              "            console.log([gd, 'removed!']);\n",
              "            Plotly.purge(gd);\n",
              "            observer.disconnect();\n",
              "        }}\n",
              "}});\n",
              "\n",
              "// Listen for the removal of the full notebook cells\n",
              "var notebookContainer = gd.closest('#notebook-container');\n",
              "if (notebookContainer) {{\n",
              "    x.observe(notebookContainer, {childList: true});\n",
              "}}\n",
              "\n",
              "// Listen for the clearing of the current output cell\n",
              "var outputEl = gd.closest('.output');\n",
              "if (outputEl) {{\n",
              "    x.observe(outputEl, {childList: true});\n",
              "}}\n",
              "\n",
              "                        })                };                            </script>        </div>\n",
              "</body>\n",
              "</html>"
            ]
          },
          "metadata": {}
        }
      ]
    },
    {
      "cell_type": "markdown",
      "source": [
        "The highest sales distribution comes from Promotion_3 covered 35.5% of total sales with 10,408.52 thousand dollars followed by Promotion_1 and Promotion_2 being the least with less than 10,000 thousand dollars in four weeks promotion"
      ],
      "metadata": {
        "id": "0SpSET73EXSy"
      }
    },
    {
      "cell_type": "code",
      "source": [
        "sales_stat = market_campaign.groupby('Promotion').describe()['SalesInThousands']\n",
        "\n",
        "sales_stat"
      ],
      "metadata": {
        "colab": {
          "base_uri": "https://localhost:8080/",
          "height": 181
        },
        "id": "phJxuzhjGR0W",
        "outputId": "e52f115a-ca25-4e1b-a235-108d1cd55e28"
      },
      "execution_count": 28,
      "outputs": [
        {
          "output_type": "execute_result",
          "data": {
            "text/plain": [
              "             count       mean        std    min      25%     50%      75%  \\\n",
              "Promotion                                                                   \n",
              "Promotion_1  172.0  58.099012  16.553782  30.81  46.3525  55.385  63.6175   \n",
              "Promotion_2  188.0  47.329415  15.108955  17.34  38.1700  45.385  51.7450   \n",
              "Promotion_3  188.0  55.364468  16.766231  22.18  44.1975  51.165  61.7325   \n",
              "\n",
              "               max  \n",
              "Promotion           \n",
              "Promotion_1  99.65  \n",
              "Promotion_2  88.64  \n",
              "Promotion_3  96.48  "
            ],
            "text/html": [
              "\n",
              "  <div id=\"df-f60f6174-dba8-4477-b32a-db71e3581e5b\" class=\"colab-df-container\">\n",
              "    <div>\n",
              "<style scoped>\n",
              "    .dataframe tbody tr th:only-of-type {\n",
              "        vertical-align: middle;\n",
              "    }\n",
              "\n",
              "    .dataframe tbody tr th {\n",
              "        vertical-align: top;\n",
              "    }\n",
              "\n",
              "    .dataframe thead th {\n",
              "        text-align: right;\n",
              "    }\n",
              "</style>\n",
              "<table border=\"1\" class=\"dataframe\">\n",
              "  <thead>\n",
              "    <tr style=\"text-align: right;\">\n",
              "      <th></th>\n",
              "      <th>count</th>\n",
              "      <th>mean</th>\n",
              "      <th>std</th>\n",
              "      <th>min</th>\n",
              "      <th>25%</th>\n",
              "      <th>50%</th>\n",
              "      <th>75%</th>\n",
              "      <th>max</th>\n",
              "    </tr>\n",
              "    <tr>\n",
              "      <th>Promotion</th>\n",
              "      <th></th>\n",
              "      <th></th>\n",
              "      <th></th>\n",
              "      <th></th>\n",
              "      <th></th>\n",
              "      <th></th>\n",
              "      <th></th>\n",
              "      <th></th>\n",
              "    </tr>\n",
              "  </thead>\n",
              "  <tbody>\n",
              "    <tr>\n",
              "      <th>Promotion_1</th>\n",
              "      <td>172.0</td>\n",
              "      <td>58.099012</td>\n",
              "      <td>16.553782</td>\n",
              "      <td>30.81</td>\n",
              "      <td>46.3525</td>\n",
              "      <td>55.385</td>\n",
              "      <td>63.6175</td>\n",
              "      <td>99.65</td>\n",
              "    </tr>\n",
              "    <tr>\n",
              "      <th>Promotion_2</th>\n",
              "      <td>188.0</td>\n",
              "      <td>47.329415</td>\n",
              "      <td>15.108955</td>\n",
              "      <td>17.34</td>\n",
              "      <td>38.1700</td>\n",
              "      <td>45.385</td>\n",
              "      <td>51.7450</td>\n",
              "      <td>88.64</td>\n",
              "    </tr>\n",
              "    <tr>\n",
              "      <th>Promotion_3</th>\n",
              "      <td>188.0</td>\n",
              "      <td>55.364468</td>\n",
              "      <td>16.766231</td>\n",
              "      <td>22.18</td>\n",
              "      <td>44.1975</td>\n",
              "      <td>51.165</td>\n",
              "      <td>61.7325</td>\n",
              "      <td>96.48</td>\n",
              "    </tr>\n",
              "  </tbody>\n",
              "</table>\n",
              "</div>\n",
              "    <div class=\"colab-df-buttons\">\n",
              "\n",
              "  <div class=\"colab-df-container\">\n",
              "    <button class=\"colab-df-convert\" onclick=\"convertToInteractive('df-f60f6174-dba8-4477-b32a-db71e3581e5b')\"\n",
              "            title=\"Convert this dataframe to an interactive table.\"\n",
              "            style=\"display:none;\">\n",
              "\n",
              "  <svg xmlns=\"http://www.w3.org/2000/svg\" height=\"24px\" viewBox=\"0 -960 960 960\">\n",
              "    <path d=\"M120-120v-720h720v720H120Zm60-500h600v-160H180v160Zm220 220h160v-160H400v160Zm0 220h160v-160H400v160ZM180-400h160v-160H180v160Zm440 0h160v-160H620v160ZM180-180h160v-160H180v160Zm440 0h160v-160H620v160Z\"/>\n",
              "  </svg>\n",
              "    </button>\n",
              "\n",
              "  <style>\n",
              "    .colab-df-container {\n",
              "      display:flex;\n",
              "      gap: 12px;\n",
              "    }\n",
              "\n",
              "    .colab-df-convert {\n",
              "      background-color: #E8F0FE;\n",
              "      border: none;\n",
              "      border-radius: 50%;\n",
              "      cursor: pointer;\n",
              "      display: none;\n",
              "      fill: #1967D2;\n",
              "      height: 32px;\n",
              "      padding: 0 0 0 0;\n",
              "      width: 32px;\n",
              "    }\n",
              "\n",
              "    .colab-df-convert:hover {\n",
              "      background-color: #E2EBFA;\n",
              "      box-shadow: 0px 1px 2px rgba(60, 64, 67, 0.3), 0px 1px 3px 1px rgba(60, 64, 67, 0.15);\n",
              "      fill: #174EA6;\n",
              "    }\n",
              "\n",
              "    .colab-df-buttons div {\n",
              "      margin-bottom: 4px;\n",
              "    }\n",
              "\n",
              "    [theme=dark] .colab-df-convert {\n",
              "      background-color: #3B4455;\n",
              "      fill: #D2E3FC;\n",
              "    }\n",
              "\n",
              "    [theme=dark] .colab-df-convert:hover {\n",
              "      background-color: #434B5C;\n",
              "      box-shadow: 0px 1px 3px 1px rgba(0, 0, 0, 0.15);\n",
              "      filter: drop-shadow(0px 1px 2px rgba(0, 0, 0, 0.3));\n",
              "      fill: #FFFFFF;\n",
              "    }\n",
              "  </style>\n",
              "\n",
              "    <script>\n",
              "      const buttonEl =\n",
              "        document.querySelector('#df-f60f6174-dba8-4477-b32a-db71e3581e5b button.colab-df-convert');\n",
              "      buttonEl.style.display =\n",
              "        google.colab.kernel.accessAllowed ? 'block' : 'none';\n",
              "\n",
              "      async function convertToInteractive(key) {\n",
              "        const element = document.querySelector('#df-f60f6174-dba8-4477-b32a-db71e3581e5b');\n",
              "        const dataTable =\n",
              "          await google.colab.kernel.invokeFunction('convertToInteractive',\n",
              "                                                    [key], {});\n",
              "        if (!dataTable) return;\n",
              "\n",
              "        const docLinkHtml = 'Like what you see? Visit the ' +\n",
              "          '<a target=\"_blank\" href=https://colab.research.google.com/notebooks/data_table.ipynb>data table notebook</a>'\n",
              "          + ' to learn more about interactive tables.';\n",
              "        element.innerHTML = '';\n",
              "        dataTable['output_type'] = 'display_data';\n",
              "        await google.colab.output.renderOutput(dataTable, element);\n",
              "        const docLink = document.createElement('div');\n",
              "        docLink.innerHTML = docLinkHtml;\n",
              "        element.appendChild(docLink);\n",
              "      }\n",
              "    </script>\n",
              "  </div>\n",
              "\n",
              "\n",
              "<div id=\"df-6204be0f-a2eb-4ed4-93f4-aeca34076218\">\n",
              "  <button class=\"colab-df-quickchart\" onclick=\"quickchart('df-6204be0f-a2eb-4ed4-93f4-aeca34076218')\"\n",
              "            title=\"Suggest charts.\"\n",
              "            style=\"display:none;\">\n",
              "\n",
              "<svg xmlns=\"http://www.w3.org/2000/svg\" height=\"24px\"viewBox=\"0 0 24 24\"\n",
              "     width=\"24px\">\n",
              "    <g>\n",
              "        <path d=\"M19 3H5c-1.1 0-2 .9-2 2v14c0 1.1.9 2 2 2h14c1.1 0 2-.9 2-2V5c0-1.1-.9-2-2-2zM9 17H7v-7h2v7zm4 0h-2V7h2v10zm4 0h-2v-4h2v4z\"/>\n",
              "    </g>\n",
              "</svg>\n",
              "  </button>\n",
              "\n",
              "<style>\n",
              "  .colab-df-quickchart {\n",
              "    background-color: #E8F0FE;\n",
              "    border: none;\n",
              "    border-radius: 50%;\n",
              "    cursor: pointer;\n",
              "    display: none;\n",
              "    fill: #1967D2;\n",
              "    height: 32px;\n",
              "    padding: 0 0 0 0;\n",
              "    width: 32px;\n",
              "  }\n",
              "\n",
              "  .colab-df-quickchart:hover {\n",
              "    background-color: #E2EBFA;\n",
              "    box-shadow: 0px 1px 2px rgba(60, 64, 67, 0.3), 0px 1px 3px 1px rgba(60, 64, 67, 0.15);\n",
              "    fill: #174EA6;\n",
              "  }\n",
              "\n",
              "  [theme=dark] .colab-df-quickchart {\n",
              "    background-color: #3B4455;\n",
              "    fill: #D2E3FC;\n",
              "  }\n",
              "\n",
              "  [theme=dark] .colab-df-quickchart:hover {\n",
              "    background-color: #434B5C;\n",
              "    box-shadow: 0px 1px 3px 1px rgba(0, 0, 0, 0.15);\n",
              "    filter: drop-shadow(0px 1px 2px rgba(0, 0, 0, 0.3));\n",
              "    fill: #FFFFFF;\n",
              "  }\n",
              "</style>\n",
              "\n",
              "  <script>\n",
              "    async function quickchart(key) {\n",
              "      const charts = await google.colab.kernel.invokeFunction(\n",
              "          'suggestCharts', [key], {});\n",
              "    }\n",
              "    (() => {\n",
              "      let quickchartButtonEl =\n",
              "        document.querySelector('#df-6204be0f-a2eb-4ed4-93f4-aeca34076218 button');\n",
              "      quickchartButtonEl.style.display =\n",
              "        google.colab.kernel.accessAllowed ? 'block' : 'none';\n",
              "    })();\n",
              "  </script>\n",
              "</div>\n",
              "    </div>\n",
              "  </div>\n"
            ]
          },
          "metadata": {},
          "execution_count": 28
        }
      ]
    },
    {
      "cell_type": "markdown",
      "source": [
        "The majority of stores earned below 51.7 to 63.6 thousand dollars from the implemented promotions. Conversely, the average earnings covered a range of about 47.3 to 58.1 thousand dollars\n",
        "\n",
        "Notably from statistics, Promotion_1 held the maximum and the highest mean of earnings, yet Promotion_3 accounted for the greatest total earnings due to its wider implementation across markets"
      ],
      "metadata": {
        "id": "9n-XEI8YHhyl"
      }
    },
    {
      "cell_type": "markdown",
      "source": [
        "#### **Market Size Distribution in Different Promotions**"
      ],
      "metadata": {
        "id": "_Zb5Bii9LgJV"
      }
    },
    {
      "cell_type": "code",
      "source": [
        "m_size = market_campaign['MarketSize'].value_counts().reset_index()\n",
        "m_size.columns = ['MarketSize', 'Counts']\n",
        "\n",
        "m_size"
      ],
      "metadata": {
        "colab": {
          "base_uri": "https://localhost:8080/",
          "height": 148
        },
        "id": "-EJD7OYLPFdH",
        "outputId": "d687909f-0886-415f-a8e8-c7246638fe1a"
      },
      "execution_count": 35,
      "outputs": [
        {
          "output_type": "execute_result",
          "data": {
            "text/plain": [
              "  MarketSize  Counts\n",
              "0     Medium     320\n",
              "1      Large     168\n",
              "2      Small      60"
            ],
            "text/html": [
              "\n",
              "  <div id=\"df-1ba978f2-c79b-4d00-b709-a09c3b03031f\" class=\"colab-df-container\">\n",
              "    <div>\n",
              "<style scoped>\n",
              "    .dataframe tbody tr th:only-of-type {\n",
              "        vertical-align: middle;\n",
              "    }\n",
              "\n",
              "    .dataframe tbody tr th {\n",
              "        vertical-align: top;\n",
              "    }\n",
              "\n",
              "    .dataframe thead th {\n",
              "        text-align: right;\n",
              "    }\n",
              "</style>\n",
              "<table border=\"1\" class=\"dataframe\">\n",
              "  <thead>\n",
              "    <tr style=\"text-align: right;\">\n",
              "      <th></th>\n",
              "      <th>MarketSize</th>\n",
              "      <th>Counts</th>\n",
              "    </tr>\n",
              "  </thead>\n",
              "  <tbody>\n",
              "    <tr>\n",
              "      <th>0</th>\n",
              "      <td>Medium</td>\n",
              "      <td>320</td>\n",
              "    </tr>\n",
              "    <tr>\n",
              "      <th>1</th>\n",
              "      <td>Large</td>\n",
              "      <td>168</td>\n",
              "    </tr>\n",
              "    <tr>\n",
              "      <th>2</th>\n",
              "      <td>Small</td>\n",
              "      <td>60</td>\n",
              "    </tr>\n",
              "  </tbody>\n",
              "</table>\n",
              "</div>\n",
              "    <div class=\"colab-df-buttons\">\n",
              "\n",
              "  <div class=\"colab-df-container\">\n",
              "    <button class=\"colab-df-convert\" onclick=\"convertToInteractive('df-1ba978f2-c79b-4d00-b709-a09c3b03031f')\"\n",
              "            title=\"Convert this dataframe to an interactive table.\"\n",
              "            style=\"display:none;\">\n",
              "\n",
              "  <svg xmlns=\"http://www.w3.org/2000/svg\" height=\"24px\" viewBox=\"0 -960 960 960\">\n",
              "    <path d=\"M120-120v-720h720v720H120Zm60-500h600v-160H180v160Zm220 220h160v-160H400v160Zm0 220h160v-160H400v160ZM180-400h160v-160H180v160Zm440 0h160v-160H620v160ZM180-180h160v-160H180v160Zm440 0h160v-160H620v160Z\"/>\n",
              "  </svg>\n",
              "    </button>\n",
              "\n",
              "  <style>\n",
              "    .colab-df-container {\n",
              "      display:flex;\n",
              "      gap: 12px;\n",
              "    }\n",
              "\n",
              "    .colab-df-convert {\n",
              "      background-color: #E8F0FE;\n",
              "      border: none;\n",
              "      border-radius: 50%;\n",
              "      cursor: pointer;\n",
              "      display: none;\n",
              "      fill: #1967D2;\n",
              "      height: 32px;\n",
              "      padding: 0 0 0 0;\n",
              "      width: 32px;\n",
              "    }\n",
              "\n",
              "    .colab-df-convert:hover {\n",
              "      background-color: #E2EBFA;\n",
              "      box-shadow: 0px 1px 2px rgba(60, 64, 67, 0.3), 0px 1px 3px 1px rgba(60, 64, 67, 0.15);\n",
              "      fill: #174EA6;\n",
              "    }\n",
              "\n",
              "    .colab-df-buttons div {\n",
              "      margin-bottom: 4px;\n",
              "    }\n",
              "\n",
              "    [theme=dark] .colab-df-convert {\n",
              "      background-color: #3B4455;\n",
              "      fill: #D2E3FC;\n",
              "    }\n",
              "\n",
              "    [theme=dark] .colab-df-convert:hover {\n",
              "      background-color: #434B5C;\n",
              "      box-shadow: 0px 1px 3px 1px rgba(0, 0, 0, 0.15);\n",
              "      filter: drop-shadow(0px 1px 2px rgba(0, 0, 0, 0.3));\n",
              "      fill: #FFFFFF;\n",
              "    }\n",
              "  </style>\n",
              "\n",
              "    <script>\n",
              "      const buttonEl =\n",
              "        document.querySelector('#df-1ba978f2-c79b-4d00-b709-a09c3b03031f button.colab-df-convert');\n",
              "      buttonEl.style.display =\n",
              "        google.colab.kernel.accessAllowed ? 'block' : 'none';\n",
              "\n",
              "      async function convertToInteractive(key) {\n",
              "        const element = document.querySelector('#df-1ba978f2-c79b-4d00-b709-a09c3b03031f');\n",
              "        const dataTable =\n",
              "          await google.colab.kernel.invokeFunction('convertToInteractive',\n",
              "                                                    [key], {});\n",
              "        if (!dataTable) return;\n",
              "\n",
              "        const docLinkHtml = 'Like what you see? Visit the ' +\n",
              "          '<a target=\"_blank\" href=https://colab.research.google.com/notebooks/data_table.ipynb>data table notebook</a>'\n",
              "          + ' to learn more about interactive tables.';\n",
              "        element.innerHTML = '';\n",
              "        dataTable['output_type'] = 'display_data';\n",
              "        await google.colab.output.renderOutput(dataTable, element);\n",
              "        const docLink = document.createElement('div');\n",
              "        docLink.innerHTML = docLinkHtml;\n",
              "        element.appendChild(docLink);\n",
              "      }\n",
              "    </script>\n",
              "  </div>\n",
              "\n",
              "\n",
              "<div id=\"df-7ad21bd5-517d-4741-ba59-fc351026473c\">\n",
              "  <button class=\"colab-df-quickchart\" onclick=\"quickchart('df-7ad21bd5-517d-4741-ba59-fc351026473c')\"\n",
              "            title=\"Suggest charts.\"\n",
              "            style=\"display:none;\">\n",
              "\n",
              "<svg xmlns=\"http://www.w3.org/2000/svg\" height=\"24px\"viewBox=\"0 0 24 24\"\n",
              "     width=\"24px\">\n",
              "    <g>\n",
              "        <path d=\"M19 3H5c-1.1 0-2 .9-2 2v14c0 1.1.9 2 2 2h14c1.1 0 2-.9 2-2V5c0-1.1-.9-2-2-2zM9 17H7v-7h2v7zm4 0h-2V7h2v10zm4 0h-2v-4h2v4z\"/>\n",
              "    </g>\n",
              "</svg>\n",
              "  </button>\n",
              "\n",
              "<style>\n",
              "  .colab-df-quickchart {\n",
              "    background-color: #E8F0FE;\n",
              "    border: none;\n",
              "    border-radius: 50%;\n",
              "    cursor: pointer;\n",
              "    display: none;\n",
              "    fill: #1967D2;\n",
              "    height: 32px;\n",
              "    padding: 0 0 0 0;\n",
              "    width: 32px;\n",
              "  }\n",
              "\n",
              "  .colab-df-quickchart:hover {\n",
              "    background-color: #E2EBFA;\n",
              "    box-shadow: 0px 1px 2px rgba(60, 64, 67, 0.3), 0px 1px 3px 1px rgba(60, 64, 67, 0.15);\n",
              "    fill: #174EA6;\n",
              "  }\n",
              "\n",
              "  [theme=dark] .colab-df-quickchart {\n",
              "    background-color: #3B4455;\n",
              "    fill: #D2E3FC;\n",
              "  }\n",
              "\n",
              "  [theme=dark] .colab-df-quickchart:hover {\n",
              "    background-color: #434B5C;\n",
              "    box-shadow: 0px 1px 3px 1px rgba(0, 0, 0, 0.15);\n",
              "    filter: drop-shadow(0px 1px 2px rgba(0, 0, 0, 0.3));\n",
              "    fill: #FFFFFF;\n",
              "  }\n",
              "</style>\n",
              "\n",
              "  <script>\n",
              "    async function quickchart(key) {\n",
              "      const charts = await google.colab.kernel.invokeFunction(\n",
              "          'suggestCharts', [key], {});\n",
              "    }\n",
              "    (() => {\n",
              "      let quickchartButtonEl =\n",
              "        document.querySelector('#df-7ad21bd5-517d-4741-ba59-fc351026473c button');\n",
              "      quickchartButtonEl.style.display =\n",
              "        google.colab.kernel.accessAllowed ? 'block' : 'none';\n",
              "    })();\n",
              "  </script>\n",
              "</div>\n",
              "    </div>\n",
              "  </div>\n"
            ]
          },
          "metadata": {},
          "execution_count": 35
        }
      ]
    },
    {
      "cell_type": "code",
      "source": [
        "fig_msize_bar = px.bar(m_size, x='MarketSize', y='Counts', color='MarketSize', color_discrete_sequence=['#ffba08', '#3f88c5', '#d00000'])\n",
        "fig_msize_bar.update_traces(textangle=0, textposition=\"inside\")\n",
        "fig_msize_bar.update_layout(title='<b>Market Size Distribution</b>', title_font=dict(size=20), yaxis_title='Counts')\n",
        "\n",
        "fig_msize_bar.show()"
      ],
      "metadata": {
        "colab": {
          "base_uri": "https://localhost:8080/",
          "height": 542
        },
        "id": "ybe-2geKLsoT",
        "outputId": "feb54649-7a2a-4c7b-87b3-c8bebfbaeef3"
      },
      "execution_count": 19,
      "outputs": [
        {
          "output_type": "display_data",
          "data": {
            "text/html": [
              "<html>\n",
              "<head><meta charset=\"utf-8\" /></head>\n",
              "<body>\n",
              "    <div>            <script src=\"https://cdnjs.cloudflare.com/ajax/libs/mathjax/2.7.5/MathJax.js?config=TeX-AMS-MML_SVG\"></script><script type=\"text/javascript\">if (window.MathJax && window.MathJax.Hub && window.MathJax.Hub.Config) {window.MathJax.Hub.Config({SVG: {font: \"STIX-Web\"}});}</script>                <script type=\"text/javascript\">window.PlotlyConfig = {MathJaxConfig: 'local'};</script>\n",
              "        <script charset=\"utf-8\" src=\"https://cdn.plot.ly/plotly-2.24.1.min.js\"></script>                <div id=\"b2b76788-1803-4c6a-96d4-9149c2ce2ba8\" class=\"plotly-graph-div\" style=\"height:525px; width:100%;\"></div>            <script type=\"text/javascript\">                                    window.PLOTLYENV=window.PLOTLYENV || {};                                    if (document.getElementById(\"b2b76788-1803-4c6a-96d4-9149c2ce2ba8\")) {                    Plotly.newPlot(                        \"b2b76788-1803-4c6a-96d4-9149c2ce2ba8\",                        [{\"alignmentgroup\":\"True\",\"hovertemplate\":\"MarketSize=%{x}\\u003cbr\\u003eCounts=%{y}\\u003cextra\\u003e\\u003c\\u002fextra\\u003e\",\"legendgroup\":\"Medium\",\"marker\":{\"color\":\"#ffba08\",\"pattern\":{\"shape\":\"\"}},\"name\":\"Medium\",\"offsetgroup\":\"Medium\",\"orientation\":\"v\",\"showlegend\":true,\"textposition\":\"inside\",\"x\":[\"Medium\"],\"xaxis\":\"x\",\"y\":[320],\"yaxis\":\"y\",\"type\":\"bar\",\"textangle\":0},{\"alignmentgroup\":\"True\",\"hovertemplate\":\"MarketSize=%{x}\\u003cbr\\u003eCounts=%{y}\\u003cextra\\u003e\\u003c\\u002fextra\\u003e\",\"legendgroup\":\"Large\",\"marker\":{\"color\":\"#3f88c5\",\"pattern\":{\"shape\":\"\"}},\"name\":\"Large\",\"offsetgroup\":\"Large\",\"orientation\":\"v\",\"showlegend\":true,\"textposition\":\"inside\",\"x\":[\"Large\"],\"xaxis\":\"x\",\"y\":[168],\"yaxis\":\"y\",\"type\":\"bar\",\"textangle\":0},{\"alignmentgroup\":\"True\",\"hovertemplate\":\"MarketSize=%{x}\\u003cbr\\u003eCounts=%{y}\\u003cextra\\u003e\\u003c\\u002fextra\\u003e\",\"legendgroup\":\"Small\",\"marker\":{\"color\":\"#d00000\",\"pattern\":{\"shape\":\"\"}},\"name\":\"Small\",\"offsetgroup\":\"Small\",\"orientation\":\"v\",\"showlegend\":true,\"textposition\":\"inside\",\"x\":[\"Small\"],\"xaxis\":\"x\",\"y\":[60],\"yaxis\":\"y\",\"type\":\"bar\",\"textangle\":0}],                        {\"template\":{\"data\":{\"histogram2dcontour\":[{\"type\":\"histogram2dcontour\",\"colorbar\":{\"outlinewidth\":0,\"ticks\":\"\"},\"colorscale\":[[0.0,\"#0d0887\"],[0.1111111111111111,\"#46039f\"],[0.2222222222222222,\"#7201a8\"],[0.3333333333333333,\"#9c179e\"],[0.4444444444444444,\"#bd3786\"],[0.5555555555555556,\"#d8576b\"],[0.6666666666666666,\"#ed7953\"],[0.7777777777777778,\"#fb9f3a\"],[0.8888888888888888,\"#fdca26\"],[1.0,\"#f0f921\"]]}],\"choropleth\":[{\"type\":\"choropleth\",\"colorbar\":{\"outlinewidth\":0,\"ticks\":\"\"}}],\"histogram2d\":[{\"type\":\"histogram2d\",\"colorbar\":{\"outlinewidth\":0,\"ticks\":\"\"},\"colorscale\":[[0.0,\"#0d0887\"],[0.1111111111111111,\"#46039f\"],[0.2222222222222222,\"#7201a8\"],[0.3333333333333333,\"#9c179e\"],[0.4444444444444444,\"#bd3786\"],[0.5555555555555556,\"#d8576b\"],[0.6666666666666666,\"#ed7953\"],[0.7777777777777778,\"#fb9f3a\"],[0.8888888888888888,\"#fdca26\"],[1.0,\"#f0f921\"]]}],\"heatmap\":[{\"type\":\"heatmap\",\"colorbar\":{\"outlinewidth\":0,\"ticks\":\"\"},\"colorscale\":[[0.0,\"#0d0887\"],[0.1111111111111111,\"#46039f\"],[0.2222222222222222,\"#7201a8\"],[0.3333333333333333,\"#9c179e\"],[0.4444444444444444,\"#bd3786\"],[0.5555555555555556,\"#d8576b\"],[0.6666666666666666,\"#ed7953\"],[0.7777777777777778,\"#fb9f3a\"],[0.8888888888888888,\"#fdca26\"],[1.0,\"#f0f921\"]]}],\"heatmapgl\":[{\"type\":\"heatmapgl\",\"colorbar\":{\"outlinewidth\":0,\"ticks\":\"\"},\"colorscale\":[[0.0,\"#0d0887\"],[0.1111111111111111,\"#46039f\"],[0.2222222222222222,\"#7201a8\"],[0.3333333333333333,\"#9c179e\"],[0.4444444444444444,\"#bd3786\"],[0.5555555555555556,\"#d8576b\"],[0.6666666666666666,\"#ed7953\"],[0.7777777777777778,\"#fb9f3a\"],[0.8888888888888888,\"#fdca26\"],[1.0,\"#f0f921\"]]}],\"contourcarpet\":[{\"type\":\"contourcarpet\",\"colorbar\":{\"outlinewidth\":0,\"ticks\":\"\"}}],\"contour\":[{\"type\":\"contour\",\"colorbar\":{\"outlinewidth\":0,\"ticks\":\"\"},\"colorscale\":[[0.0,\"#0d0887\"],[0.1111111111111111,\"#46039f\"],[0.2222222222222222,\"#7201a8\"],[0.3333333333333333,\"#9c179e\"],[0.4444444444444444,\"#bd3786\"],[0.5555555555555556,\"#d8576b\"],[0.6666666666666666,\"#ed7953\"],[0.7777777777777778,\"#fb9f3a\"],[0.8888888888888888,\"#fdca26\"],[1.0,\"#f0f921\"]]}],\"surface\":[{\"type\":\"surface\",\"colorbar\":{\"outlinewidth\":0,\"ticks\":\"\"},\"colorscale\":[[0.0,\"#0d0887\"],[0.1111111111111111,\"#46039f\"],[0.2222222222222222,\"#7201a8\"],[0.3333333333333333,\"#9c179e\"],[0.4444444444444444,\"#bd3786\"],[0.5555555555555556,\"#d8576b\"],[0.6666666666666666,\"#ed7953\"],[0.7777777777777778,\"#fb9f3a\"],[0.8888888888888888,\"#fdca26\"],[1.0,\"#f0f921\"]]}],\"mesh3d\":[{\"type\":\"mesh3d\",\"colorbar\":{\"outlinewidth\":0,\"ticks\":\"\"}}],\"scatter\":[{\"fillpattern\":{\"fillmode\":\"overlay\",\"size\":10,\"solidity\":0.2},\"type\":\"scatter\"}],\"parcoords\":[{\"type\":\"parcoords\",\"line\":{\"colorbar\":{\"outlinewidth\":0,\"ticks\":\"\"}}}],\"scatterpolargl\":[{\"type\":\"scatterpolargl\",\"marker\":{\"colorbar\":{\"outlinewidth\":0,\"ticks\":\"\"}}}],\"bar\":[{\"error_x\":{\"color\":\"#2a3f5f\"},\"error_y\":{\"color\":\"#2a3f5f\"},\"marker\":{\"line\":{\"color\":\"#E5ECF6\",\"width\":0.5},\"pattern\":{\"fillmode\":\"overlay\",\"size\":10,\"solidity\":0.2}},\"type\":\"bar\"}],\"scattergeo\":[{\"type\":\"scattergeo\",\"marker\":{\"colorbar\":{\"outlinewidth\":0,\"ticks\":\"\"}}}],\"scatterpolar\":[{\"type\":\"scatterpolar\",\"marker\":{\"colorbar\":{\"outlinewidth\":0,\"ticks\":\"\"}}}],\"histogram\":[{\"marker\":{\"pattern\":{\"fillmode\":\"overlay\",\"size\":10,\"solidity\":0.2}},\"type\":\"histogram\"}],\"scattergl\":[{\"type\":\"scattergl\",\"marker\":{\"colorbar\":{\"outlinewidth\":0,\"ticks\":\"\"}}}],\"scatter3d\":[{\"type\":\"scatter3d\",\"line\":{\"colorbar\":{\"outlinewidth\":0,\"ticks\":\"\"}},\"marker\":{\"colorbar\":{\"outlinewidth\":0,\"ticks\":\"\"}}}],\"scattermapbox\":[{\"type\":\"scattermapbox\",\"marker\":{\"colorbar\":{\"outlinewidth\":0,\"ticks\":\"\"}}}],\"scatterternary\":[{\"type\":\"scatterternary\",\"marker\":{\"colorbar\":{\"outlinewidth\":0,\"ticks\":\"\"}}}],\"scattercarpet\":[{\"type\":\"scattercarpet\",\"marker\":{\"colorbar\":{\"outlinewidth\":0,\"ticks\":\"\"}}}],\"carpet\":[{\"aaxis\":{\"endlinecolor\":\"#2a3f5f\",\"gridcolor\":\"white\",\"linecolor\":\"white\",\"minorgridcolor\":\"white\",\"startlinecolor\":\"#2a3f5f\"},\"baxis\":{\"endlinecolor\":\"#2a3f5f\",\"gridcolor\":\"white\",\"linecolor\":\"white\",\"minorgridcolor\":\"white\",\"startlinecolor\":\"#2a3f5f\"},\"type\":\"carpet\"}],\"table\":[{\"cells\":{\"fill\":{\"color\":\"#EBF0F8\"},\"line\":{\"color\":\"white\"}},\"header\":{\"fill\":{\"color\":\"#C8D4E3\"},\"line\":{\"color\":\"white\"}},\"type\":\"table\"}],\"barpolar\":[{\"marker\":{\"line\":{\"color\":\"#E5ECF6\",\"width\":0.5},\"pattern\":{\"fillmode\":\"overlay\",\"size\":10,\"solidity\":0.2}},\"type\":\"barpolar\"}],\"pie\":[{\"automargin\":true,\"type\":\"pie\"}]},\"layout\":{\"autotypenumbers\":\"strict\",\"colorway\":[\"#636efa\",\"#EF553B\",\"#00cc96\",\"#ab63fa\",\"#FFA15A\",\"#19d3f3\",\"#FF6692\",\"#B6E880\",\"#FF97FF\",\"#FECB52\"],\"font\":{\"color\":\"#2a3f5f\"},\"hovermode\":\"closest\",\"hoverlabel\":{\"align\":\"left\"},\"paper_bgcolor\":\"white\",\"plot_bgcolor\":\"#E5ECF6\",\"polar\":{\"bgcolor\":\"#E5ECF6\",\"angularaxis\":{\"gridcolor\":\"white\",\"linecolor\":\"white\",\"ticks\":\"\"},\"radialaxis\":{\"gridcolor\":\"white\",\"linecolor\":\"white\",\"ticks\":\"\"}},\"ternary\":{\"bgcolor\":\"#E5ECF6\",\"aaxis\":{\"gridcolor\":\"white\",\"linecolor\":\"white\",\"ticks\":\"\"},\"baxis\":{\"gridcolor\":\"white\",\"linecolor\":\"white\",\"ticks\":\"\"},\"caxis\":{\"gridcolor\":\"white\",\"linecolor\":\"white\",\"ticks\":\"\"}},\"coloraxis\":{\"colorbar\":{\"outlinewidth\":0,\"ticks\":\"\"}},\"colorscale\":{\"sequential\":[[0.0,\"#0d0887\"],[0.1111111111111111,\"#46039f\"],[0.2222222222222222,\"#7201a8\"],[0.3333333333333333,\"#9c179e\"],[0.4444444444444444,\"#bd3786\"],[0.5555555555555556,\"#d8576b\"],[0.6666666666666666,\"#ed7953\"],[0.7777777777777778,\"#fb9f3a\"],[0.8888888888888888,\"#fdca26\"],[1.0,\"#f0f921\"]],\"sequentialminus\":[[0.0,\"#0d0887\"],[0.1111111111111111,\"#46039f\"],[0.2222222222222222,\"#7201a8\"],[0.3333333333333333,\"#9c179e\"],[0.4444444444444444,\"#bd3786\"],[0.5555555555555556,\"#d8576b\"],[0.6666666666666666,\"#ed7953\"],[0.7777777777777778,\"#fb9f3a\"],[0.8888888888888888,\"#fdca26\"],[1.0,\"#f0f921\"]],\"diverging\":[[0,\"#8e0152\"],[0.1,\"#c51b7d\"],[0.2,\"#de77ae\"],[0.3,\"#f1b6da\"],[0.4,\"#fde0ef\"],[0.5,\"#f7f7f7\"],[0.6,\"#e6f5d0\"],[0.7,\"#b8e186\"],[0.8,\"#7fbc41\"],[0.9,\"#4d9221\"],[1,\"#276419\"]]},\"xaxis\":{\"gridcolor\":\"white\",\"linecolor\":\"white\",\"ticks\":\"\",\"title\":{\"standoff\":15},\"zerolinecolor\":\"white\",\"automargin\":true,\"zerolinewidth\":2},\"yaxis\":{\"gridcolor\":\"white\",\"linecolor\":\"white\",\"ticks\":\"\",\"title\":{\"standoff\":15},\"zerolinecolor\":\"white\",\"automargin\":true,\"zerolinewidth\":2},\"scene\":{\"xaxis\":{\"backgroundcolor\":\"#E5ECF6\",\"gridcolor\":\"white\",\"linecolor\":\"white\",\"showbackground\":true,\"ticks\":\"\",\"zerolinecolor\":\"white\",\"gridwidth\":2},\"yaxis\":{\"backgroundcolor\":\"#E5ECF6\",\"gridcolor\":\"white\",\"linecolor\":\"white\",\"showbackground\":true,\"ticks\":\"\",\"zerolinecolor\":\"white\",\"gridwidth\":2},\"zaxis\":{\"backgroundcolor\":\"#E5ECF6\",\"gridcolor\":\"white\",\"linecolor\":\"white\",\"showbackground\":true,\"ticks\":\"\",\"zerolinecolor\":\"white\",\"gridwidth\":2}},\"shapedefaults\":{\"line\":{\"color\":\"#2a3f5f\"}},\"annotationdefaults\":{\"arrowcolor\":\"#2a3f5f\",\"arrowhead\":0,\"arrowwidth\":1},\"geo\":{\"bgcolor\":\"white\",\"landcolor\":\"#E5ECF6\",\"subunitcolor\":\"white\",\"showland\":true,\"showlakes\":true,\"lakecolor\":\"white\"},\"title\":{\"x\":0.05},\"mapbox\":{\"style\":\"light\"}}},\"xaxis\":{\"anchor\":\"y\",\"domain\":[0.0,1.0],\"title\":{\"text\":\"MarketSize\"},\"categoryorder\":\"array\",\"categoryarray\":[\"Medium\",\"Large\",\"Small\"]},\"yaxis\":{\"anchor\":\"x\",\"domain\":[0.0,1.0],\"title\":{\"text\":\"Counts\"}},\"legend\":{\"title\":{\"text\":\"MarketSize\"},\"tracegroupgap\":0},\"margin\":{\"t\":60},\"barmode\":\"relative\",\"title\":{\"text\":\"\\u003cb\\u003eMarket Size Distribution\\u003c\\u002fb\\u003e\",\"font\":{\"size\":20}}},                        {\"responsive\": true}                    ).then(function(){\n",
              "                            \n",
              "var gd = document.getElementById('b2b76788-1803-4c6a-96d4-9149c2ce2ba8');\n",
              "var x = new MutationObserver(function (mutations, observer) {{\n",
              "        var display = window.getComputedStyle(gd).display;\n",
              "        if (!display || display === 'none') {{\n",
              "            console.log([gd, 'removed!']);\n",
              "            Plotly.purge(gd);\n",
              "            observer.disconnect();\n",
              "        }}\n",
              "}});\n",
              "\n",
              "// Listen for the removal of the full notebook cells\n",
              "var notebookContainer = gd.closest('#notebook-container');\n",
              "if (notebookContainer) {{\n",
              "    x.observe(notebookContainer, {childList: true});\n",
              "}}\n",
              "\n",
              "// Listen for the clearing of the current output cell\n",
              "var outputEl = gd.closest('.output');\n",
              "if (outputEl) {{\n",
              "    x.observe(outputEl, {childList: true});\n",
              "}}\n",
              "\n",
              "                        })                };                            </script>        </div>\n",
              "</body>\n",
              "</html>"
            ]
          },
          "metadata": {}
        }
      ]
    },
    {
      "cell_type": "code",
      "source": [
        "market_campaign['MarketSize'].value_counts().sum()"
      ],
      "metadata": {
        "colab": {
          "base_uri": "https://localhost:8080/"
        },
        "id": "69cws2prRbIf",
        "outputId": "1dc09492-013f-4613-a70c-88219390bc44"
      },
      "execution_count": null,
      "outputs": [
        {
          "output_type": "execute_result",
          "data": {
            "text/plain": [
              "548"
            ]
          },
          "metadata": {},
          "execution_count": 14
        }
      ]
    },
    {
      "cell_type": "markdown",
      "source": [
        "The fast food chain has a total of 548 markets with more than half being the medium market size"
      ],
      "metadata": {
        "id": "chxgAUiI9Aju"
      }
    },
    {
      "cell_type": "markdown",
      "source": [
        "The relationship between promotions and market size then showed by pivoting market size data"
      ],
      "metadata": {
        "id": "vlyXKzLvKV-N"
      }
    },
    {
      "cell_type": "code",
      "source": [
        "market_campaign.groupby(['Promotion', 'MarketSize']).count()['MarketID'].unstack('MarketSize')"
      ],
      "metadata": {
        "colab": {
          "base_uri": "https://localhost:8080/",
          "height": 181
        },
        "id": "qHh6sxPswBaZ",
        "outputId": "2bdb30ff-47d3-4be7-d0b8-44ff083b6cf9"
      },
      "execution_count": 20,
      "outputs": [
        {
          "output_type": "execute_result",
          "data": {
            "text/plain": [
              "MarketSize   Large  Medium  Small\n",
              "Promotion                        \n",
              "Promotion_1     56      96     20\n",
              "Promotion_2     64     108     16\n",
              "Promotion_3     48     116     24"
            ],
            "text/html": [
              "\n",
              "  <div id=\"df-66dd4609-e15e-4f3e-8dc7-bd48d50d6909\" class=\"colab-df-container\">\n",
              "    <div>\n",
              "<style scoped>\n",
              "    .dataframe tbody tr th:only-of-type {\n",
              "        vertical-align: middle;\n",
              "    }\n",
              "\n",
              "    .dataframe tbody tr th {\n",
              "        vertical-align: top;\n",
              "    }\n",
              "\n",
              "    .dataframe thead th {\n",
              "        text-align: right;\n",
              "    }\n",
              "</style>\n",
              "<table border=\"1\" class=\"dataframe\">\n",
              "  <thead>\n",
              "    <tr style=\"text-align: right;\">\n",
              "      <th>MarketSize</th>\n",
              "      <th>Large</th>\n",
              "      <th>Medium</th>\n",
              "      <th>Small</th>\n",
              "    </tr>\n",
              "    <tr>\n",
              "      <th>Promotion</th>\n",
              "      <th></th>\n",
              "      <th></th>\n",
              "      <th></th>\n",
              "    </tr>\n",
              "  </thead>\n",
              "  <tbody>\n",
              "    <tr>\n",
              "      <th>Promotion_1</th>\n",
              "      <td>56</td>\n",
              "      <td>96</td>\n",
              "      <td>20</td>\n",
              "    </tr>\n",
              "    <tr>\n",
              "      <th>Promotion_2</th>\n",
              "      <td>64</td>\n",
              "      <td>108</td>\n",
              "      <td>16</td>\n",
              "    </tr>\n",
              "    <tr>\n",
              "      <th>Promotion_3</th>\n",
              "      <td>48</td>\n",
              "      <td>116</td>\n",
              "      <td>24</td>\n",
              "    </tr>\n",
              "  </tbody>\n",
              "</table>\n",
              "</div>\n",
              "    <div class=\"colab-df-buttons\">\n",
              "\n",
              "  <div class=\"colab-df-container\">\n",
              "    <button class=\"colab-df-convert\" onclick=\"convertToInteractive('df-66dd4609-e15e-4f3e-8dc7-bd48d50d6909')\"\n",
              "            title=\"Convert this dataframe to an interactive table.\"\n",
              "            style=\"display:none;\">\n",
              "\n",
              "  <svg xmlns=\"http://www.w3.org/2000/svg\" height=\"24px\" viewBox=\"0 -960 960 960\">\n",
              "    <path d=\"M120-120v-720h720v720H120Zm60-500h600v-160H180v160Zm220 220h160v-160H400v160Zm0 220h160v-160H400v160ZM180-400h160v-160H180v160Zm440 0h160v-160H620v160ZM180-180h160v-160H180v160Zm440 0h160v-160H620v160Z\"/>\n",
              "  </svg>\n",
              "    </button>\n",
              "\n",
              "  <style>\n",
              "    .colab-df-container {\n",
              "      display:flex;\n",
              "      gap: 12px;\n",
              "    }\n",
              "\n",
              "    .colab-df-convert {\n",
              "      background-color: #E8F0FE;\n",
              "      border: none;\n",
              "      border-radius: 50%;\n",
              "      cursor: pointer;\n",
              "      display: none;\n",
              "      fill: #1967D2;\n",
              "      height: 32px;\n",
              "      padding: 0 0 0 0;\n",
              "      width: 32px;\n",
              "    }\n",
              "\n",
              "    .colab-df-convert:hover {\n",
              "      background-color: #E2EBFA;\n",
              "      box-shadow: 0px 1px 2px rgba(60, 64, 67, 0.3), 0px 1px 3px 1px rgba(60, 64, 67, 0.15);\n",
              "      fill: #174EA6;\n",
              "    }\n",
              "\n",
              "    .colab-df-buttons div {\n",
              "      margin-bottom: 4px;\n",
              "    }\n",
              "\n",
              "    [theme=dark] .colab-df-convert {\n",
              "      background-color: #3B4455;\n",
              "      fill: #D2E3FC;\n",
              "    }\n",
              "\n",
              "    [theme=dark] .colab-df-convert:hover {\n",
              "      background-color: #434B5C;\n",
              "      box-shadow: 0px 1px 3px 1px rgba(0, 0, 0, 0.15);\n",
              "      filter: drop-shadow(0px 1px 2px rgba(0, 0, 0, 0.3));\n",
              "      fill: #FFFFFF;\n",
              "    }\n",
              "  </style>\n",
              "\n",
              "    <script>\n",
              "      const buttonEl =\n",
              "        document.querySelector('#df-66dd4609-e15e-4f3e-8dc7-bd48d50d6909 button.colab-df-convert');\n",
              "      buttonEl.style.display =\n",
              "        google.colab.kernel.accessAllowed ? 'block' : 'none';\n",
              "\n",
              "      async function convertToInteractive(key) {\n",
              "        const element = document.querySelector('#df-66dd4609-e15e-4f3e-8dc7-bd48d50d6909');\n",
              "        const dataTable =\n",
              "          await google.colab.kernel.invokeFunction('convertToInteractive',\n",
              "                                                    [key], {});\n",
              "        if (!dataTable) return;\n",
              "\n",
              "        const docLinkHtml = 'Like what you see? Visit the ' +\n",
              "          '<a target=\"_blank\" href=https://colab.research.google.com/notebooks/data_table.ipynb>data table notebook</a>'\n",
              "          + ' to learn more about interactive tables.';\n",
              "        element.innerHTML = '';\n",
              "        dataTable['output_type'] = 'display_data';\n",
              "        await google.colab.output.renderOutput(dataTable, element);\n",
              "        const docLink = document.createElement('div');\n",
              "        docLink.innerHTML = docLinkHtml;\n",
              "        element.appendChild(docLink);\n",
              "      }\n",
              "    </script>\n",
              "  </div>\n",
              "\n",
              "\n",
              "<div id=\"df-e035d595-3dfa-4451-ab49-2414d55e3a7b\">\n",
              "  <button class=\"colab-df-quickchart\" onclick=\"quickchart('df-e035d595-3dfa-4451-ab49-2414d55e3a7b')\"\n",
              "            title=\"Suggest charts.\"\n",
              "            style=\"display:none;\">\n",
              "\n",
              "<svg xmlns=\"http://www.w3.org/2000/svg\" height=\"24px\"viewBox=\"0 0 24 24\"\n",
              "     width=\"24px\">\n",
              "    <g>\n",
              "        <path d=\"M19 3H5c-1.1 0-2 .9-2 2v14c0 1.1.9 2 2 2h14c1.1 0 2-.9 2-2V5c0-1.1-.9-2-2-2zM9 17H7v-7h2v7zm4 0h-2V7h2v10zm4 0h-2v-4h2v4z\"/>\n",
              "    </g>\n",
              "</svg>\n",
              "  </button>\n",
              "\n",
              "<style>\n",
              "  .colab-df-quickchart {\n",
              "    background-color: #E8F0FE;\n",
              "    border: none;\n",
              "    border-radius: 50%;\n",
              "    cursor: pointer;\n",
              "    display: none;\n",
              "    fill: #1967D2;\n",
              "    height: 32px;\n",
              "    padding: 0 0 0 0;\n",
              "    width: 32px;\n",
              "  }\n",
              "\n",
              "  .colab-df-quickchart:hover {\n",
              "    background-color: #E2EBFA;\n",
              "    box-shadow: 0px 1px 2px rgba(60, 64, 67, 0.3), 0px 1px 3px 1px rgba(60, 64, 67, 0.15);\n",
              "    fill: #174EA6;\n",
              "  }\n",
              "\n",
              "  [theme=dark] .colab-df-quickchart {\n",
              "    background-color: #3B4455;\n",
              "    fill: #D2E3FC;\n",
              "  }\n",
              "\n",
              "  [theme=dark] .colab-df-quickchart:hover {\n",
              "    background-color: #434B5C;\n",
              "    box-shadow: 0px 1px 3px 1px rgba(0, 0, 0, 0.15);\n",
              "    filter: drop-shadow(0px 1px 2px rgba(0, 0, 0, 0.3));\n",
              "    fill: #FFFFFF;\n",
              "  }\n",
              "</style>\n",
              "\n",
              "  <script>\n",
              "    async function quickchart(key) {\n",
              "      const charts = await google.colab.kernel.invokeFunction(\n",
              "          'suggestCharts', [key], {});\n",
              "    }\n",
              "    (() => {\n",
              "      let quickchartButtonEl =\n",
              "        document.querySelector('#df-e035d595-3dfa-4451-ab49-2414d55e3a7b button');\n",
              "      quickchartButtonEl.style.display =\n",
              "        google.colab.kernel.accessAllowed ? 'block' : 'none';\n",
              "    })();\n",
              "  </script>\n",
              "</div>\n",
              "    </div>\n",
              "  </div>\n"
            ]
          },
          "metadata": {},
          "execution_count": 20
        }
      ]
    },
    {
      "cell_type": "code",
      "source": [
        "marketsize_promo = market_campaign.groupby(['Promotion','MarketSize']).agg(count=('MarketSize','count')).sort_values(by=['count']).reset_index()\n",
        "fig_msize_sunburst = px.sunburst(marketsize_promo, path=['Promotion','MarketSize'], values='count', color_discrete_sequence=['#ffba08', '#d00000', '#3f88c5'])\n",
        "fig_msize_sunburst.update_traces(textinfo='label+value', rotation = 120)\n",
        "fig_msize_sunburst.update_layout(title='<b>Market Size Distribution in Different Promotions</b>', title_font=dict(size=20))\n",
        "\n",
        "fig_msize_sunburst.show()"
      ],
      "metadata": {
        "colab": {
          "base_uri": "https://localhost:8080/",
          "height": 542
        },
        "id": "H0ygQBva0i6D",
        "outputId": "5240e28d-ae7c-40aa-df31-f991477db34b"
      },
      "execution_count": 21,
      "outputs": [
        {
          "output_type": "display_data",
          "data": {
            "text/html": [
              "<html>\n",
              "<head><meta charset=\"utf-8\" /></head>\n",
              "<body>\n",
              "    <div>            <script src=\"https://cdnjs.cloudflare.com/ajax/libs/mathjax/2.7.5/MathJax.js?config=TeX-AMS-MML_SVG\"></script><script type=\"text/javascript\">if (window.MathJax && window.MathJax.Hub && window.MathJax.Hub.Config) {window.MathJax.Hub.Config({SVG: {font: \"STIX-Web\"}});}</script>                <script type=\"text/javascript\">window.PlotlyConfig = {MathJaxConfig: 'local'};</script>\n",
              "        <script charset=\"utf-8\" src=\"https://cdn.plot.ly/plotly-2.24.1.min.js\"></script>                <div id=\"161fd977-d354-4376-ad19-ae86738c75ec\" class=\"plotly-graph-div\" style=\"height:525px; width:100%;\"></div>            <script type=\"text/javascript\">                                    window.PLOTLYENV=window.PLOTLYENV || {};                                    if (document.getElementById(\"161fd977-d354-4376-ad19-ae86738c75ec\")) {                    Plotly.newPlot(                        \"161fd977-d354-4376-ad19-ae86738c75ec\",                        [{\"branchvalues\":\"total\",\"domain\":{\"x\":[0.0,1.0],\"y\":[0.0,1.0]},\"hovertemplate\":\"labels=%{label}\\u003cbr\\u003ecount=%{value}\\u003cbr\\u003eparent=%{parent}\\u003cbr\\u003eid=%{id}\\u003cextra\\u003e\\u003c\\u002fextra\\u003e\",\"ids\":[\"Promotion_1\\u002fLarge\",\"Promotion_2\\u002fLarge\",\"Promotion_3\\u002fLarge\",\"Promotion_1\\u002fMedium\",\"Promotion_2\\u002fMedium\",\"Promotion_3\\u002fMedium\",\"Promotion_1\\u002fSmall\",\"Promotion_2\\u002fSmall\",\"Promotion_3\\u002fSmall\",\"Promotion_1\",\"Promotion_2\",\"Promotion_3\"],\"labels\":[\"Large\",\"Large\",\"Large\",\"Medium\",\"Medium\",\"Medium\",\"Small\",\"Small\",\"Small\",\"Promotion_1\",\"Promotion_2\",\"Promotion_3\"],\"name\":\"\",\"parents\":[\"Promotion_1\",\"Promotion_2\",\"Promotion_3\",\"Promotion_1\",\"Promotion_2\",\"Promotion_3\",\"Promotion_1\",\"Promotion_2\",\"Promotion_3\",\"\",\"\",\"\"],\"values\":[56,64,48,96,108,116,20,16,24,172,188,188],\"type\":\"sunburst\",\"rotation\":120,\"textinfo\":\"label+value\"}],                        {\"template\":{\"data\":{\"histogram2dcontour\":[{\"type\":\"histogram2dcontour\",\"colorbar\":{\"outlinewidth\":0,\"ticks\":\"\"},\"colorscale\":[[0.0,\"#0d0887\"],[0.1111111111111111,\"#46039f\"],[0.2222222222222222,\"#7201a8\"],[0.3333333333333333,\"#9c179e\"],[0.4444444444444444,\"#bd3786\"],[0.5555555555555556,\"#d8576b\"],[0.6666666666666666,\"#ed7953\"],[0.7777777777777778,\"#fb9f3a\"],[0.8888888888888888,\"#fdca26\"],[1.0,\"#f0f921\"]]}],\"choropleth\":[{\"type\":\"choropleth\",\"colorbar\":{\"outlinewidth\":0,\"ticks\":\"\"}}],\"histogram2d\":[{\"type\":\"histogram2d\",\"colorbar\":{\"outlinewidth\":0,\"ticks\":\"\"},\"colorscale\":[[0.0,\"#0d0887\"],[0.1111111111111111,\"#46039f\"],[0.2222222222222222,\"#7201a8\"],[0.3333333333333333,\"#9c179e\"],[0.4444444444444444,\"#bd3786\"],[0.5555555555555556,\"#d8576b\"],[0.6666666666666666,\"#ed7953\"],[0.7777777777777778,\"#fb9f3a\"],[0.8888888888888888,\"#fdca26\"],[1.0,\"#f0f921\"]]}],\"heatmap\":[{\"type\":\"heatmap\",\"colorbar\":{\"outlinewidth\":0,\"ticks\":\"\"},\"colorscale\":[[0.0,\"#0d0887\"],[0.1111111111111111,\"#46039f\"],[0.2222222222222222,\"#7201a8\"],[0.3333333333333333,\"#9c179e\"],[0.4444444444444444,\"#bd3786\"],[0.5555555555555556,\"#d8576b\"],[0.6666666666666666,\"#ed7953\"],[0.7777777777777778,\"#fb9f3a\"],[0.8888888888888888,\"#fdca26\"],[1.0,\"#f0f921\"]]}],\"heatmapgl\":[{\"type\":\"heatmapgl\",\"colorbar\":{\"outlinewidth\":0,\"ticks\":\"\"},\"colorscale\":[[0.0,\"#0d0887\"],[0.1111111111111111,\"#46039f\"],[0.2222222222222222,\"#7201a8\"],[0.3333333333333333,\"#9c179e\"],[0.4444444444444444,\"#bd3786\"],[0.5555555555555556,\"#d8576b\"],[0.6666666666666666,\"#ed7953\"],[0.7777777777777778,\"#fb9f3a\"],[0.8888888888888888,\"#fdca26\"],[1.0,\"#f0f921\"]]}],\"contourcarpet\":[{\"type\":\"contourcarpet\",\"colorbar\":{\"outlinewidth\":0,\"ticks\":\"\"}}],\"contour\":[{\"type\":\"contour\",\"colorbar\":{\"outlinewidth\":0,\"ticks\":\"\"},\"colorscale\":[[0.0,\"#0d0887\"],[0.1111111111111111,\"#46039f\"],[0.2222222222222222,\"#7201a8\"],[0.3333333333333333,\"#9c179e\"],[0.4444444444444444,\"#bd3786\"],[0.5555555555555556,\"#d8576b\"],[0.6666666666666666,\"#ed7953\"],[0.7777777777777778,\"#fb9f3a\"],[0.8888888888888888,\"#fdca26\"],[1.0,\"#f0f921\"]]}],\"surface\":[{\"type\":\"surface\",\"colorbar\":{\"outlinewidth\":0,\"ticks\":\"\"},\"colorscale\":[[0.0,\"#0d0887\"],[0.1111111111111111,\"#46039f\"],[0.2222222222222222,\"#7201a8\"],[0.3333333333333333,\"#9c179e\"],[0.4444444444444444,\"#bd3786\"],[0.5555555555555556,\"#d8576b\"],[0.6666666666666666,\"#ed7953\"],[0.7777777777777778,\"#fb9f3a\"],[0.8888888888888888,\"#fdca26\"],[1.0,\"#f0f921\"]]}],\"mesh3d\":[{\"type\":\"mesh3d\",\"colorbar\":{\"outlinewidth\":0,\"ticks\":\"\"}}],\"scatter\":[{\"fillpattern\":{\"fillmode\":\"overlay\",\"size\":10,\"solidity\":0.2},\"type\":\"scatter\"}],\"parcoords\":[{\"type\":\"parcoords\",\"line\":{\"colorbar\":{\"outlinewidth\":0,\"ticks\":\"\"}}}],\"scatterpolargl\":[{\"type\":\"scatterpolargl\",\"marker\":{\"colorbar\":{\"outlinewidth\":0,\"ticks\":\"\"}}}],\"bar\":[{\"error_x\":{\"color\":\"#2a3f5f\"},\"error_y\":{\"color\":\"#2a3f5f\"},\"marker\":{\"line\":{\"color\":\"#E5ECF6\",\"width\":0.5},\"pattern\":{\"fillmode\":\"overlay\",\"size\":10,\"solidity\":0.2}},\"type\":\"bar\"}],\"scattergeo\":[{\"type\":\"scattergeo\",\"marker\":{\"colorbar\":{\"outlinewidth\":0,\"ticks\":\"\"}}}],\"scatterpolar\":[{\"type\":\"scatterpolar\",\"marker\":{\"colorbar\":{\"outlinewidth\":0,\"ticks\":\"\"}}}],\"histogram\":[{\"marker\":{\"pattern\":{\"fillmode\":\"overlay\",\"size\":10,\"solidity\":0.2}},\"type\":\"histogram\"}],\"scattergl\":[{\"type\":\"scattergl\",\"marker\":{\"colorbar\":{\"outlinewidth\":0,\"ticks\":\"\"}}}],\"scatter3d\":[{\"type\":\"scatter3d\",\"line\":{\"colorbar\":{\"outlinewidth\":0,\"ticks\":\"\"}},\"marker\":{\"colorbar\":{\"outlinewidth\":0,\"ticks\":\"\"}}}],\"scattermapbox\":[{\"type\":\"scattermapbox\",\"marker\":{\"colorbar\":{\"outlinewidth\":0,\"ticks\":\"\"}}}],\"scatterternary\":[{\"type\":\"scatterternary\",\"marker\":{\"colorbar\":{\"outlinewidth\":0,\"ticks\":\"\"}}}],\"scattercarpet\":[{\"type\":\"scattercarpet\",\"marker\":{\"colorbar\":{\"outlinewidth\":0,\"ticks\":\"\"}}}],\"carpet\":[{\"aaxis\":{\"endlinecolor\":\"#2a3f5f\",\"gridcolor\":\"white\",\"linecolor\":\"white\",\"minorgridcolor\":\"white\",\"startlinecolor\":\"#2a3f5f\"},\"baxis\":{\"endlinecolor\":\"#2a3f5f\",\"gridcolor\":\"white\",\"linecolor\":\"white\",\"minorgridcolor\":\"white\",\"startlinecolor\":\"#2a3f5f\"},\"type\":\"carpet\"}],\"table\":[{\"cells\":{\"fill\":{\"color\":\"#EBF0F8\"},\"line\":{\"color\":\"white\"}},\"header\":{\"fill\":{\"color\":\"#C8D4E3\"},\"line\":{\"color\":\"white\"}},\"type\":\"table\"}],\"barpolar\":[{\"marker\":{\"line\":{\"color\":\"#E5ECF6\",\"width\":0.5},\"pattern\":{\"fillmode\":\"overlay\",\"size\":10,\"solidity\":0.2}},\"type\":\"barpolar\"}],\"pie\":[{\"automargin\":true,\"type\":\"pie\"}]},\"layout\":{\"autotypenumbers\":\"strict\",\"colorway\":[\"#636efa\",\"#EF553B\",\"#00cc96\",\"#ab63fa\",\"#FFA15A\",\"#19d3f3\",\"#FF6692\",\"#B6E880\",\"#FF97FF\",\"#FECB52\"],\"font\":{\"color\":\"#2a3f5f\"},\"hovermode\":\"closest\",\"hoverlabel\":{\"align\":\"left\"},\"paper_bgcolor\":\"white\",\"plot_bgcolor\":\"#E5ECF6\",\"polar\":{\"bgcolor\":\"#E5ECF6\",\"angularaxis\":{\"gridcolor\":\"white\",\"linecolor\":\"white\",\"ticks\":\"\"},\"radialaxis\":{\"gridcolor\":\"white\",\"linecolor\":\"white\",\"ticks\":\"\"}},\"ternary\":{\"bgcolor\":\"#E5ECF6\",\"aaxis\":{\"gridcolor\":\"white\",\"linecolor\":\"white\",\"ticks\":\"\"},\"baxis\":{\"gridcolor\":\"white\",\"linecolor\":\"white\",\"ticks\":\"\"},\"caxis\":{\"gridcolor\":\"white\",\"linecolor\":\"white\",\"ticks\":\"\"}},\"coloraxis\":{\"colorbar\":{\"outlinewidth\":0,\"ticks\":\"\"}},\"colorscale\":{\"sequential\":[[0.0,\"#0d0887\"],[0.1111111111111111,\"#46039f\"],[0.2222222222222222,\"#7201a8\"],[0.3333333333333333,\"#9c179e\"],[0.4444444444444444,\"#bd3786\"],[0.5555555555555556,\"#d8576b\"],[0.6666666666666666,\"#ed7953\"],[0.7777777777777778,\"#fb9f3a\"],[0.8888888888888888,\"#fdca26\"],[1.0,\"#f0f921\"]],\"sequentialminus\":[[0.0,\"#0d0887\"],[0.1111111111111111,\"#46039f\"],[0.2222222222222222,\"#7201a8\"],[0.3333333333333333,\"#9c179e\"],[0.4444444444444444,\"#bd3786\"],[0.5555555555555556,\"#d8576b\"],[0.6666666666666666,\"#ed7953\"],[0.7777777777777778,\"#fb9f3a\"],[0.8888888888888888,\"#fdca26\"],[1.0,\"#f0f921\"]],\"diverging\":[[0,\"#8e0152\"],[0.1,\"#c51b7d\"],[0.2,\"#de77ae\"],[0.3,\"#f1b6da\"],[0.4,\"#fde0ef\"],[0.5,\"#f7f7f7\"],[0.6,\"#e6f5d0\"],[0.7,\"#b8e186\"],[0.8,\"#7fbc41\"],[0.9,\"#4d9221\"],[1,\"#276419\"]]},\"xaxis\":{\"gridcolor\":\"white\",\"linecolor\":\"white\",\"ticks\":\"\",\"title\":{\"standoff\":15},\"zerolinecolor\":\"white\",\"automargin\":true,\"zerolinewidth\":2},\"yaxis\":{\"gridcolor\":\"white\",\"linecolor\":\"white\",\"ticks\":\"\",\"title\":{\"standoff\":15},\"zerolinecolor\":\"white\",\"automargin\":true,\"zerolinewidth\":2},\"scene\":{\"xaxis\":{\"backgroundcolor\":\"#E5ECF6\",\"gridcolor\":\"white\",\"linecolor\":\"white\",\"showbackground\":true,\"ticks\":\"\",\"zerolinecolor\":\"white\",\"gridwidth\":2},\"yaxis\":{\"backgroundcolor\":\"#E5ECF6\",\"gridcolor\":\"white\",\"linecolor\":\"white\",\"showbackground\":true,\"ticks\":\"\",\"zerolinecolor\":\"white\",\"gridwidth\":2},\"zaxis\":{\"backgroundcolor\":\"#E5ECF6\",\"gridcolor\":\"white\",\"linecolor\":\"white\",\"showbackground\":true,\"ticks\":\"\",\"zerolinecolor\":\"white\",\"gridwidth\":2}},\"shapedefaults\":{\"line\":{\"color\":\"#2a3f5f\"}},\"annotationdefaults\":{\"arrowcolor\":\"#2a3f5f\",\"arrowhead\":0,\"arrowwidth\":1},\"geo\":{\"bgcolor\":\"white\",\"landcolor\":\"#E5ECF6\",\"subunitcolor\":\"white\",\"showland\":true,\"showlakes\":true,\"lakecolor\":\"white\"},\"title\":{\"x\":0.05},\"mapbox\":{\"style\":\"light\"}}},\"legend\":{\"tracegroupgap\":0},\"margin\":{\"t\":60},\"sunburstcolorway\":[\"#ffba08\",\"#d00000\",\"#3f88c5\"],\"title\":{\"text\":\"\\u003cb\\u003eMarket Size Distribution in Different Promotions\\u003c\\u002fb\\u003e\",\"font\":{\"size\":20}}},                        {\"responsive\": true}                    ).then(function(){\n",
              "                            \n",
              "var gd = document.getElementById('161fd977-d354-4376-ad19-ae86738c75ec');\n",
              "var x = new MutationObserver(function (mutations, observer) {{\n",
              "        var display = window.getComputedStyle(gd).display;\n",
              "        if (!display || display === 'none') {{\n",
              "            console.log([gd, 'removed!']);\n",
              "            Plotly.purge(gd);\n",
              "            observer.disconnect();\n",
              "        }}\n",
              "}});\n",
              "\n",
              "// Listen for the removal of the full notebook cells\n",
              "var notebookContainer = gd.closest('#notebook-container');\n",
              "if (notebookContainer) {{\n",
              "    x.observe(notebookContainer, {childList: true});\n",
              "}}\n",
              "\n",
              "// Listen for the clearing of the current output cell\n",
              "var outputEl = gd.closest('.output');\n",
              "if (outputEl) {{\n",
              "    x.observe(outputEl, {childList: true});\n",
              "}}\n",
              "\n",
              "                        })                };                            </script>        </div>\n",
              "</body>\n",
              "</html>"
            ]
          },
          "metadata": {}
        }
      ]
    },
    {
      "cell_type": "markdown",
      "source": [
        "The distribution of market size among each promotion appears to be quite similar, particularly between Promotion_3 and Promotion_2. This suggests that the promotions are being conducted in a relatively balanced manner across the different market sizes"
      ],
      "metadata": {
        "id": "daSnFG3G-Ej5"
      }
    },
    {
      "cell_type": "markdown",
      "source": [
        "#### **Age of Store in Different Promotions**"
      ],
      "metadata": {
        "id": "NJ48Cgc2Y3Gs"
      }
    },
    {
      "cell_type": "code",
      "source": [
        "storeage = market_campaign.groupby(['AgeOfStore', 'Promotion']).count()['MarketID'].unstack('Promotion').sort_values(by='AgeOfStore', ascending=True)\n",
        "storeage.head()"
      ],
      "metadata": {
        "colab": {
          "base_uri": "https://localhost:8080/",
          "height": 246
        },
        "id": "LpRYMHonND2R",
        "outputId": "149460a4-966c-4789-f3fc-2f9c94206a59"
      },
      "execution_count": 22,
      "outputs": [
        {
          "output_type": "execute_result",
          "data": {
            "text/plain": [
              "Promotion   Promotion_1  Promotion_2  Promotion_3\n",
              "AgeOfStore                                       \n",
              "1                  24.0         36.0         20.0\n",
              "2                   8.0          8.0          4.0\n",
              "3                  16.0         12.0          4.0\n",
              "4                  16.0         12.0         16.0\n",
              "5                   8.0         12.0         24.0"
            ],
            "text/html": [
              "\n",
              "  <div id=\"df-d9afc9b3-2980-4a33-b8f1-c629f1e9e450\" class=\"colab-df-container\">\n",
              "    <div>\n",
              "<style scoped>\n",
              "    .dataframe tbody tr th:only-of-type {\n",
              "        vertical-align: middle;\n",
              "    }\n",
              "\n",
              "    .dataframe tbody tr th {\n",
              "        vertical-align: top;\n",
              "    }\n",
              "\n",
              "    .dataframe thead th {\n",
              "        text-align: right;\n",
              "    }\n",
              "</style>\n",
              "<table border=\"1\" class=\"dataframe\">\n",
              "  <thead>\n",
              "    <tr style=\"text-align: right;\">\n",
              "      <th>Promotion</th>\n",
              "      <th>Promotion_1</th>\n",
              "      <th>Promotion_2</th>\n",
              "      <th>Promotion_3</th>\n",
              "    </tr>\n",
              "    <tr>\n",
              "      <th>AgeOfStore</th>\n",
              "      <th></th>\n",
              "      <th></th>\n",
              "      <th></th>\n",
              "    </tr>\n",
              "  </thead>\n",
              "  <tbody>\n",
              "    <tr>\n",
              "      <th>1</th>\n",
              "      <td>24.0</td>\n",
              "      <td>36.0</td>\n",
              "      <td>20.0</td>\n",
              "    </tr>\n",
              "    <tr>\n",
              "      <th>2</th>\n",
              "      <td>8.0</td>\n",
              "      <td>8.0</td>\n",
              "      <td>4.0</td>\n",
              "    </tr>\n",
              "    <tr>\n",
              "      <th>3</th>\n",
              "      <td>16.0</td>\n",
              "      <td>12.0</td>\n",
              "      <td>4.0</td>\n",
              "    </tr>\n",
              "    <tr>\n",
              "      <th>4</th>\n",
              "      <td>16.0</td>\n",
              "      <td>12.0</td>\n",
              "      <td>16.0</td>\n",
              "    </tr>\n",
              "    <tr>\n",
              "      <th>5</th>\n",
              "      <td>8.0</td>\n",
              "      <td>12.0</td>\n",
              "      <td>24.0</td>\n",
              "    </tr>\n",
              "  </tbody>\n",
              "</table>\n",
              "</div>\n",
              "    <div class=\"colab-df-buttons\">\n",
              "\n",
              "  <div class=\"colab-df-container\">\n",
              "    <button class=\"colab-df-convert\" onclick=\"convertToInteractive('df-d9afc9b3-2980-4a33-b8f1-c629f1e9e450')\"\n",
              "            title=\"Convert this dataframe to an interactive table.\"\n",
              "            style=\"display:none;\">\n",
              "\n",
              "  <svg xmlns=\"http://www.w3.org/2000/svg\" height=\"24px\" viewBox=\"0 -960 960 960\">\n",
              "    <path d=\"M120-120v-720h720v720H120Zm60-500h600v-160H180v160Zm220 220h160v-160H400v160Zm0 220h160v-160H400v160ZM180-400h160v-160H180v160Zm440 0h160v-160H620v160ZM180-180h160v-160H180v160Zm440 0h160v-160H620v160Z\"/>\n",
              "  </svg>\n",
              "    </button>\n",
              "\n",
              "  <style>\n",
              "    .colab-df-container {\n",
              "      display:flex;\n",
              "      gap: 12px;\n",
              "    }\n",
              "\n",
              "    .colab-df-convert {\n",
              "      background-color: #E8F0FE;\n",
              "      border: none;\n",
              "      border-radius: 50%;\n",
              "      cursor: pointer;\n",
              "      display: none;\n",
              "      fill: #1967D2;\n",
              "      height: 32px;\n",
              "      padding: 0 0 0 0;\n",
              "      width: 32px;\n",
              "    }\n",
              "\n",
              "    .colab-df-convert:hover {\n",
              "      background-color: #E2EBFA;\n",
              "      box-shadow: 0px 1px 2px rgba(60, 64, 67, 0.3), 0px 1px 3px 1px rgba(60, 64, 67, 0.15);\n",
              "      fill: #174EA6;\n",
              "    }\n",
              "\n",
              "    .colab-df-buttons div {\n",
              "      margin-bottom: 4px;\n",
              "    }\n",
              "\n",
              "    [theme=dark] .colab-df-convert {\n",
              "      background-color: #3B4455;\n",
              "      fill: #D2E3FC;\n",
              "    }\n",
              "\n",
              "    [theme=dark] .colab-df-convert:hover {\n",
              "      background-color: #434B5C;\n",
              "      box-shadow: 0px 1px 3px 1px rgba(0, 0, 0, 0.15);\n",
              "      filter: drop-shadow(0px 1px 2px rgba(0, 0, 0, 0.3));\n",
              "      fill: #FFFFFF;\n",
              "    }\n",
              "  </style>\n",
              "\n",
              "    <script>\n",
              "      const buttonEl =\n",
              "        document.querySelector('#df-d9afc9b3-2980-4a33-b8f1-c629f1e9e450 button.colab-df-convert');\n",
              "      buttonEl.style.display =\n",
              "        google.colab.kernel.accessAllowed ? 'block' : 'none';\n",
              "\n",
              "      async function convertToInteractive(key) {\n",
              "        const element = document.querySelector('#df-d9afc9b3-2980-4a33-b8f1-c629f1e9e450');\n",
              "        const dataTable =\n",
              "          await google.colab.kernel.invokeFunction('convertToInteractive',\n",
              "                                                    [key], {});\n",
              "        if (!dataTable) return;\n",
              "\n",
              "        const docLinkHtml = 'Like what you see? Visit the ' +\n",
              "          '<a target=\"_blank\" href=https://colab.research.google.com/notebooks/data_table.ipynb>data table notebook</a>'\n",
              "          + ' to learn more about interactive tables.';\n",
              "        element.innerHTML = '';\n",
              "        dataTable['output_type'] = 'display_data';\n",
              "        await google.colab.output.renderOutput(dataTable, element);\n",
              "        const docLink = document.createElement('div');\n",
              "        docLink.innerHTML = docLinkHtml;\n",
              "        element.appendChild(docLink);\n",
              "      }\n",
              "    </script>\n",
              "  </div>\n",
              "\n",
              "\n",
              "<div id=\"df-dfb3d773-54a6-4dce-b3f6-5de62dffc3ce\">\n",
              "  <button class=\"colab-df-quickchart\" onclick=\"quickchart('df-dfb3d773-54a6-4dce-b3f6-5de62dffc3ce')\"\n",
              "            title=\"Suggest charts.\"\n",
              "            style=\"display:none;\">\n",
              "\n",
              "<svg xmlns=\"http://www.w3.org/2000/svg\" height=\"24px\"viewBox=\"0 0 24 24\"\n",
              "     width=\"24px\">\n",
              "    <g>\n",
              "        <path d=\"M19 3H5c-1.1 0-2 .9-2 2v14c0 1.1.9 2 2 2h14c1.1 0 2-.9 2-2V5c0-1.1-.9-2-2-2zM9 17H7v-7h2v7zm4 0h-2V7h2v10zm4 0h-2v-4h2v4z\"/>\n",
              "    </g>\n",
              "</svg>\n",
              "  </button>\n",
              "\n",
              "<style>\n",
              "  .colab-df-quickchart {\n",
              "    background-color: #E8F0FE;\n",
              "    border: none;\n",
              "    border-radius: 50%;\n",
              "    cursor: pointer;\n",
              "    display: none;\n",
              "    fill: #1967D2;\n",
              "    height: 32px;\n",
              "    padding: 0 0 0 0;\n",
              "    width: 32px;\n",
              "  }\n",
              "\n",
              "  .colab-df-quickchart:hover {\n",
              "    background-color: #E2EBFA;\n",
              "    box-shadow: 0px 1px 2px rgba(60, 64, 67, 0.3), 0px 1px 3px 1px rgba(60, 64, 67, 0.15);\n",
              "    fill: #174EA6;\n",
              "  }\n",
              "\n",
              "  [theme=dark] .colab-df-quickchart {\n",
              "    background-color: #3B4455;\n",
              "    fill: #D2E3FC;\n",
              "  }\n",
              "\n",
              "  [theme=dark] .colab-df-quickchart:hover {\n",
              "    background-color: #434B5C;\n",
              "    box-shadow: 0px 1px 3px 1px rgba(0, 0, 0, 0.15);\n",
              "    filter: drop-shadow(0px 1px 2px rgba(0, 0, 0, 0.3));\n",
              "    fill: #FFFFFF;\n",
              "  }\n",
              "</style>\n",
              "\n",
              "  <script>\n",
              "    async function quickchart(key) {\n",
              "      const charts = await google.colab.kernel.invokeFunction(\n",
              "          'suggestCharts', [key], {});\n",
              "    }\n",
              "    (() => {\n",
              "      let quickchartButtonEl =\n",
              "        document.querySelector('#df-dfb3d773-54a6-4dce-b3f6-5de62dffc3ce button');\n",
              "      quickchartButtonEl.style.display =\n",
              "        google.colab.kernel.accessAllowed ? 'block' : 'none';\n",
              "    })();\n",
              "  </script>\n",
              "</div>\n",
              "    </div>\n",
              "  </div>\n"
            ]
          },
          "metadata": {},
          "execution_count": 22
        }
      ]
    },
    {
      "cell_type": "code",
      "source": [
        "storeage_promo = market_campaign.groupby(['AgeOfStore', 'Promotion']).agg(count=('AgeOfStore','count')).reset_index()\n",
        "fig_storeage_hist = px.histogram(storeage_promo, x='count', y='AgeOfStore', orientation='h',color='Promotion', color_discrete_sequence=['#3f88c5','#ffba08','#d00000'], barmode='group')\n",
        "fig_storeage_hist.update_yaxes(tickmode='linear', dtick=5)\n",
        "fig_storeage_hist.update_layout(title='<b>Age Of Store in Different Promotions</b>', title_font=dict(size=20), xaxis_title='Counts')\n",
        "\n",
        "fig_storeage_hist.show()"
      ],
      "metadata": {
        "colab": {
          "base_uri": "https://localhost:8080/",
          "height": 542
        },
        "id": "kCsFxsKU4TSh",
        "outputId": "08f41bc7-59ca-44d2-a86e-bded672a43e9"
      },
      "execution_count": 23,
      "outputs": [
        {
          "output_type": "display_data",
          "data": {
            "text/html": [
              "<html>\n",
              "<head><meta charset=\"utf-8\" /></head>\n",
              "<body>\n",
              "    <div>            <script src=\"https://cdnjs.cloudflare.com/ajax/libs/mathjax/2.7.5/MathJax.js?config=TeX-AMS-MML_SVG\"></script><script type=\"text/javascript\">if (window.MathJax && window.MathJax.Hub && window.MathJax.Hub.Config) {window.MathJax.Hub.Config({SVG: {font: \"STIX-Web\"}});}</script>                <script type=\"text/javascript\">window.PlotlyConfig = {MathJaxConfig: 'local'};</script>\n",
              "        <script charset=\"utf-8\" src=\"https://cdn.plot.ly/plotly-2.24.1.min.js\"></script>                <div id=\"4d5c476a-5501-4122-8240-dc3ae04b934f\" class=\"plotly-graph-div\" style=\"height:525px; width:100%;\"></div>            <script type=\"text/javascript\">                                    window.PLOTLYENV=window.PLOTLYENV || {};                                    if (document.getElementById(\"4d5c476a-5501-4122-8240-dc3ae04b934f\")) {                    Plotly.newPlot(                        \"4d5c476a-5501-4122-8240-dc3ae04b934f\",                        [{\"alignmentgroup\":\"True\",\"bingroup\":\"y\",\"histfunc\":\"sum\",\"hovertemplate\":\"Promotion=Promotion_1\\u003cbr\\u003esum of count=%{x}\\u003cbr\\u003eAgeOfStore=%{y}\\u003cextra\\u003e\\u003c\\u002fextra\\u003e\",\"legendgroup\":\"Promotion_1\",\"marker\":{\"color\":\"#3f88c5\",\"pattern\":{\"shape\":\"\"}},\"name\":\"Promotion_1\",\"offsetgroup\":\"Promotion_1\",\"orientation\":\"h\",\"showlegend\":true,\"x\":[24,8,16,16,8,20,4,12,8,4,12,12,4,8,4,4,4,4],\"xaxis\":\"x\",\"y\":[1,2,3,4,5,6,7,8,9,11,12,13,15,18,19,22,24,27],\"yaxis\":\"y\",\"type\":\"histogram\"},{\"alignmentgroup\":\"True\",\"bingroup\":\"y\",\"histfunc\":\"sum\",\"hovertemplate\":\"Promotion=Promotion_2\\u003cbr\\u003esum of count=%{x}\\u003cbr\\u003eAgeOfStore=%{y}\\u003cextra\\u003e\\u003c\\u002fextra\\u003e\",\"legendgroup\":\"Promotion_2\",\"marker\":{\"color\":\"#ffba08\",\"pattern\":{\"shape\":\"\"}},\"name\":\"Promotion_2\",\"offsetgroup\":\"Promotion_2\",\"orientation\":\"h\",\"showlegend\":true,\"x\":[36,8,12,12,12,4,24,8,12,16,4,8,8,4,8,4,4,4],\"xaxis\":\"x\",\"y\":[1,2,3,4,5,6,7,8,9,10,12,13,14,15,19,23,25,28],\"yaxis\":\"y\",\"type\":\"histogram\"},{\"alignmentgroup\":\"True\",\"bingroup\":\"y\",\"histfunc\":\"sum\",\"hovertemplate\":\"Promotion=Promotion_3\\u003cbr\\u003esum of count=%{x}\\u003cbr\\u003eAgeOfStore=%{y}\\u003cextra\\u003e\\u003c\\u002fextra\\u003e\",\"legendgroup\":\"Promotion_3\",\"marker\":{\"color\":\"#d00000\",\"pattern\":{\"shape\":\"\"}},\"name\":\"Promotion_3\",\"offsetgroup\":\"Promotion_3\",\"orientation\":\"h\",\"showlegend\":true,\"x\":[20,4,4,16,24,12,12,20,8,8,12,8,4,4,8,4,8,4,8],\"xaxis\":\"x\",\"y\":[1,2,3,4,5,6,7,8,9,10,11,12,14,17,19,20,22,23,24],\"yaxis\":\"y\",\"type\":\"histogram\"}],                        {\"template\":{\"data\":{\"histogram2dcontour\":[{\"type\":\"histogram2dcontour\",\"colorbar\":{\"outlinewidth\":0,\"ticks\":\"\"},\"colorscale\":[[0.0,\"#0d0887\"],[0.1111111111111111,\"#46039f\"],[0.2222222222222222,\"#7201a8\"],[0.3333333333333333,\"#9c179e\"],[0.4444444444444444,\"#bd3786\"],[0.5555555555555556,\"#d8576b\"],[0.6666666666666666,\"#ed7953\"],[0.7777777777777778,\"#fb9f3a\"],[0.8888888888888888,\"#fdca26\"],[1.0,\"#f0f921\"]]}],\"choropleth\":[{\"type\":\"choropleth\",\"colorbar\":{\"outlinewidth\":0,\"ticks\":\"\"}}],\"histogram2d\":[{\"type\":\"histogram2d\",\"colorbar\":{\"outlinewidth\":0,\"ticks\":\"\"},\"colorscale\":[[0.0,\"#0d0887\"],[0.1111111111111111,\"#46039f\"],[0.2222222222222222,\"#7201a8\"],[0.3333333333333333,\"#9c179e\"],[0.4444444444444444,\"#bd3786\"],[0.5555555555555556,\"#d8576b\"],[0.6666666666666666,\"#ed7953\"],[0.7777777777777778,\"#fb9f3a\"],[0.8888888888888888,\"#fdca26\"],[1.0,\"#f0f921\"]]}],\"heatmap\":[{\"type\":\"heatmap\",\"colorbar\":{\"outlinewidth\":0,\"ticks\":\"\"},\"colorscale\":[[0.0,\"#0d0887\"],[0.1111111111111111,\"#46039f\"],[0.2222222222222222,\"#7201a8\"],[0.3333333333333333,\"#9c179e\"],[0.4444444444444444,\"#bd3786\"],[0.5555555555555556,\"#d8576b\"],[0.6666666666666666,\"#ed7953\"],[0.7777777777777778,\"#fb9f3a\"],[0.8888888888888888,\"#fdca26\"],[1.0,\"#f0f921\"]]}],\"heatmapgl\":[{\"type\":\"heatmapgl\",\"colorbar\":{\"outlinewidth\":0,\"ticks\":\"\"},\"colorscale\":[[0.0,\"#0d0887\"],[0.1111111111111111,\"#46039f\"],[0.2222222222222222,\"#7201a8\"],[0.3333333333333333,\"#9c179e\"],[0.4444444444444444,\"#bd3786\"],[0.5555555555555556,\"#d8576b\"],[0.6666666666666666,\"#ed7953\"],[0.7777777777777778,\"#fb9f3a\"],[0.8888888888888888,\"#fdca26\"],[1.0,\"#f0f921\"]]}],\"contourcarpet\":[{\"type\":\"contourcarpet\",\"colorbar\":{\"outlinewidth\":0,\"ticks\":\"\"}}],\"contour\":[{\"type\":\"contour\",\"colorbar\":{\"outlinewidth\":0,\"ticks\":\"\"},\"colorscale\":[[0.0,\"#0d0887\"],[0.1111111111111111,\"#46039f\"],[0.2222222222222222,\"#7201a8\"],[0.3333333333333333,\"#9c179e\"],[0.4444444444444444,\"#bd3786\"],[0.5555555555555556,\"#d8576b\"],[0.6666666666666666,\"#ed7953\"],[0.7777777777777778,\"#fb9f3a\"],[0.8888888888888888,\"#fdca26\"],[1.0,\"#f0f921\"]]}],\"surface\":[{\"type\":\"surface\",\"colorbar\":{\"outlinewidth\":0,\"ticks\":\"\"},\"colorscale\":[[0.0,\"#0d0887\"],[0.1111111111111111,\"#46039f\"],[0.2222222222222222,\"#7201a8\"],[0.3333333333333333,\"#9c179e\"],[0.4444444444444444,\"#bd3786\"],[0.5555555555555556,\"#d8576b\"],[0.6666666666666666,\"#ed7953\"],[0.7777777777777778,\"#fb9f3a\"],[0.8888888888888888,\"#fdca26\"],[1.0,\"#f0f921\"]]}],\"mesh3d\":[{\"type\":\"mesh3d\",\"colorbar\":{\"outlinewidth\":0,\"ticks\":\"\"}}],\"scatter\":[{\"fillpattern\":{\"fillmode\":\"overlay\",\"size\":10,\"solidity\":0.2},\"type\":\"scatter\"}],\"parcoords\":[{\"type\":\"parcoords\",\"line\":{\"colorbar\":{\"outlinewidth\":0,\"ticks\":\"\"}}}],\"scatterpolargl\":[{\"type\":\"scatterpolargl\",\"marker\":{\"colorbar\":{\"outlinewidth\":0,\"ticks\":\"\"}}}],\"bar\":[{\"error_x\":{\"color\":\"#2a3f5f\"},\"error_y\":{\"color\":\"#2a3f5f\"},\"marker\":{\"line\":{\"color\":\"#E5ECF6\",\"width\":0.5},\"pattern\":{\"fillmode\":\"overlay\",\"size\":10,\"solidity\":0.2}},\"type\":\"bar\"}],\"scattergeo\":[{\"type\":\"scattergeo\",\"marker\":{\"colorbar\":{\"outlinewidth\":0,\"ticks\":\"\"}}}],\"scatterpolar\":[{\"type\":\"scatterpolar\",\"marker\":{\"colorbar\":{\"outlinewidth\":0,\"ticks\":\"\"}}}],\"histogram\":[{\"marker\":{\"pattern\":{\"fillmode\":\"overlay\",\"size\":10,\"solidity\":0.2}},\"type\":\"histogram\"}],\"scattergl\":[{\"type\":\"scattergl\",\"marker\":{\"colorbar\":{\"outlinewidth\":0,\"ticks\":\"\"}}}],\"scatter3d\":[{\"type\":\"scatter3d\",\"line\":{\"colorbar\":{\"outlinewidth\":0,\"ticks\":\"\"}},\"marker\":{\"colorbar\":{\"outlinewidth\":0,\"ticks\":\"\"}}}],\"scattermapbox\":[{\"type\":\"scattermapbox\",\"marker\":{\"colorbar\":{\"outlinewidth\":0,\"ticks\":\"\"}}}],\"scatterternary\":[{\"type\":\"scatterternary\",\"marker\":{\"colorbar\":{\"outlinewidth\":0,\"ticks\":\"\"}}}],\"scattercarpet\":[{\"type\":\"scattercarpet\",\"marker\":{\"colorbar\":{\"outlinewidth\":0,\"ticks\":\"\"}}}],\"carpet\":[{\"aaxis\":{\"endlinecolor\":\"#2a3f5f\",\"gridcolor\":\"white\",\"linecolor\":\"white\",\"minorgridcolor\":\"white\",\"startlinecolor\":\"#2a3f5f\"},\"baxis\":{\"endlinecolor\":\"#2a3f5f\",\"gridcolor\":\"white\",\"linecolor\":\"white\",\"minorgridcolor\":\"white\",\"startlinecolor\":\"#2a3f5f\"},\"type\":\"carpet\"}],\"table\":[{\"cells\":{\"fill\":{\"color\":\"#EBF0F8\"},\"line\":{\"color\":\"white\"}},\"header\":{\"fill\":{\"color\":\"#C8D4E3\"},\"line\":{\"color\":\"white\"}},\"type\":\"table\"}],\"barpolar\":[{\"marker\":{\"line\":{\"color\":\"#E5ECF6\",\"width\":0.5},\"pattern\":{\"fillmode\":\"overlay\",\"size\":10,\"solidity\":0.2}},\"type\":\"barpolar\"}],\"pie\":[{\"automargin\":true,\"type\":\"pie\"}]},\"layout\":{\"autotypenumbers\":\"strict\",\"colorway\":[\"#636efa\",\"#EF553B\",\"#00cc96\",\"#ab63fa\",\"#FFA15A\",\"#19d3f3\",\"#FF6692\",\"#B6E880\",\"#FF97FF\",\"#FECB52\"],\"font\":{\"color\":\"#2a3f5f\"},\"hovermode\":\"closest\",\"hoverlabel\":{\"align\":\"left\"},\"paper_bgcolor\":\"white\",\"plot_bgcolor\":\"#E5ECF6\",\"polar\":{\"bgcolor\":\"#E5ECF6\",\"angularaxis\":{\"gridcolor\":\"white\",\"linecolor\":\"white\",\"ticks\":\"\"},\"radialaxis\":{\"gridcolor\":\"white\",\"linecolor\":\"white\",\"ticks\":\"\"}},\"ternary\":{\"bgcolor\":\"#E5ECF6\",\"aaxis\":{\"gridcolor\":\"white\",\"linecolor\":\"white\",\"ticks\":\"\"},\"baxis\":{\"gridcolor\":\"white\",\"linecolor\":\"white\",\"ticks\":\"\"},\"caxis\":{\"gridcolor\":\"white\",\"linecolor\":\"white\",\"ticks\":\"\"}},\"coloraxis\":{\"colorbar\":{\"outlinewidth\":0,\"ticks\":\"\"}},\"colorscale\":{\"sequential\":[[0.0,\"#0d0887\"],[0.1111111111111111,\"#46039f\"],[0.2222222222222222,\"#7201a8\"],[0.3333333333333333,\"#9c179e\"],[0.4444444444444444,\"#bd3786\"],[0.5555555555555556,\"#d8576b\"],[0.6666666666666666,\"#ed7953\"],[0.7777777777777778,\"#fb9f3a\"],[0.8888888888888888,\"#fdca26\"],[1.0,\"#f0f921\"]],\"sequentialminus\":[[0.0,\"#0d0887\"],[0.1111111111111111,\"#46039f\"],[0.2222222222222222,\"#7201a8\"],[0.3333333333333333,\"#9c179e\"],[0.4444444444444444,\"#bd3786\"],[0.5555555555555556,\"#d8576b\"],[0.6666666666666666,\"#ed7953\"],[0.7777777777777778,\"#fb9f3a\"],[0.8888888888888888,\"#fdca26\"],[1.0,\"#f0f921\"]],\"diverging\":[[0,\"#8e0152\"],[0.1,\"#c51b7d\"],[0.2,\"#de77ae\"],[0.3,\"#f1b6da\"],[0.4,\"#fde0ef\"],[0.5,\"#f7f7f7\"],[0.6,\"#e6f5d0\"],[0.7,\"#b8e186\"],[0.8,\"#7fbc41\"],[0.9,\"#4d9221\"],[1,\"#276419\"]]},\"xaxis\":{\"gridcolor\":\"white\",\"linecolor\":\"white\",\"ticks\":\"\",\"title\":{\"standoff\":15},\"zerolinecolor\":\"white\",\"automargin\":true,\"zerolinewidth\":2},\"yaxis\":{\"gridcolor\":\"white\",\"linecolor\":\"white\",\"ticks\":\"\",\"title\":{\"standoff\":15},\"zerolinecolor\":\"white\",\"automargin\":true,\"zerolinewidth\":2},\"scene\":{\"xaxis\":{\"backgroundcolor\":\"#E5ECF6\",\"gridcolor\":\"white\",\"linecolor\":\"white\",\"showbackground\":true,\"ticks\":\"\",\"zerolinecolor\":\"white\",\"gridwidth\":2},\"yaxis\":{\"backgroundcolor\":\"#E5ECF6\",\"gridcolor\":\"white\",\"linecolor\":\"white\",\"showbackground\":true,\"ticks\":\"\",\"zerolinecolor\":\"white\",\"gridwidth\":2},\"zaxis\":{\"backgroundcolor\":\"#E5ECF6\",\"gridcolor\":\"white\",\"linecolor\":\"white\",\"showbackground\":true,\"ticks\":\"\",\"zerolinecolor\":\"white\",\"gridwidth\":2}},\"shapedefaults\":{\"line\":{\"color\":\"#2a3f5f\"}},\"annotationdefaults\":{\"arrowcolor\":\"#2a3f5f\",\"arrowhead\":0,\"arrowwidth\":1},\"geo\":{\"bgcolor\":\"white\",\"landcolor\":\"#E5ECF6\",\"subunitcolor\":\"white\",\"showland\":true,\"showlakes\":true,\"lakecolor\":\"white\"},\"title\":{\"x\":0.05},\"mapbox\":{\"style\":\"light\"}}},\"xaxis\":{\"anchor\":\"y\",\"domain\":[0.0,1.0],\"title\":{\"text\":\"Counts\"}},\"yaxis\":{\"anchor\":\"x\",\"domain\":[0.0,1.0],\"title\":{\"text\":\"AgeOfStore\"},\"tickmode\":\"linear\",\"dtick\":5},\"legend\":{\"title\":{\"text\":\"Promotion\"},\"tracegroupgap\":0},\"margin\":{\"t\":60},\"barmode\":\"group\",\"title\":{\"text\":\"\\u003cb\\u003eAge Of Store in Different Promotions\\u003c\\u002fb\\u003e\",\"font\":{\"size\":20}}},                        {\"responsive\": true}                    ).then(function(){\n",
              "                            \n",
              "var gd = document.getElementById('4d5c476a-5501-4122-8240-dc3ae04b934f');\n",
              "var x = new MutationObserver(function (mutations, observer) {{\n",
              "        var display = window.getComputedStyle(gd).display;\n",
              "        if (!display || display === 'none') {{\n",
              "            console.log([gd, 'removed!']);\n",
              "            Plotly.purge(gd);\n",
              "            observer.disconnect();\n",
              "        }}\n",
              "}});\n",
              "\n",
              "// Listen for the removal of the full notebook cells\n",
              "var notebookContainer = gd.closest('#notebook-container');\n",
              "if (notebookContainer) {{\n",
              "    x.observe(notebookContainer, {childList: true});\n",
              "}}\n",
              "\n",
              "// Listen for the clearing of the current output cell\n",
              "var outputEl = gd.closest('.output');\n",
              "if (outputEl) {{\n",
              "    x.observe(outputEl, {childList: true});\n",
              "}}\n",
              "\n",
              "                        })                };                            </script>        </div>\n",
              "</body>\n",
              "</html>"
            ]
          },
          "metadata": {}
        }
      ]
    },
    {
      "cell_type": "code",
      "source": [
        "market_campaign.groupby('Promotion').describe()['AgeOfStore']"
      ],
      "metadata": {
        "colab": {
          "base_uri": "https://localhost:8080/",
          "height": 181
        },
        "id": "XDavuYCCzMqi",
        "outputId": "ceef7fa3-3d5d-4813-e86a-c05b25bac7e2"
      },
      "execution_count": 37,
      "outputs": [
        {
          "output_type": "execute_result",
          "data": {
            "text/plain": [
              "             count      mean       std  min  25%  50%   75%   max\n",
              "Promotion                                                        \n",
              "Promotion_1  172.0  8.279070  6.636160  1.0  3.0  6.0  12.0  27.0\n",
              "Promotion_2  188.0  7.978723  6.597648  1.0  3.0  7.0  10.0  28.0\n",
              "Promotion_3  188.0  9.234043  6.651646  1.0  5.0  8.0  12.0  24.0"
            ],
            "text/html": [
              "\n",
              "  <div id=\"df-f39a4aa0-a17a-4b76-a37b-424a2f633da4\" class=\"colab-df-container\">\n",
              "    <div>\n",
              "<style scoped>\n",
              "    .dataframe tbody tr th:only-of-type {\n",
              "        vertical-align: middle;\n",
              "    }\n",
              "\n",
              "    .dataframe tbody tr th {\n",
              "        vertical-align: top;\n",
              "    }\n",
              "\n",
              "    .dataframe thead th {\n",
              "        text-align: right;\n",
              "    }\n",
              "</style>\n",
              "<table border=\"1\" class=\"dataframe\">\n",
              "  <thead>\n",
              "    <tr style=\"text-align: right;\">\n",
              "      <th></th>\n",
              "      <th>count</th>\n",
              "      <th>mean</th>\n",
              "      <th>std</th>\n",
              "      <th>min</th>\n",
              "      <th>25%</th>\n",
              "      <th>50%</th>\n",
              "      <th>75%</th>\n",
              "      <th>max</th>\n",
              "    </tr>\n",
              "    <tr>\n",
              "      <th>Promotion</th>\n",
              "      <th></th>\n",
              "      <th></th>\n",
              "      <th></th>\n",
              "      <th></th>\n",
              "      <th></th>\n",
              "      <th></th>\n",
              "      <th></th>\n",
              "      <th></th>\n",
              "    </tr>\n",
              "  </thead>\n",
              "  <tbody>\n",
              "    <tr>\n",
              "      <th>Promotion_1</th>\n",
              "      <td>172.0</td>\n",
              "      <td>8.279070</td>\n",
              "      <td>6.636160</td>\n",
              "      <td>1.0</td>\n",
              "      <td>3.0</td>\n",
              "      <td>6.0</td>\n",
              "      <td>12.0</td>\n",
              "      <td>27.0</td>\n",
              "    </tr>\n",
              "    <tr>\n",
              "      <th>Promotion_2</th>\n",
              "      <td>188.0</td>\n",
              "      <td>7.978723</td>\n",
              "      <td>6.597648</td>\n",
              "      <td>1.0</td>\n",
              "      <td>3.0</td>\n",
              "      <td>7.0</td>\n",
              "      <td>10.0</td>\n",
              "      <td>28.0</td>\n",
              "    </tr>\n",
              "    <tr>\n",
              "      <th>Promotion_3</th>\n",
              "      <td>188.0</td>\n",
              "      <td>9.234043</td>\n",
              "      <td>6.651646</td>\n",
              "      <td>1.0</td>\n",
              "      <td>5.0</td>\n",
              "      <td>8.0</td>\n",
              "      <td>12.0</td>\n",
              "      <td>24.0</td>\n",
              "    </tr>\n",
              "  </tbody>\n",
              "</table>\n",
              "</div>\n",
              "    <div class=\"colab-df-buttons\">\n",
              "\n",
              "  <div class=\"colab-df-container\">\n",
              "    <button class=\"colab-df-convert\" onclick=\"convertToInteractive('df-f39a4aa0-a17a-4b76-a37b-424a2f633da4')\"\n",
              "            title=\"Convert this dataframe to an interactive table.\"\n",
              "            style=\"display:none;\">\n",
              "\n",
              "  <svg xmlns=\"http://www.w3.org/2000/svg\" height=\"24px\" viewBox=\"0 -960 960 960\">\n",
              "    <path d=\"M120-120v-720h720v720H120Zm60-500h600v-160H180v160Zm220 220h160v-160H400v160Zm0 220h160v-160H400v160ZM180-400h160v-160H180v160Zm440 0h160v-160H620v160ZM180-180h160v-160H180v160Zm440 0h160v-160H620v160Z\"/>\n",
              "  </svg>\n",
              "    </button>\n",
              "\n",
              "  <style>\n",
              "    .colab-df-container {\n",
              "      display:flex;\n",
              "      gap: 12px;\n",
              "    }\n",
              "\n",
              "    .colab-df-convert {\n",
              "      background-color: #E8F0FE;\n",
              "      border: none;\n",
              "      border-radius: 50%;\n",
              "      cursor: pointer;\n",
              "      display: none;\n",
              "      fill: #1967D2;\n",
              "      height: 32px;\n",
              "      padding: 0 0 0 0;\n",
              "      width: 32px;\n",
              "    }\n",
              "\n",
              "    .colab-df-convert:hover {\n",
              "      background-color: #E2EBFA;\n",
              "      box-shadow: 0px 1px 2px rgba(60, 64, 67, 0.3), 0px 1px 3px 1px rgba(60, 64, 67, 0.15);\n",
              "      fill: #174EA6;\n",
              "    }\n",
              "\n",
              "    .colab-df-buttons div {\n",
              "      margin-bottom: 4px;\n",
              "    }\n",
              "\n",
              "    [theme=dark] .colab-df-convert {\n",
              "      background-color: #3B4455;\n",
              "      fill: #D2E3FC;\n",
              "    }\n",
              "\n",
              "    [theme=dark] .colab-df-convert:hover {\n",
              "      background-color: #434B5C;\n",
              "      box-shadow: 0px 1px 3px 1px rgba(0, 0, 0, 0.15);\n",
              "      filter: drop-shadow(0px 1px 2px rgba(0, 0, 0, 0.3));\n",
              "      fill: #FFFFFF;\n",
              "    }\n",
              "  </style>\n",
              "\n",
              "    <script>\n",
              "      const buttonEl =\n",
              "        document.querySelector('#df-f39a4aa0-a17a-4b76-a37b-424a2f633da4 button.colab-df-convert');\n",
              "      buttonEl.style.display =\n",
              "        google.colab.kernel.accessAllowed ? 'block' : 'none';\n",
              "\n",
              "      async function convertToInteractive(key) {\n",
              "        const element = document.querySelector('#df-f39a4aa0-a17a-4b76-a37b-424a2f633da4');\n",
              "        const dataTable =\n",
              "          await google.colab.kernel.invokeFunction('convertToInteractive',\n",
              "                                                    [key], {});\n",
              "        if (!dataTable) return;\n",
              "\n",
              "        const docLinkHtml = 'Like what you see? Visit the ' +\n",
              "          '<a target=\"_blank\" href=https://colab.research.google.com/notebooks/data_table.ipynb>data table notebook</a>'\n",
              "          + ' to learn more about interactive tables.';\n",
              "        element.innerHTML = '';\n",
              "        dataTable['output_type'] = 'display_data';\n",
              "        await google.colab.output.renderOutput(dataTable, element);\n",
              "        const docLink = document.createElement('div');\n",
              "        docLink.innerHTML = docLinkHtml;\n",
              "        element.appendChild(docLink);\n",
              "      }\n",
              "    </script>\n",
              "  </div>\n",
              "\n",
              "\n",
              "<div id=\"df-d3501179-8f3d-49b9-b05e-7f9b9bc8563a\">\n",
              "  <button class=\"colab-df-quickchart\" onclick=\"quickchart('df-d3501179-8f3d-49b9-b05e-7f9b9bc8563a')\"\n",
              "            title=\"Suggest charts.\"\n",
              "            style=\"display:none;\">\n",
              "\n",
              "<svg xmlns=\"http://www.w3.org/2000/svg\" height=\"24px\"viewBox=\"0 0 24 24\"\n",
              "     width=\"24px\">\n",
              "    <g>\n",
              "        <path d=\"M19 3H5c-1.1 0-2 .9-2 2v14c0 1.1.9 2 2 2h14c1.1 0 2-.9 2-2V5c0-1.1-.9-2-2-2zM9 17H7v-7h2v7zm4 0h-2V7h2v10zm4 0h-2v-4h2v4z\"/>\n",
              "    </g>\n",
              "</svg>\n",
              "  </button>\n",
              "\n",
              "<style>\n",
              "  .colab-df-quickchart {\n",
              "    background-color: #E8F0FE;\n",
              "    border: none;\n",
              "    border-radius: 50%;\n",
              "    cursor: pointer;\n",
              "    display: none;\n",
              "    fill: #1967D2;\n",
              "    height: 32px;\n",
              "    padding: 0 0 0 0;\n",
              "    width: 32px;\n",
              "  }\n",
              "\n",
              "  .colab-df-quickchart:hover {\n",
              "    background-color: #E2EBFA;\n",
              "    box-shadow: 0px 1px 2px rgba(60, 64, 67, 0.3), 0px 1px 3px 1px rgba(60, 64, 67, 0.15);\n",
              "    fill: #174EA6;\n",
              "  }\n",
              "\n",
              "  [theme=dark] .colab-df-quickchart {\n",
              "    background-color: #3B4455;\n",
              "    fill: #D2E3FC;\n",
              "  }\n",
              "\n",
              "  [theme=dark] .colab-df-quickchart:hover {\n",
              "    background-color: #434B5C;\n",
              "    box-shadow: 0px 1px 3px 1px rgba(0, 0, 0, 0.15);\n",
              "    filter: drop-shadow(0px 1px 2px rgba(0, 0, 0, 0.3));\n",
              "    fill: #FFFFFF;\n",
              "  }\n",
              "</style>\n",
              "\n",
              "  <script>\n",
              "    async function quickchart(key) {\n",
              "      const charts = await google.colab.kernel.invokeFunction(\n",
              "          'suggestCharts', [key], {});\n",
              "    }\n",
              "    (() => {\n",
              "      let quickchartButtonEl =\n",
              "        document.querySelector('#df-d3501179-8f3d-49b9-b05e-7f9b9bc8563a button');\n",
              "      quickchartButtonEl.style.display =\n",
              "        google.colab.kernel.accessAllowed ? 'block' : 'none';\n",
              "    })();\n",
              "  </script>\n",
              "</div>\n",
              "    </div>\n",
              "  </div>\n"
            ]
          },
          "metadata": {},
          "execution_count": 37
        }
      ]
    },
    {
      "cell_type": "markdown",
      "source": [
        "The histogram is revealing that a significant portion of markets have an age of store ranging from 0-4 years for Promotion_1 and Promotion_2 and\n",
        "5 to 9 years for Promotion_3.\n",
        "\n",
        "The statistical analysis aligns with the histogram discloses that around 75% of the markets implementing promotions have a store age below 10-12 years, with an average age of approximately 8-9 years."
      ],
      "metadata": {
        "id": "3ZQFvdF-mzPm"
      }
    },
    {
      "cell_type": "markdown",
      "source": [
        "## **A/B Testing**"
      ],
      "metadata": {
        "id": "N8KE8jZUL5nu"
      }
    },
    {
      "cell_type": "markdown",
      "source": [
        "In order to compare the promotions, we need to implement A/B testing with two hypotheses concepts:\n",
        "*   **Null Hypothesis (H0)**: The statement that there is no effect or no significant difference between variables\n",
        "*   **Alternative Hypothesis (H1)**: The statement that contradicts the null hypothesis\n",
        "\n",
        "and two type of values:\n",
        "*   **T-value**: The value computed from the sample data that summarizes the evidence against the null hypothesis. *The larger value, the higher degree of difference of variables*\n",
        "*   **P-value**: The value showed the probability of obtaining a test statistic as extreme as the one calculated from the sample data, assuming the null hypothesis is true. *The smaller value, the more statistically difference of variables*\n",
        "\n",
        "The significant level (α) we used is 0.05%. Subsequently,\n",
        "*   **P-value ≤ α**, you reject the null hypothesis and conclude that there is evidence to support the alternative hypothesis (significant difference)\n",
        "*   **P-value > α**, you fail to reject the null hypothesis, meaning that there is not enough evidence to support the alternative hypothesis (no significant difference)"
      ],
      "metadata": {
        "id": "5GgvhiyEMNN7"
      }
    },
    {
      "cell_type": "markdown",
      "source": [
        "Histogram and Shapiro-Wilk test presented to check the distribution of sales by different promotions and whether each of them is normally distributed or not in an effort to choose the suited type of hypothesis"
      ],
      "metadata": {
        "id": "YTpbhHpmP9tj"
      }
    },
    {
      "cell_type": "code",
      "source": [
        "norm = px.histogram(market_campaign, x='SalesInThousands', color=market_campaign['Promotion'], color_discrete_sequence=['#d00000', '#ffba08', '#3f88c5'], nbins=20, facet_col='Promotion', facet_col_wrap=3)\n",
        "norm.update_layout(title='<b>Sales Distribution by Different Promotions</b>', yaxis_title='Counts')\n",
        "\n",
        "norm.show()"
      ],
      "metadata": {
        "colab": {
          "base_uri": "https://localhost:8080/",
          "height": 542
        },
        "id": "7WwM3f7ZBtCb",
        "outputId": "335eaa74-6a63-4320-c895-7023dd918f47"
      },
      "execution_count": 25,
      "outputs": [
        {
          "output_type": "display_data",
          "data": {
            "text/html": [
              "<html>\n",
              "<head><meta charset=\"utf-8\" /></head>\n",
              "<body>\n",
              "    <div>            <script src=\"https://cdnjs.cloudflare.com/ajax/libs/mathjax/2.7.5/MathJax.js?config=TeX-AMS-MML_SVG\"></script><script type=\"text/javascript\">if (window.MathJax && window.MathJax.Hub && window.MathJax.Hub.Config) {window.MathJax.Hub.Config({SVG: {font: \"STIX-Web\"}});}</script>                <script type=\"text/javascript\">window.PlotlyConfig = {MathJaxConfig: 'local'};</script>\n",
              "        <script charset=\"utf-8\" src=\"https://cdn.plot.ly/plotly-2.24.1.min.js\"></script>                <div id=\"398d6719-c0fc-44d9-bc54-cab46c551a0d\" class=\"plotly-graph-div\" style=\"height:525px; width:100%;\"></div>            <script type=\"text/javascript\">                                    window.PLOTLYENV=window.PLOTLYENV || {};                                    if (document.getElementById(\"398d6719-c0fc-44d9-bc54-cab46c551a0d\")) {                    Plotly.newPlot(                        \"398d6719-c0fc-44d9-bc54-cab46c551a0d\",                        [{\"alignmentgroup\":\"True\",\"bingroup\":\"x\",\"hovertemplate\":\"Promotion=Promotion_3\\u003cbr\\u003eSalesInThousands=%{x}\\u003cbr\\u003ecount=%{y}\\u003cextra\\u003e\\u003c\\u002fextra\\u003e\",\"legendgroup\":\"Promotion_3\",\"marker\":{\"color\":\"#d00000\",\"pattern\":{\"shape\":\"\"}},\"name\":\"Promotion_3\",\"nbinsx\":20,\"offsetgroup\":\"Promotion_3\",\"orientation\":\"v\",\"showlegend\":true,\"x\":[33.73,35.67,29.03,39.25,32.9,22.18,42.98,26.68,33.42,37.93,33.85,40.25,61.59,63.64,54.68,61.24,62.93,58.77,70.6,65.06,59.76,66.11,62.16,64.04,59.65,57.04,59.73,56.72,58.55,62.19,53.14,62.27,86.14,82.56,79.36,77.17,89.7,78.43,84.05,81.18,83.02,90.3,85.18,89.77,82.64,82.89,82.13,88.91,87.7,81.16,81.58,94.21,96.48,84.13,91.98,81.72,84.34,87.9,76.12,82.72,94.89,74.75,93.63,80.82,91.61,79.02,86.11,82.88,51.47,53.47,46.83,56.7,52.23,51.68,46.22,46.03,45.56,55.19,37.84,50.07,50.11,55.59,54.37,51.91,57.37,55.53,51.16,57.06,50.59,48.64,50.55,49.08,24.75,41.47,35.1,34.33,37.17,30.52,32.51,29.12,47.48,39.41,43.29,42.59,34.46,40.13,32.18,43.73,49.01,46.29,37.14,42.82,47.22,35.24,47.22,43.15,40.29,48.35,43.26,44.2,46.14,41.12,45.03,38.85,41.96,42.27,38.51,43.51,40.43,51.15,42.5,52.76,47.63,52.21,40.17,48.36,53.56,49.72,48.77,46.84,49.67,49.98,49.5,47.35,50.26,52.05,51.14,46.3,54.79,52.39,42.15,49.63,48.06,51.09,44.19,49.52,44.66,53.78,43.91,52.41,50.94,49.38,63.98,45.84,51.01,56.16,45.77,46.47,55.9,59.8,60.97,64.14,39.98,54.58,52.64,45.43,51.89,51.17,54.33,50.05,54.34,60.24,56.39,58.33,53.5,56.34,51.83,50.2],\"xaxis\":\"x\",\"yaxis\":\"y\",\"type\":\"histogram\"},{\"alignmentgroup\":\"True\",\"bingroup\":\"x\",\"hovertemplate\":\"Promotion=Promotion_2\\u003cbr\\u003eSalesInThousands=%{x}\\u003cbr\\u003ecount=%{y}\\u003cextra\\u003e\\u003c\\u002fextra\\u003e\",\"legendgroup\":\"Promotion_2\",\"marker\":{\"color\":\"#ffba08\",\"pattern\":{\"shape\":\"\"}},\"name\":\"Promotion_2\",\"nbinsx\":20,\"offsetgroup\":\"Promotion_2\",\"orientation\":\"v\",\"showlegend\":true,\"x\":[27.81,34.67,27.98,27.72,39.28,39.8,24.77,30.98,30.37,24.82,37.47,23.35,30.08,28.62,25.4,27.26,34.27,29.3,23.93,35.16,87.43,81.79,88.12,75.29,88.64,81.37,82.14,79.64,73.22,75.88,78.01,80.17,82.65,77.39,80.83,80.75,66.22,82.86,83.4,75.61,79.53,74.03,78.53,76.71,49.61,43.69,54.49,61.25,47.89,52.37,49.11,52.88,46.98,53.41,36.17,55.98,51.87,58.01,47.93,51.33,40.4,50.28,52.72,38.3,51.79,42.56,44.64,45.11,42.15,42.59,49.56,39.25,48.18,48.25,46.42,43.77,45.3,48.84,45.08,44.67,47.33,45.42,44.31,40.26,43.27,48.33,44.14,51.5,46.26,47.71,54.09,46.89,31.94,29.64,33.64,36.05,36.7,41.53,27.71,37.2,32.21,38.41,37.9,44.84,37.45,35.46,31.85,19.26,38.65,17.34,33.14,23.44,32.77,30.26,27.55,27.37,40.71,38.26,41.44,25.7,49.39,40.25,42.46,31.62,38.56,37.29,35.6,33.35,48.5,36.8,48.32,41.54,32.61,57.27,37.32,41.22,39.73,50.3,40.16,41.37,48.76,44.14,58.1,44.16,46.02,51.09,51.68,55.91,53.76,39.36,47.2,53.66,51.09,54.82,44.16,53.95,51.26,51.73,51.35,41.85,45.21,55.02,45.35,47.06,43.59,46.03,47.22,51.41,55.39,49.16,58.26,48.12,49.98,44.84,55.12,47.36,44.7,43.44,52.36,45.9,43.61,46.2,51.52,49.71,50.2,45.75,44.29,49.41],\"xaxis\":\"x2\",\"yaxis\":\"y2\",\"type\":\"histogram\"},{\"alignmentgroup\":\"True\",\"bingroup\":\"x\",\"hovertemplate\":\"Promotion=Promotion_1\\u003cbr\\u003eSalesInThousands=%{x}\\u003cbr\\u003ecount=%{y}\\u003cextra\\u003e\\u003c\\u002fextra\\u003e\",\"legendgroup\":\"Promotion_1\",\"marker\":{\"color\":\"#3f88c5\",\"pattern\":{\"shape\":\"\"}},\"name\":\"Promotion_1\",\"nbinsx\":20,\"offsetgroup\":\"Promotion_1\",\"orientation\":\"v\",\"showlegend\":true,\"x\":[44.54,37.94,45.49,34.75,42.92,42.16,51.72,36.17,37.41,38.64,40.9,41.11,35.85,36.24,41.73,37.32,50.48,36.88,35.68,46.45,67.48,65.57,68.42,60.93,88.73,85.21,81.55,94.17,93.71,96.01,93.03,97.61,85.11,88.07,94.43,89.44,91.6,80.61,93.86,83.43,99.65,88.64,86.96,89.25,87.08,89.32,99.12,85.85,93.32,85.71,77.36,91.29,55.94,61.36,56.19,62.06,54.01,63.48,61.96,55.3,53.79,66.96,57.1,65.12,62.16,54.06,51.72,59.64,49.95,55.11,55.28,54.7,59.34,62.63,49.08,58.04,42.16,36.8,46.98,47.35,40.46,41.25,32.05,47.5,35.3,35.86,49.3,30.81,44.98,41.71,41.1,40.97,41.1,41.56,36.39,39.67,53.38,55.31,56.1,43.24,48.18,43.11,43.78,56.9,53.53,47.92,56.18,46.66,42.76,50.52,56.86,47.51,51.82,45.02,49.44,51.32,52.85,40.84,64.45,44.43,56.64,46.06,55.46,51.41,56.99,45.57,45.92,50.52,54.95,55.78,46.49,56.84,65.11,54.38,57.14,49.91,50.54,58.43,59.77,60.44,49.3,61.8,58.0,55.2,61.53,59.17,63.73,61.77,58.19,62.72,66.66,64.66,66.34,60.59,61.95,67.84,62.33,53.68,62.37,63.58,53.51,49.76,68.31,66.1,49.62,62.54,50.11,61.63,59.87,62.99,57.2,64.34],\"xaxis\":\"x3\",\"yaxis\":\"y3\",\"type\":\"histogram\"}],                        {\"template\":{\"data\":{\"histogram2dcontour\":[{\"type\":\"histogram2dcontour\",\"colorbar\":{\"outlinewidth\":0,\"ticks\":\"\"},\"colorscale\":[[0.0,\"#0d0887\"],[0.1111111111111111,\"#46039f\"],[0.2222222222222222,\"#7201a8\"],[0.3333333333333333,\"#9c179e\"],[0.4444444444444444,\"#bd3786\"],[0.5555555555555556,\"#d8576b\"],[0.6666666666666666,\"#ed7953\"],[0.7777777777777778,\"#fb9f3a\"],[0.8888888888888888,\"#fdca26\"],[1.0,\"#f0f921\"]]}],\"choropleth\":[{\"type\":\"choropleth\",\"colorbar\":{\"outlinewidth\":0,\"ticks\":\"\"}}],\"histogram2d\":[{\"type\":\"histogram2d\",\"colorbar\":{\"outlinewidth\":0,\"ticks\":\"\"},\"colorscale\":[[0.0,\"#0d0887\"],[0.1111111111111111,\"#46039f\"],[0.2222222222222222,\"#7201a8\"],[0.3333333333333333,\"#9c179e\"],[0.4444444444444444,\"#bd3786\"],[0.5555555555555556,\"#d8576b\"],[0.6666666666666666,\"#ed7953\"],[0.7777777777777778,\"#fb9f3a\"],[0.8888888888888888,\"#fdca26\"],[1.0,\"#f0f921\"]]}],\"heatmap\":[{\"type\":\"heatmap\",\"colorbar\":{\"outlinewidth\":0,\"ticks\":\"\"},\"colorscale\":[[0.0,\"#0d0887\"],[0.1111111111111111,\"#46039f\"],[0.2222222222222222,\"#7201a8\"],[0.3333333333333333,\"#9c179e\"],[0.4444444444444444,\"#bd3786\"],[0.5555555555555556,\"#d8576b\"],[0.6666666666666666,\"#ed7953\"],[0.7777777777777778,\"#fb9f3a\"],[0.8888888888888888,\"#fdca26\"],[1.0,\"#f0f921\"]]}],\"heatmapgl\":[{\"type\":\"heatmapgl\",\"colorbar\":{\"outlinewidth\":0,\"ticks\":\"\"},\"colorscale\":[[0.0,\"#0d0887\"],[0.1111111111111111,\"#46039f\"],[0.2222222222222222,\"#7201a8\"],[0.3333333333333333,\"#9c179e\"],[0.4444444444444444,\"#bd3786\"],[0.5555555555555556,\"#d8576b\"],[0.6666666666666666,\"#ed7953\"],[0.7777777777777778,\"#fb9f3a\"],[0.8888888888888888,\"#fdca26\"],[1.0,\"#f0f921\"]]}],\"contourcarpet\":[{\"type\":\"contourcarpet\",\"colorbar\":{\"outlinewidth\":0,\"ticks\":\"\"}}],\"contour\":[{\"type\":\"contour\",\"colorbar\":{\"outlinewidth\":0,\"ticks\":\"\"},\"colorscale\":[[0.0,\"#0d0887\"],[0.1111111111111111,\"#46039f\"],[0.2222222222222222,\"#7201a8\"],[0.3333333333333333,\"#9c179e\"],[0.4444444444444444,\"#bd3786\"],[0.5555555555555556,\"#d8576b\"],[0.6666666666666666,\"#ed7953\"],[0.7777777777777778,\"#fb9f3a\"],[0.8888888888888888,\"#fdca26\"],[1.0,\"#f0f921\"]]}],\"surface\":[{\"type\":\"surface\",\"colorbar\":{\"outlinewidth\":0,\"ticks\":\"\"},\"colorscale\":[[0.0,\"#0d0887\"],[0.1111111111111111,\"#46039f\"],[0.2222222222222222,\"#7201a8\"],[0.3333333333333333,\"#9c179e\"],[0.4444444444444444,\"#bd3786\"],[0.5555555555555556,\"#d8576b\"],[0.6666666666666666,\"#ed7953\"],[0.7777777777777778,\"#fb9f3a\"],[0.8888888888888888,\"#fdca26\"],[1.0,\"#f0f921\"]]}],\"mesh3d\":[{\"type\":\"mesh3d\",\"colorbar\":{\"outlinewidth\":0,\"ticks\":\"\"}}],\"scatter\":[{\"fillpattern\":{\"fillmode\":\"overlay\",\"size\":10,\"solidity\":0.2},\"type\":\"scatter\"}],\"parcoords\":[{\"type\":\"parcoords\",\"line\":{\"colorbar\":{\"outlinewidth\":0,\"ticks\":\"\"}}}],\"scatterpolargl\":[{\"type\":\"scatterpolargl\",\"marker\":{\"colorbar\":{\"outlinewidth\":0,\"ticks\":\"\"}}}],\"bar\":[{\"error_x\":{\"color\":\"#2a3f5f\"},\"error_y\":{\"color\":\"#2a3f5f\"},\"marker\":{\"line\":{\"color\":\"#E5ECF6\",\"width\":0.5},\"pattern\":{\"fillmode\":\"overlay\",\"size\":10,\"solidity\":0.2}},\"type\":\"bar\"}],\"scattergeo\":[{\"type\":\"scattergeo\",\"marker\":{\"colorbar\":{\"outlinewidth\":0,\"ticks\":\"\"}}}],\"scatterpolar\":[{\"type\":\"scatterpolar\",\"marker\":{\"colorbar\":{\"outlinewidth\":0,\"ticks\":\"\"}}}],\"histogram\":[{\"marker\":{\"pattern\":{\"fillmode\":\"overlay\",\"size\":10,\"solidity\":0.2}},\"type\":\"histogram\"}],\"scattergl\":[{\"type\":\"scattergl\",\"marker\":{\"colorbar\":{\"outlinewidth\":0,\"ticks\":\"\"}}}],\"scatter3d\":[{\"type\":\"scatter3d\",\"line\":{\"colorbar\":{\"outlinewidth\":0,\"ticks\":\"\"}},\"marker\":{\"colorbar\":{\"outlinewidth\":0,\"ticks\":\"\"}}}],\"scattermapbox\":[{\"type\":\"scattermapbox\",\"marker\":{\"colorbar\":{\"outlinewidth\":0,\"ticks\":\"\"}}}],\"scatterternary\":[{\"type\":\"scatterternary\",\"marker\":{\"colorbar\":{\"outlinewidth\":0,\"ticks\":\"\"}}}],\"scattercarpet\":[{\"type\":\"scattercarpet\",\"marker\":{\"colorbar\":{\"outlinewidth\":0,\"ticks\":\"\"}}}],\"carpet\":[{\"aaxis\":{\"endlinecolor\":\"#2a3f5f\",\"gridcolor\":\"white\",\"linecolor\":\"white\",\"minorgridcolor\":\"white\",\"startlinecolor\":\"#2a3f5f\"},\"baxis\":{\"endlinecolor\":\"#2a3f5f\",\"gridcolor\":\"white\",\"linecolor\":\"white\",\"minorgridcolor\":\"white\",\"startlinecolor\":\"#2a3f5f\"},\"type\":\"carpet\"}],\"table\":[{\"cells\":{\"fill\":{\"color\":\"#EBF0F8\"},\"line\":{\"color\":\"white\"}},\"header\":{\"fill\":{\"color\":\"#C8D4E3\"},\"line\":{\"color\":\"white\"}},\"type\":\"table\"}],\"barpolar\":[{\"marker\":{\"line\":{\"color\":\"#E5ECF6\",\"width\":0.5},\"pattern\":{\"fillmode\":\"overlay\",\"size\":10,\"solidity\":0.2}},\"type\":\"barpolar\"}],\"pie\":[{\"automargin\":true,\"type\":\"pie\"}]},\"layout\":{\"autotypenumbers\":\"strict\",\"colorway\":[\"#636efa\",\"#EF553B\",\"#00cc96\",\"#ab63fa\",\"#FFA15A\",\"#19d3f3\",\"#FF6692\",\"#B6E880\",\"#FF97FF\",\"#FECB52\"],\"font\":{\"color\":\"#2a3f5f\"},\"hovermode\":\"closest\",\"hoverlabel\":{\"align\":\"left\"},\"paper_bgcolor\":\"white\",\"plot_bgcolor\":\"#E5ECF6\",\"polar\":{\"bgcolor\":\"#E5ECF6\",\"angularaxis\":{\"gridcolor\":\"white\",\"linecolor\":\"white\",\"ticks\":\"\"},\"radialaxis\":{\"gridcolor\":\"white\",\"linecolor\":\"white\",\"ticks\":\"\"}},\"ternary\":{\"bgcolor\":\"#E5ECF6\",\"aaxis\":{\"gridcolor\":\"white\",\"linecolor\":\"white\",\"ticks\":\"\"},\"baxis\":{\"gridcolor\":\"white\",\"linecolor\":\"white\",\"ticks\":\"\"},\"caxis\":{\"gridcolor\":\"white\",\"linecolor\":\"white\",\"ticks\":\"\"}},\"coloraxis\":{\"colorbar\":{\"outlinewidth\":0,\"ticks\":\"\"}},\"colorscale\":{\"sequential\":[[0.0,\"#0d0887\"],[0.1111111111111111,\"#46039f\"],[0.2222222222222222,\"#7201a8\"],[0.3333333333333333,\"#9c179e\"],[0.4444444444444444,\"#bd3786\"],[0.5555555555555556,\"#d8576b\"],[0.6666666666666666,\"#ed7953\"],[0.7777777777777778,\"#fb9f3a\"],[0.8888888888888888,\"#fdca26\"],[1.0,\"#f0f921\"]],\"sequentialminus\":[[0.0,\"#0d0887\"],[0.1111111111111111,\"#46039f\"],[0.2222222222222222,\"#7201a8\"],[0.3333333333333333,\"#9c179e\"],[0.4444444444444444,\"#bd3786\"],[0.5555555555555556,\"#d8576b\"],[0.6666666666666666,\"#ed7953\"],[0.7777777777777778,\"#fb9f3a\"],[0.8888888888888888,\"#fdca26\"],[1.0,\"#f0f921\"]],\"diverging\":[[0,\"#8e0152\"],[0.1,\"#c51b7d\"],[0.2,\"#de77ae\"],[0.3,\"#f1b6da\"],[0.4,\"#fde0ef\"],[0.5,\"#f7f7f7\"],[0.6,\"#e6f5d0\"],[0.7,\"#b8e186\"],[0.8,\"#7fbc41\"],[0.9,\"#4d9221\"],[1,\"#276419\"]]},\"xaxis\":{\"gridcolor\":\"white\",\"linecolor\":\"white\",\"ticks\":\"\",\"title\":{\"standoff\":15},\"zerolinecolor\":\"white\",\"automargin\":true,\"zerolinewidth\":2},\"yaxis\":{\"gridcolor\":\"white\",\"linecolor\":\"white\",\"ticks\":\"\",\"title\":{\"standoff\":15},\"zerolinecolor\":\"white\",\"automargin\":true,\"zerolinewidth\":2},\"scene\":{\"xaxis\":{\"backgroundcolor\":\"#E5ECF6\",\"gridcolor\":\"white\",\"linecolor\":\"white\",\"showbackground\":true,\"ticks\":\"\",\"zerolinecolor\":\"white\",\"gridwidth\":2},\"yaxis\":{\"backgroundcolor\":\"#E5ECF6\",\"gridcolor\":\"white\",\"linecolor\":\"white\",\"showbackground\":true,\"ticks\":\"\",\"zerolinecolor\":\"white\",\"gridwidth\":2},\"zaxis\":{\"backgroundcolor\":\"#E5ECF6\",\"gridcolor\":\"white\",\"linecolor\":\"white\",\"showbackground\":true,\"ticks\":\"\",\"zerolinecolor\":\"white\",\"gridwidth\":2}},\"shapedefaults\":{\"line\":{\"color\":\"#2a3f5f\"}},\"annotationdefaults\":{\"arrowcolor\":\"#2a3f5f\",\"arrowhead\":0,\"arrowwidth\":1},\"geo\":{\"bgcolor\":\"white\",\"landcolor\":\"#E5ECF6\",\"subunitcolor\":\"white\",\"showland\":true,\"showlakes\":true,\"lakecolor\":\"white\"},\"title\":{\"x\":0.05},\"mapbox\":{\"style\":\"light\"}}},\"xaxis\":{\"anchor\":\"y\",\"domain\":[0.0,0.31999999999999995],\"title\":{\"text\":\"SalesInThousands\"}},\"yaxis\":{\"anchor\":\"x\",\"domain\":[0.0,1.0],\"title\":{\"text\":\"Counts\"}},\"xaxis2\":{\"anchor\":\"y2\",\"domain\":[0.33999999999999997,0.6599999999999999],\"matches\":\"x\",\"title\":{\"text\":\"SalesInThousands\"}},\"yaxis2\":{\"anchor\":\"x2\",\"domain\":[0.0,1.0],\"matches\":\"y\",\"showticklabels\":false},\"xaxis3\":{\"anchor\":\"y3\",\"domain\":[0.6799999999999999,0.9999999999999999],\"matches\":\"x\",\"title\":{\"text\":\"SalesInThousands\"}},\"yaxis3\":{\"anchor\":\"x3\",\"domain\":[0.0,1.0],\"matches\":\"y\",\"showticklabels\":false},\"annotations\":[{\"font\":{},\"showarrow\":false,\"text\":\"Promotion=Promotion_3\",\"x\":0.15999999999999998,\"xanchor\":\"center\",\"xref\":\"paper\",\"y\":1.0,\"yanchor\":\"bottom\",\"yref\":\"paper\"},{\"font\":{},\"showarrow\":false,\"text\":\"Promotion=Promotion_2\",\"x\":0.49999999999999994,\"xanchor\":\"center\",\"xref\":\"paper\",\"y\":1.0,\"yanchor\":\"bottom\",\"yref\":\"paper\"},{\"font\":{},\"showarrow\":false,\"text\":\"Promotion=Promotion_1\",\"x\":0.8399999999999999,\"xanchor\":\"center\",\"xref\":\"paper\",\"y\":1.0,\"yanchor\":\"bottom\",\"yref\":\"paper\"}],\"legend\":{\"title\":{\"text\":\"Promotion\"},\"tracegroupgap\":0},\"margin\":{\"t\":60},\"barmode\":\"relative\",\"title\":{\"text\":\"\\u003cb\\u003eSales Distribution by Different Promotions\\u003c\\u002fb\\u003e\"}},                        {\"responsive\": true}                    ).then(function(){\n",
              "                            \n",
              "var gd = document.getElementById('398d6719-c0fc-44d9-bc54-cab46c551a0d');\n",
              "var x = new MutationObserver(function (mutations, observer) {{\n",
              "        var display = window.getComputedStyle(gd).display;\n",
              "        if (!display || display === 'none') {{\n",
              "            console.log([gd, 'removed!']);\n",
              "            Plotly.purge(gd);\n",
              "            observer.disconnect();\n",
              "        }}\n",
              "}});\n",
              "\n",
              "// Listen for the removal of the full notebook cells\n",
              "var notebookContainer = gd.closest('#notebook-container');\n",
              "if (notebookContainer) {{\n",
              "    x.observe(notebookContainer, {childList: true});\n",
              "}}\n",
              "\n",
              "// Listen for the clearing of the current output cell\n",
              "var outputEl = gd.closest('.output');\n",
              "if (outputEl) {{\n",
              "    x.observe(outputEl, {childList: true});\n",
              "}}\n",
              "\n",
              "                        })                };                            </script>        </div>\n",
              "</body>\n",
              "</html>"
            ]
          },
          "metadata": {}
        }
      ]
    },
    {
      "cell_type": "code",
      "source": [
        "grouped_data = market_campaign.groupby('Promotion')['SalesInThousands']\n",
        "\n",
        "for promotion, data in grouped_data:\n",
        "    shapiro_statistic, p_value = stats.shapiro(data)\n",
        "    print(f\"Promotion: {promotion}\")\n",
        "    print(\"Shapiro-Wilk Test:\", shapiro_statistic)\n",
        "    print(\"P-value:\", p_value)\n",
        "\n",
        "    if p_value < 0.05:\n",
        "        print(\"Data is not normally distributed\")\n",
        "    else:\n",
        "        print(\"Data is normally distributed\")\n",
        "    print(\"\\n\")"
      ],
      "metadata": {
        "id": "lBhJJLBwUDty",
        "outputId": "45cc0889-0587-4a34-ffe3-dfa8256382f8",
        "colab": {
          "base_uri": "https://localhost:8080/"
        }
      },
      "execution_count": 26,
      "outputs": [
        {
          "output_type": "stream",
          "name": "stdout",
          "text": [
            "Promotion: Promotion_1\n",
            "Shapiro-Wilk Test: 0.9152998328208923\n",
            "P-value: 1.9772498305314912e-08\n",
            "Data is not normally distributed\n",
            "\n",
            "\n",
            "Promotion: Promotion_2\n",
            "Shapiro-Wilk Test: 0.9145088195800781\n",
            "P-value: 5.456247009760773e-09\n",
            "Data is not normally distributed\n",
            "\n",
            "\n",
            "Promotion: Promotion_3\n",
            "Shapiro-Wilk Test: 0.9207685589790344\n",
            "P-value: 1.499518376135711e-08\n",
            "Data is not normally distributed\n",
            "\n",
            "\n"
          ]
        }
      ]
    },
    {
      "cell_type": "markdown",
      "source": [
        "Guided by the results above, histogram showed that all types of promotions are the combination of two distinct groups of data with double-peaked distribution which shows bimodal distribution which also confirmed by the Shapiro-Wilk Test whose pointed out that each promotion not normally distributed\n",
        "\n",
        "For this reason, we can't applied the common t-test and utilize non-parametric test, such as Mann-Whitney U test\n",
        "\n",
        "**Mann-Whitney U test** compares distributions of two independent groups without asumming normality (non-normally distributed, unequal variances)\n"
      ],
      "metadata": {
        "id": "2ZbJ1-OKRhW9"
      }
    },
    {
      "cell_type": "markdown",
      "source": [
        "### **Mann-Whitney U test**"
      ],
      "metadata": {
        "id": "2VC38LLKVRXX"
      }
    },
    {
      "cell_type": "markdown",
      "source": [
        "#### **Promotion_1 vs Promotion_2**"
      ],
      "metadata": {
        "id": "fWL2_aD0UXTR"
      }
    },
    {
      "cell_type": "code",
      "source": [
        "group1_data1 = market_campaign[market_campaign['Promotion'] == \"Promotion_1\"][\"SalesInThousands\"]\n",
        "group1_data2 = market_campaign[market_campaign['Promotion'] == \"Promotion_2\"][\"SalesInThousands\"]\n",
        "\n",
        "U_statistic, p_value = stats.mannwhitneyu(group1_data1, group1_data2, alternative='two-sided')\n",
        "\n",
        "print(\"Mann-Whitney U statistic:\", U_statistic)\n",
        "print(\"P-value:\", p_value)\n",
        "\n",
        "if p_value < 0.01:\n",
        "    print(\"Reject null hypothesis: Groups are different\")\n",
        "else:\n",
        "    print(\"Fail to reject null hypothesis: No significant difference between groups\")"
      ],
      "metadata": {
        "colab": {
          "base_uri": "https://localhost:8080/"
        },
        "id": "GS9MfYRTOTQN",
        "outputId": "69b53998-0671-4e1e-e882-1d49c7eb3371"
      },
      "execution_count": null,
      "outputs": [
        {
          "output_type": "stream",
          "name": "stdout",
          "text": [
            "Mann-Whitney U statistic: 22957.5\n",
            "P-value: 5.845935246838518e-12\n",
            "Reject null hypothesis: Groups are different\n"
          ]
        }
      ]
    },
    {
      "cell_type": "markdown",
      "source": [
        "#### **Promotion_2 vs Promotion_3**"
      ],
      "metadata": {
        "id": "-Qtrldr0Uw8q"
      }
    },
    {
      "cell_type": "code",
      "source": [
        "group2_data2 = market_campaign[market_campaign['Promotion'] == \"Promotion_2\"][\"SalesInThousands\"]\n",
        "group2_data3 = market_campaign[market_campaign['Promotion'] == \"Promotion_3\"][\"SalesInThousands\"]\n",
        "\n",
        "U_statistic, p_value = stats.mannwhitneyu(group2_data2, group2_data3, alternative='two-sided')\n",
        "\n",
        "print(\"Mann-Whitney U statistic:\", U_statistic)\n",
        "print(\"P-value:\", p_value)\n",
        "\n",
        "if p_value < 0.01:\n",
        "    print(\"Reject null hypothesis: Groups are different\")\n",
        "else:\n",
        "    print(\"Fail to reject null hypothesis: No significant difference between groups\")"
      ],
      "metadata": {
        "colab": {
          "base_uri": "https://localhost:8080/"
        },
        "outputId": "0f8e560d-afe6-442e-966f-360819867122",
        "id": "9sOg2KKYUr1L"
      },
      "execution_count": null,
      "outputs": [
        {
          "output_type": "stream",
          "name": "stdout",
          "text": [
            "Mann-Whitney U statistic: 12093.0\n",
            "P-value: 1.1970084441651803e-07\n",
            "Reject null hypothesis: Groups are different\n"
          ]
        }
      ]
    },
    {
      "cell_type": "markdown",
      "source": [
        "#### **Promotion_1 vs Promotion_3**"
      ],
      "metadata": {
        "id": "NsXCsPHsUxwb"
      }
    },
    {
      "cell_type": "code",
      "source": [
        "group3_data1 = market_campaign[market_campaign['Promotion'] == \"Promotion_1\"][\"SalesInThousands\"]\n",
        "group3_data3 = market_campaign[market_campaign['Promotion'] == \"Promotion_3\"][\"SalesInThousands\"]\n",
        "\n",
        "U_statistic, p_value = stats.mannwhitneyu(group3_data1, group3_data3, alternative='two-sided')\n",
        "\n",
        "print(\"Mann-Whitney U statistic:\", U_statistic)\n",
        "print(\"P-value:\", p_value)\n",
        "\n",
        "if p_value < 0.01:\n",
        "    print(\"Reject null hypothesis: Groups are different\")\n",
        "else:\n",
        "    print(\"Fail to reject null hypothesis: No significant difference between groups\")"
      ],
      "metadata": {
        "colab": {
          "base_uri": "https://localhost:8080/"
        },
        "outputId": "c95db6be-afdb-4e5c-b6be-d5c73259d53b",
        "id": "zBAQ1TlgUs1k"
      },
      "execution_count": null,
      "outputs": [
        {
          "output_type": "stream",
          "name": "stdout",
          "text": [
            "Mann-Whitney U statistic: 18247.0\n",
            "P-value: 0.035084095693231204\n",
            "Fail to reject null hypothesis: No significant difference between groups\n"
          ]
        }
      ]
    },
    {
      "cell_type": "markdown",
      "source": [
        "Drawing from the results above, we could summarize Promotion_2 are significantly different with other promotion types, meanwhile Promotion_1 and Promotion_3 have no significant difference"
      ],
      "metadata": {
        "id": "lJDh8u_HVzBV"
      }
    },
    {
      "cell_type": "markdown",
      "source": [
        "## **Conclusion**"
      ],
      "metadata": {
        "id": "qUSp6pawxtVO"
      }
    },
    {
      "cell_type": "markdown",
      "source": [
        "Taking the sales distribution into account where Promotion_2 sales are the lowest even with more market distribution employed. Promotion_3 has slightly higher total sales from Promotion_1 in four weeks  considered its market distribution also wider than Promotion_1\n",
        "\n",
        "As a result, Promotion_1 or Promotion_3 with no significance difference can be considered as the best promotion to get implemented\n",
        "\n",
        "We could look out to other details from both promotions such as cost production for Promotion_1 and Promotion_3 before choosing one of the promotions"
      ],
      "metadata": {
        "id": "C4t3zCCrWrsZ"
      }
    }
  ]
}